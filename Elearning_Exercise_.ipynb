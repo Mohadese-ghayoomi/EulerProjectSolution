{
  "nbformat": 4,
  "nbformat_minor": 0,
  "metadata": {
    "colab": {
      "name": "Elearning Exercise .ipynb",
      "provenance": [],
      "collapsed_sections": [],
      "include_colab_link": true
    },
    "kernelspec": {
      "name": "python3",
      "display_name": "Python 3"
    }
  },
  "cells": [
    {
      "cell_type": "markdown",
      "metadata": {
        "id": "view-in-github",
        "colab_type": "text"
      },
      "source": [
        "<a href=\"https://colab.research.google.com/github/Mohadese-ghayoomi/EulerProjectSolution/blob/master/Elearning_Exercise_.ipynb\" target=\"_parent\"><img src=\"https://colab.research.google.com/assets/colab-badge.svg\" alt=\"Open In Colab\"/></a>"
      ]
    },
    {
      "cell_type": "markdown",
      "metadata": {
        "id": "pudSXReLs1TD",
        "colab_type": "text"
      },
      "source": [
        "\n",
        "# **Import Libraries**"
      ]
    },
    {
      "cell_type": "code",
      "metadata": {
        "id": "ImIS8fxIs5wJ",
        "colab_type": "code",
        "outputId": "f49d982b-c0b0-4bb3-ebcd-ae2eb94437c6",
        "colab": {
          "base_uri": "https://localhost:8080/",
          "height": 34
        }
      },
      "source": [
        "%tensorflow_version 2.x \n",
        "import tensorflow as tf\n",
        "from tensorflow import keras\n",
        "import numpy as np\n",
        "import matplotlib.pyplot as plt\n",
        "import os\n",
        "print('Version is',tf.__version__)\n"
      ],
      "execution_count": 1,
      "outputs": [
        {
          "output_type": "stream",
          "text": [
            "Version is 2.2.0-rc3\n"
          ],
          "name": "stdout"
        }
      ]
    },
    {
      "cell_type": "markdown",
      "metadata": {
        "id": "Pa_L9WIn3IUM",
        "colab_type": "text"
      },
      "source": [
        "# **Data Preprocessing**"
      ]
    },
    {
      "cell_type": "markdown",
      "metadata": {
        "id": "WxmibJ7FtQ99",
        "colab_type": "text"
      },
      "source": [
        "**importing the Dataset** "
      ]
    },
    {
      "cell_type": "code",
      "metadata": {
        "id": "VnaBNrXYtRMK",
        "colab_type": "code",
        "outputId": "e3d700d3-153c-4991-c6ec-abfc2e9a00ab",
        "colab": {
          "base_uri": "https://localhost:8080/",
          "height": 51
        }
      },
      "source": [
        "from google.colab import drive; drive.mount('/content/drive')\n",
        "os.getcwd()\n",
        "%cd /content/drive/My Drive/Colab Notebooks\n",
        "from datasets import MNISTDataset\n"
      ],
      "execution_count": 2,
      "outputs": [
        {
          "output_type": "stream",
          "text": [
            "Drive already mounted at /content/drive; to attempt to forcibly remount, call drive.mount(\"/content/drive\", force_remount=True).\n",
            "/content/drive/My Drive/Colab Notebooks\n"
          ],
          "name": "stdout"
        }
      ]
    },
    {
      "cell_type": "markdown",
      "metadata": {
        "id": "ooCeXSfy3YS9",
        "colab_type": "text"
      },
      "source": [
        "**Splitting the datasets into the Training set and Test set**\n"
      ]
    },
    {
      "cell_type": "code",
      "metadata": {
        "id": "azrnQi643ekl",
        "colab_type": "code",
        "outputId": "0cbab245-b88f-474f-aae5-74626417ac95",
        "colab": {
          "base_uri": "https://localhost:8080/",
          "height": 34
        }
      },
      "source": [
        "mnist = keras.datasets.mnist\n",
        "(train_images, train_labels), (test_images, test_labels) = mnist.load_data()\n",
        "print(train_images.shape, train_labels.shape)\n",
        "data = MNISTDataset(train_images.reshape([-1, 784]), train_labels, \n",
        "                    test_images.reshape([-1, 784]), test_labels,\n",
        "                    batch_size=128)\n",
        "def plot_history(net_history):\n",
        "  history = net_history.history\n",
        "  losses = history['loss']\n",
        "  val_losses = history['val_loss']\n",
        "  accuracies = history['accuracy']\n",
        "  val_accuracies = history['val_accuracy']\n",
        "\n",
        "  plt.xlabel('Epochs')\n",
        "  plt.ylabel('Loss')\n",
        "  plt.plot(losses)\n",
        "  plt.plot(val_losses)\n",
        "  plt.legend(['loss','val_loss'])\n",
        "  \n",
        "  plt.figure()\n",
        "  plt.xlabel('Epochs')\n",
        "  plt.ylabel('Accuracy')\n",
        "  plt.plot(accuracies)\n",
        "  plt.plot(val_accuracies)\n",
        "  plt.legend(['accuracy','val_accuracy'])"
      ],
      "execution_count": 3,
      "outputs": [
        {
          "output_type": "stream",
          "text": [
            "(60000, 28, 28) (60000,)\n"
          ],
          "name": "stdout"
        }
      ]
    },
    {
      "cell_type": "markdown",
      "metadata": {
        "id": "fpZVV9hDtpqj",
        "colab_type": "text"
      },
      "source": [
        "# **Assign Class name to data**"
      ]
    },
    {
      "cell_type": "code",
      "metadata": {
        "id": "kibDZC67tow_",
        "colab_type": "code",
        "colab": {}
      },
      "source": [
        "class_names = ['zero','one', 'Two', 'Three', 'Four', 'Five',\n",
        "               'Six', 'Seven', 'eight', 'nine', 'ten']"
      ],
      "execution_count": 0,
      "outputs": []
    },
    {
      "cell_type": "markdown",
      "metadata": {
        "id": "gHqpJtDx6Wrf",
        "colab_type": "text"
      },
      "source": [
        "# **Preprocess the Data**"
      ]
    },
    {
      "cell_type": "code",
      "metadata": {
        "id": "Zmkeux3YuMGS",
        "colab_type": "code",
        "outputId": "94430955-6200-404e-8dfe-43a09f639bc9",
        "colab": {
          "base_uri": "https://localhost:8080/",
          "height": 337
        }
      },
      "source": [
        "# The Pixel values in Range 0 to 255\n",
        "print(train_images.shape)\n",
        "print(train_labels.shape)\n",
        "print(len(test_images))\n",
        "plt.figure()\n",
        "plt.imshow(train_images[0])\n",
        "plt.colorbar()\n"
      ],
      "execution_count": 41,
      "outputs": [
        {
          "output_type": "stream",
          "text": [
            "(60000, 28, 28)\n",
            "(60000,)\n",
            "10000\n"
          ],
          "name": "stdout"
        },
        {
          "output_type": "execute_result",
          "data": {
            "text/plain": [
              "<matplotlib.colorbar.Colorbar at 0x7f694c2c2e48>"
            ]
          },
          "metadata": {
            "tags": []
          },
          "execution_count": 41
        },
        {
          "output_type": "display_data",
          "data": {
            "image/png": "[encoded data removed]",
            "text/plain": [
              "<Figure size 432x288 with 2 Axes>"
            ]
          },
          "metadata": {
            "tags": [],
            "needs_background": "light"
          }
        }
      ]
    },
    {
      "cell_type": "markdown",
      "metadata": {
        "id": "JsVNuRmgvNf8",
        "colab_type": "text"
      },
      "source": [
        "# **Convert the range of numbers between 0 and 1 before feeding to the network**"
      ]
    },
    {
      "cell_type": "code",
      "metadata": {
        "id": "kNu9k9ZvvNsc",
        "colab_type": "code",
        "outputId": "50ea3a39-af93-4ba5-ae52-8164c4acaabb",
        "colab": {
          "base_uri": "https://localhost:8080/",
          "height": 286
        }
      },
      "source": [
        "#Divided the Values by 255\n",
        "train_images = train_images / 255.0\n",
        "test_images = test_images / 255.0\n",
        "plt.figure()\n",
        "plt.imshow(train_images[0])\n",
        "plt.colorbar()"
      ],
      "execution_count": 6,
      "outputs": [
        {
          "output_type": "execute_result",
          "data": {
            "text/plain": [
              "<matplotlib.colorbar.Colorbar at 0x7f6956d2e0b8>"
            ]
          },
          "metadata": {
            "tags": []
          },
          "execution_count": 6
        },
        {
          "output_type": "display_data",
          "data": {
            "image/png": "[encoded data removed]",
            "text/plain": [
              "<Figure size 432x288 with 2 Axes>"
            ]
          },
          "metadata": {
            "tags": [],
            "needs_background": "light"
          }
        }
      ]
    },
    {
      "cell_type": "markdown",
      "metadata": {
        "id": "xXCaDyk9vwiC",
        "colab_type": "text"
      },
      "source": [
        "# **Building the ANN**"
      ]
    },
    {
      "cell_type": "markdown",
      "metadata": {
        "id": "LZW_iQH58xyI",
        "colab_type": "text"
      },
      "source": [
        "**Initialising the ANN**"
      ]
    },
    {
      "cell_type": "code",
      "metadata": {
        "id": "xmIbmJqL7DLO",
        "colab_type": "code",
        "colab": {}
      },
      "source": [
        "# create an object of the sequential class(sequential class which creates a new ANN as a sequence of layers)\n",
        "ann =tf.keras.models.Sequential()"
      ],
      "execution_count": 0,
      "outputs": []
    },
    {
      "cell_type": "markdown",
      "metadata": {
        "id": "z5vlBsLP-xXR",
        "colab_type": "text"
      },
      "source": [
        "**Adding the input layer and first hidden layer**"
      ]
    },
    {
      "cell_type": "code",
      "metadata": {
        "id": "0fHpY8_Y-7z4",
        "colab_type": "code",
        "colab": {}
      },
      "source": [
        "#only reformats the Data (two dimensional array to one)\n",
        "ann.add(tf.keras.layers.Flatten(input_shape=(28,28)))\n",
        "#Dense class create the fully connection between the input layer and first hidden layer\n",
        "#rectify activation function is the activation function for fully connection between input layer and the first layer \n",
        "ann.add(tf.keras.layers.Dense(units = 500, activation='relu' ))\n",
        "#to reduce from overfitting\n",
        "ann.add(tf.keras.layers.Dropout(0.2))"
      ],
      "execution_count": 0,
      "outputs": []
    },
    {
      "cell_type": "markdown",
      "metadata": {
        "id": "GpafA_UACyiQ",
        "colab_type": "text"
      },
      "source": [
        "**Adding second hidden layer**"
      ]
    },
    {
      "cell_type": "code",
      "metadata": {
        "id": "VpX2kryxC03C",
        "colab_type": "code",
        "colab": {}
      },
      "source": [
        "#second layer connected automatically to first layer \n",
        "ann.add(tf.keras.layers.Dense(units = 100, activation='relu' ))\n",
        "ann.add(tf.keras.layers.Dropout(0.2))"
      ],
      "execution_count": 0,
      "outputs": []
    },
    {
      "cell_type": "markdown",
      "metadata": {
        "id": "utIiZLkrC4rt",
        "colab_type": "text"
      },
      "source": [
        "**Adding the output Layer**"
      ]
    },
    {
      "cell_type": "code",
      "metadata": {
        "id": "SeugN8EFDDVB",
        "colab_type": "code",
        "outputId": "7ad2a8d3-bba4-4751-c724-5a75d95d0930",
        "colab": {
          "base_uri": "https://localhost:8080/",
          "height": 357
        }
      },
      "source": [
        "# more than 2 categories at the end, so we should softmax\n",
        "ann.add(tf.keras.layers.Dense(units = 10, activation='softmax'))\n",
        "ann.summary()"
      ],
      "execution_count": 10,
      "outputs": [
        {
          "output_type": "stream",
          "text": [
            "Model: \"sequential\"\n",
            "_________________________________________________________________\n",
            "Layer (type)                 Output Shape              Param #   \n",
            "=================================================================\n",
            "flatten (Flatten)            (None, 784)               0         \n",
            "_________________________________________________________________\n",
            "dense (Dense)                (None, 500)               392500    \n",
            "_________________________________________________________________\n",
            "dropout (Dropout)            (None, 500)               0         \n",
            "_________________________________________________________________\n",
            "dense_1 (Dense)              (None, 100)               50100     \n",
            "_________________________________________________________________\n",
            "dropout_1 (Dropout)          (None, 100)               0         \n",
            "_________________________________________________________________\n",
            "dense_2 (Dense)              (None, 10)                1010      \n",
            "=================================================================\n",
            "Total params: 443,610\n",
            "Trainable params: 443,610\n",
            "Non-trainable params: 0\n",
            "_________________________________________________________________\n"
          ],
          "name": "stdout"
        }
      ]
    },
    {
      "cell_type": "markdown",
      "metadata": {
        "id": "4Y7wiLXLjJpg",
        "colab_type": "text"
      },
      "source": [
        "# **Training the ANN**"
      ]
    },
    {
      "cell_type": "markdown",
      "metadata": {
        "id": "jB4NSRk9z5xj",
        "colab_type": "text"
      },
      "source": [
        "**Compiling the ANN**"
      ]
    },
    {
      "cell_type": "code",
      "metadata": {
        "id": "FhU1_wBZz2x6",
        "colab_type": "code",
        "colab": {}
      },
      "source": [
        "# Adding a few setting during the model compile step \n",
        "#1.Loss function(measure the accuracy of the model, it has to minimize )\n",
        "#2.Optimizer(Updating the model on the basis of observed data and the loss function)\n",
        "#3.Metrics(monitor the training and testing steps)\n",
        "ann.compile(optimizer='adam', loss='sparse_categorical_crossentropy', metrics=['accuracy'])"
      ],
      "execution_count": 0,
      "outputs": []
    },
    {
      "cell_type": "markdown",
      "metadata": {
        "id": "juXmgfrN4g5W",
        "colab_type": "text"
      },
      "source": [
        "**Training the ANN model on the Training set**"
      ]
    },
    {
      "cell_type": "code",
      "metadata": {
        "id": "CBMLdbgN4hFq",
        "colab_type": "code",
        "outputId": "aff486a6-d276-446c-9d38-0ca951ff0a38",
        "colab": {
          "base_uri": "https://localhost:8080/",
          "height": 697
        }
      },
      "source": [
        "# train_lable is the dependent variable vectore of the training set \n",
        "# train_image is the matrix of features the training set \n",
        "# over each epoch the loss is slightly reduced\n",
        "network_history = ann.fit(train_images, train_labels, batch_size=128, epochs=20 , validation_split=0.2)"
      ],
      "execution_count": 12,
      "outputs": [
        {
          "output_type": "stream",
          "text": [
            "Epoch 1/20\n",
            "375/375 [==============================] - 5s 13ms/step - loss: 0.3276 - accuracy: 0.9016 - val_loss: 0.1360 - val_accuracy: 0.9610\n",
            "Epoch 2/20\n",
            "375/375 [==============================] - 5s 12ms/step - loss: 0.1359 - accuracy: 0.9593 - val_loss: 0.0984 - val_accuracy: 0.9706\n",
            "Epoch 3/20\n",
            "375/375 [==============================] - 5s 12ms/step - loss: 0.0942 - accuracy: 0.9710 - val_loss: 0.0867 - val_accuracy: 0.9753\n",
            "Epoch 4/20\n",
            "375/375 [==============================] - 5s 12ms/step - loss: 0.0756 - accuracy: 0.9773 - val_loss: 0.0803 - val_accuracy: 0.9769\n",
            "Epoch 5/20\n",
            "375/375 [==============================] - 5s 13ms/step - loss: 0.0589 - accuracy: 0.9817 - val_loss: 0.0735 - val_accuracy: 0.9780\n",
            "Epoch 6/20\n",
            "375/375 [==============================] - 5s 13ms/step - loss: 0.0476 - accuracy: 0.9852 - val_loss: 0.0747 - val_accuracy: 0.9788\n",
            "Epoch 7/20\n",
            "375/375 [==============================] - 5s 13ms/step - loss: 0.0402 - accuracy: 0.9869 - val_loss: 0.0727 - val_accuracy: 0.9803\n",
            "Epoch 8/20\n",
            "375/375 [==============================] - 5s 12ms/step - loss: 0.0373 - accuracy: 0.9883 - val_loss: 0.0772 - val_accuracy: 0.9795\n",
            "Epoch 9/20\n",
            "375/375 [==============================] - 5s 12ms/step - loss: 0.0324 - accuracy: 0.9891 - val_loss: 0.0779 - val_accuracy: 0.9797\n",
            "Epoch 10/20\n",
            "375/375 [==============================] - 5s 12ms/step - loss: 0.0299 - accuracy: 0.9904 - val_loss: 0.0812 - val_accuracy: 0.9789\n",
            "Epoch 11/20\n",
            "375/375 [==============================] - 5s 12ms/step - loss: 0.0253 - accuracy: 0.9916 - val_loss: 0.0796 - val_accuracy: 0.9797\n",
            "Epoch 12/20\n",
            "375/375 [==============================] - 5s 13ms/step - loss: 0.0221 - accuracy: 0.9931 - val_loss: 0.0759 - val_accuracy: 0.9817\n",
            "Epoch 13/20\n",
            "375/375 [==============================] - 5s 12ms/step - loss: 0.0214 - accuracy: 0.9927 - val_loss: 0.0823 - val_accuracy: 0.9783\n",
            "Epoch 14/20\n",
            "375/375 [==============================] - 5s 12ms/step - loss: 0.0215 - accuracy: 0.9928 - val_loss: 0.0844 - val_accuracy: 0.9797\n",
            "Epoch 15/20\n",
            "375/375 [==============================] - 5s 12ms/step - loss: 0.0190 - accuracy: 0.9935 - val_loss: 0.0898 - val_accuracy: 0.9806\n",
            "Epoch 16/20\n",
            "375/375 [==============================] - 5s 13ms/step - loss: 0.0196 - accuracy: 0.9937 - val_loss: 0.0893 - val_accuracy: 0.9809\n",
            "Epoch 17/20\n",
            "375/375 [==============================] - 5s 13ms/step - loss: 0.0172 - accuracy: 0.9946 - val_loss: 0.0870 - val_accuracy: 0.9827\n",
            "Epoch 18/20\n",
            "375/375 [==============================] - 5s 13ms/step - loss: 0.0169 - accuracy: 0.9944 - val_loss: 0.0857 - val_accuracy: 0.9803\n",
            "Epoch 19/20\n",
            "375/375 [==============================] - 5s 12ms/step - loss: 0.0161 - accuracy: 0.9946 - val_loss: 0.0910 - val_accuracy: 0.9813\n",
            "Epoch 20/20\n",
            "375/375 [==============================] - 5s 13ms/step - loss: 0.0153 - accuracy: 0.9948 - val_loss: 0.0926 - val_accuracy: 0.9807\n"
          ],
          "name": "stdout"
        }
      ]
    },
    {
      "cell_type": "code",
      "metadata": {
        "id": "4oTCQxiNqUp1",
        "colab_type": "code",
        "colab": {
          "base_uri": "https://localhost:8080/",
          "height": 541
        },
        "outputId": "740f9515-c89b-41e6-ef25-073d96aed833"
      },
      "source": [
        "\n",
        "plot_history(network_history)"
      ],
      "execution_count": 13,
      "outputs": [
        {
          "output_type": "display_data",
          "data": {
            "image/png": "[encoded data removed]",
            "text/plain": [
              "<Figure size 432x288 with 1 Axes>"
            ]
          },
          "metadata": {
            "tags": [],
            "needs_background": "light"
          }
        },
        {
          "output_type": "display_data",
          "data": {
            "image/png": "[encoded data removed]",
            "text/plain": [
              "<Figure size 432x288 with 1 Axes>"
            ]
          },
          "metadata": {
            "tags": [],
            "needs_background": "light"
          }
        }
      ]
    },
    {
      "cell_type": "markdown",
      "metadata": {
        "id": "r17foWZf6c9X",
        "colab_type": "text"
      },
      "source": [
        "# **Evaluate accuracy**"
      ]
    },
    {
      "cell_type": "code",
      "metadata": {
        "id": "N9Ww-rLz6dxe",
        "colab_type": "code",
        "outputId": "e72377b6-ff15-4397-e336-a0dc7a119d67",
        "colab": {
          "base_uri": "https://localhost:8080/",
          "height": 102
        }
      },
      "source": [
        "# the accuracy on the test dataset is  less than the accuracy on the training dataset\n",
        "test_loss, test_acc = ann.evaluate(test_images,  test_labels)\n",
        "\n",
        "print('\\nTest accuracy:', test_acc)\n",
        "print('\\nTest loss:', test_loss)"
      ],
      "execution_count": 24,
      "outputs": [
        {
          "output_type": "stream",
          "text": [
            "313/313 [==============================] - 1s 2ms/step - loss: 0.0751 - accuracy: 0.9835\n",
            "\n",
            "Test accuracy: 0.9835000038146973\n",
            "\n",
            "Test loss: 0.07513734698295593\n"
          ],
          "name": "stdout"
        }
      ]
    },
    {
      "cell_type": "code",
      "metadata": {
        "id": "8Piu5wwi42sO",
        "colab_type": "code",
        "colab": {
          "base_uri": "https://localhost:8080/",
          "height": 51
        },
        "outputId": "4f57271c-ed49-4032-a0da-5c22578d6417"
      },
      "source": [
        "# with predict class we give testing set to model and request the output(for evaluation the model)\n",
        "test_labels_p = ann.predict(test_images)\n",
        "# convert to vector (find maximum index of each row ,axis =1 --> search in each row )\n",
        "test_labels_p = np.argmax(test_labels_p ,axis =1)\n",
        "print('Evaluation of test_data with model:',test_labels_p)\n",
        "print('Our main test_data:',test_labels)"
      ],
      "execution_count": 37,
      "outputs": [
        {
          "output_type": "stream",
          "text": [
            "Evaluation of test_data with model: [7 2 1 ... 4 5 6]\n",
            "The real test_data: [7 2 1 ... 4 5 6]\n"
          ],
          "name": "stdout"
        }
      ]
    },
    {
      "cell_type": "markdown",
      "metadata": {
        "id": "XvAhr40YBP3s",
        "colab_type": "text"
      },
      "source": [
        "# **Implement the model**"
      ]
    },
    {
      "cell_type": "markdown",
      "metadata": {
        "id": "7BDv1tZZHw2_",
        "colab_type": "text"
      },
      "source": [
        "**prediction the result of the Test set**"
      ]
    },
    {
      "cell_type": "code",
      "metadata": {
        "id": "NS1EoqlcLHDz",
        "colab_type": "code",
        "outputId": "8c597b04-4b9e-4757-e89d-c03fea87dd26",
        "colab": {
          "base_uri": "https://localhost:8080/",
          "height": 68
        }
      },
      "source": [
        "#Predict some images with the trained model\n",
        "from tensorflow.keras import Sequential\n",
        "probability_ann = Sequential([ann, tf.keras.layers.Softmax()])   \n",
        "# prediction the Lable for each model in the testing set \n",
        "predictions = probability_ann.predict(test_images)\n",
        "predictions[1]"
      ],
      "execution_count": 42,
      "outputs": [
        {
          "output_type": "execute_result",
          "data": {
            "text/plain": [
              "array([0.08533674, 0.08533674, 0.23196931, 0.08533674, 0.08533674,\n",
              "       0.08533674, 0.08533674, 0.08533674, 0.08533674, 0.08533674],\n",
              "      dtype=float32)"
            ]
          },
          "metadata": {
            "tags": []
          },
          "execution_count": 42
        }
      ]
    },
    {
      "cell_type": "code",
      "metadata": {
        "id": "ukEus89yQeOe",
        "colab_type": "code",
        "outputId": "843ae355-02ce-4635-d495-b9ec43f3c5fb",
        "colab": {
          "base_uri": "https://localhost:8080/",
          "height": 34
        }
      },
      "source": [
        "# finding the lable has the highest confidence value \n",
        "np.argmax(predictions[1])"
      ],
      "execution_count": 16,
      "outputs": [
        {
          "output_type": "execute_result",
          "data": {
            "text/plain": [
              "2"
            ]
          },
          "metadata": {
            "tags": []
          },
          "execution_count": 16
        }
      ]
    },
    {
      "cell_type": "code",
      "metadata": {
        "id": "IEFPvDQpQjiC",
        "colab_type": "code",
        "outputId": "51c9497e-9185-41d5-9937-ad05146c4a81",
        "colab": {
          "base_uri": "https://localhost:8080/",
          "height": 34
        }
      },
      "source": [
        "# examining the text label to verify the correction of this classification\n",
        "test_labels[1]"
      ],
      "execution_count": 17,
      "outputs": [
        {
          "output_type": "execute_result",
          "data": {
            "text/plain": [
              "2"
            ]
          },
          "metadata": {
            "tags": []
          },
          "execution_count": 17
        }
      ]
    },
    {
      "cell_type": "code",
      "metadata": {
        "id": "LObmY3VuRkh1",
        "colab_type": "code",
        "colab": {}
      },
      "source": [
        "def plot_image(i, predictions_array, true_label, img):\n",
        "  predictions_array, true_label, img = predictions_array, true_label[i], img[i]\n",
        "  plt.grid(False)\n",
        "  plt.xticks([])\n",
        "  plt.yticks([])\n",
        "\n",
        "  plt.imshow(img )\n",
        "  plt.colorbar()\n",
        "\n",
        "  predicted_label = np.argmax(predictions_array)\n",
        "  if predicted_label == true_label:\n",
        "    color = 'blue'\n",
        "  else:\n",
        "    color = 'red'\n",
        "\n",
        "  plt.xlabel(\"{} {:2.0f}% ({})\".format(class_names[predicted_label],\n",
        "                                100*np.max(predictions_array),\n",
        "                                class_names[true_label]),\n",
        "                                color=color)\n",
        "  \n",
        "def plot_value_array(i, predictions_array, true_label):\n",
        "  predictions_array, true_label = predictions_array, true_label[i]\n",
        "  plt.grid(False)\n",
        "  plt.xticks(range(10))\n",
        "  plt.yticks([])\n",
        "  thisplot = plt.bar(range(10), predictions_array, color=\"#777777\")\n",
        "  plt.ylim([0, 1])\n",
        "  predicted_label = np.argmax(predictions_array)\n",
        "\n",
        "  thisplot[predicted_label].set_color('red')\n",
        "  thisplot[true_label].set_color('blue')\n"
      ],
      "execution_count": 0,
      "outputs": []
    },
    {
      "cell_type": "markdown",
      "metadata": {
        "id": "VzAb10pPUH_k",
        "colab_type": "text"
      },
      "source": [
        "# **Verify**"
      ]
    },
    {
      "cell_type": "code",
      "metadata": {
        "id": "YjwUC-ZuTMlb",
        "colab_type": "code",
        "outputId": "53eee20a-c1c2-4bd0-da0e-69495f5c93ce",
        "colab": {
          "base_uri": "https://localhost:8080/",
          "height": 215
        }
      },
      "source": [
        "i = 2\n",
        "plt.figure(figsize=(6,3))\n",
        "plt.subplot(1,2,1)\n",
        "plot_image(i, predictions[i], test_labels, test_images)\n",
        "plt.subplot(1,2,2)\n",
        "plot_value_array(i, predictions[i],  test_labels)\n",
        "plt.show()"
      ],
      "execution_count": 52,
      "outputs": [
        {
          "output_type": "display_data",
          "data": {
            "image/png": "[encoded data removed]",
            "text/plain": [
              "<Figure size 432x216 with 3 Axes>"
            ]
          },
          "metadata": {
            "tags": [],
            "needs_background": "light"
          }
        }
      ]
    },
    {
      "cell_type": "markdown",
      "metadata": {
        "id": "65_eyDWDjwaT",
        "colab_type": "text"
      },
      "source": [
        "# **Set of weights and biases**"
      ]
    },
    {
      "cell_type": "code",
      "metadata": {
        "id": "zSQ7NE2AeuTE",
        "colab_type": "code",
        "colab": {}
      },
      "source": [
        "train_steps=1000\n",
        "learning_rate= 0.1\n",
        "\n",
        "W = tf.Variable(tf.random.normal([784,10] , mean=0 , stddev=1.0 , dtype=np.float32))\n",
        "b = tf.Variable(tf.random.normal([10], mean=0 , stddev =1.0 , dtype=np.float32))\n"
      ],
      "execution_count": 0,
      "outputs": []
    },
    {
      "cell_type": "code",
      "metadata": {
        "id": "7W6dtjsmdxag",
        "colab_type": "code",
        "outputId": "3af12d59-33e7-4be9-e6b1-cb8f2626b88e",
        "colab": {
          "base_uri": "https://localhost:8080/",
          "height": 221
        }
      },
      "source": [
        "\n",
        "for step in range(train_steps):\n",
        "    img_batch, lbl_batch = data.next_batch()\n",
        "    with tf.GradientTape() as tape:\n",
        "        logits = tf.matmul(img_batch, W) + b\n",
        "        xent = tf.reduce_mean(tf.nn.sparse_softmax_cross_entropy_with_logits(\n",
        "            logits=logits, labels=lbl_batch))\n",
        "        \n",
        "    grads = tape.gradient(xent, [W, b])\n",
        "    W.assign_sub(learning_rate * grads[0])\n",
        "    b.assign_sub(learning_rate * grads[1])\n",
        "    \n",
        "    if not step % 100:\n",
        "        preds = tf.argmax(logits, axis=1, output_type=tf.int32)\n",
        "        acc = tf.reduce_mean(tf.cast(tf.equal(preds, lbl_batch),\n",
        "                             tf.float32))\n",
        "        print(\"Loss: {} Accuracy: {}\".format(xent, acc))"
      ],
      "execution_count": 54,
      "outputs": [
        {
          "output_type": "stream",
          "text": [
            "Loss: 12.629419326782227 Accuracy: 0.0625\n",
            "Loss: 3.681633949279785 Accuracy: 0.4375\n",
            "Loss: 2.2089834213256836 Accuracy: 0.609375\n",
            "Loss: 2.129701614379883 Accuracy: 0.671875\n",
            "Starting new epoch...\n",
            "Loss: 1.8363089561462402 Accuracy: 0.625\n",
            "Loss: 1.3764019012451172 Accuracy: 0.765625\n",
            "Loss: 1.1334013938903809 Accuracy: 0.765625\n",
            "Loss: 1.0260391235351562 Accuracy: 0.8125\n",
            "Loss: 0.824105978012085 Accuracy: 0.796875\n",
            "Starting new epoch...\n",
            "Loss: 1.114713430404663 Accuracy: 0.8125\n"
          ],
          "name": "stdout"
        }
      ]
    },
    {
      "cell_type": "markdown",
      "metadata": {
        "id": "GtlHwwOokHp7",
        "colab_type": "text"
      },
      "source": [
        "# **Testing**"
      ]
    },
    {
      "cell_type": "code",
      "metadata": {
        "id": "cLA_6DjNjSms",
        "colab_type": "code",
        "outputId": "6f1cd753-9949-428a-9a03-be7bba535371",
        "colab": {
          "base_uri": "https://localhost:8080/",
          "height": 34
        }
      },
      "source": [
        "test_preds = tf.argmax(tf.matmul(data.test_data, W) + b, axis=1,\n",
        "                       output_type=tf.int32)\n",
        "acc = tf.reduce_mean(tf.cast(tf.equal(test_preds, data.test_labels),\n",
        "                             tf.float32))\n",
        "print(acc)"
      ],
      "execution_count": 55,
      "outputs": [
        {
          "output_type": "stream",
          "text": [
            "tf.Tensor(0.8047, shape=(), dtype=float32)\n"
          ],
          "name": "stdout"
        }
      ]
    },
    {
      "cell_type": "code",
      "metadata": {
        "id": "qCxsqbRa4yhB",
        "colab_type": "code",
        "outputId": "94f31efe-6783-409b-e371-da0dfb8f3e97",
        "colab": {
          "base_uri": "https://localhost:8080/",
          "height": 469
        }
      },
      "source": [
        "train_steps=1000\n",
        "learning_rate= 0.1\n",
        "\n",
        "W1 = tf.Variable(tf.random.normal([784,50] , mean=0 , stddev=0.1 , dtype=np.float32))\n",
        "W2 = tf.Variable(tf.random.normal([50,10] , mean=0 , stddev=0.1 , dtype=np.float32))\n",
        "b1 = tf.Variable(tf.random.normal([50], mean=0 , stddev =0.1 , dtype=np.float32))\n",
        "b2 = tf.Variable(tf.random.normal([], mean=0 , stddev =0.1 , dtype=np.float32))\n",
        "\n",
        "# training\n",
        "accuracy=[]\n",
        "for step in range(train_steps):\n",
        "    img_batch, lbl_batch = data.next_batch()\n",
        "    with tf.GradientTape() as tape:\n",
        "        with tf.GradientTape() as tape2:\n",
        "            logits = tf.matmul(tf.nn.relu(tf.matmul(img_batch, W1) + b1),W2)+b2\n",
        "            xent = tf.reduce_mean(tf.nn.sparse_softmax_cross_entropy_with_logits(\n",
        "            logits=logits, labels=lbl_batch))\n",
        "        grads2 = tape2.gradient(xent, [W2, b2])\n",
        "    grads1 = tape.gradient(grads2, [W1, b1])\n",
        "\n",
        "    W2.assign_sub(learning_rate * grads2[0])\n",
        "    b2.assign_sub(learning_rate * grads2[1])\n",
        "    W1.assign_sub(learning_rate * grads1[0])\n",
        "    b1.assign_sub(learning_rate * grads1[1])\n",
        "    \n",
        "    if not step % 100:\n",
        "        preds = tf.argmax(logits, axis=1, output_type=tf.int32)\n",
        "        acc = tf.reduce_mean(tf.cast(tf.equal(preds, lbl_batch),\n",
        "                             tf.float32))\n",
        "        accuracy.append(acc)\n",
        "        print(\"Loss: {} Accuracy: {}\".format(xent, acc))\n",
        "        plt.plot(accuracy)"
      ],
      "execution_count": 58,
      "outputs": [
        {
          "output_type": "stream",
          "text": [
            "Loss: 2.4264602661132812 Accuracy: 0.0703125\n",
            "Loss: 1.4738688468933105 Accuracy: 0.6328125\n",
            "Starting new epoch...\n",
            "Loss: 1.2234423160552979 Accuracy: 0.640625\n",
            "Loss: 1.0520358085632324 Accuracy: 0.7734375\n",
            "Loss: 1.0389138460159302 Accuracy: 0.7421875\n",
            "Loss: 0.9897359013557434 Accuracy: 0.7890625\n",
            "Loss: 0.9257757663726807 Accuracy: 0.7578125\n",
            "Starting new epoch...\n",
            "Loss: 0.916229248046875 Accuracy: 0.6875\n",
            "Loss: 0.7785338759422302 Accuracy: 0.8046875\n",
            "Loss: 0.8545128107070923 Accuracy: 0.7734375\n"
          ],
          "name": "stdout"
        },
        {
          "output_type": "display_data",
          "data": {
            "image/png": "[encoded data removed]",
            "text/plain": [
              "<Figure size 432x288 with 1 Axes>"
            ]
          },
          "metadata": {
            "tags": [],
            "needs_background": "light"
          }
        }
      ]
    }
  ]
}