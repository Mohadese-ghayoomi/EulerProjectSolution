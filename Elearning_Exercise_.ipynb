{
  "nbformat": 4,
  "nbformat_minor": 0,
  "metadata": {
    "colab": {
      "name": "Elearning Exercise .ipynb",
      "provenance": [],
      "collapsed_sections": [],
      "include_colab_link": true
    },
    "kernelspec": {
      "name": "python3",
      "display_name": "Python 3"
    }
  },
  "cells": [
    {
      "cell_type": "markdown",
      "metadata": {
        "id": "view-in-github",
        "colab_type": "text"
      },
      "source": [
        "<a href=\"https://colab.research.google.com/github/Mohadese-ghayoomi/EulerProjectSolution/blob/master/Elearning_Exercise_.ipynb\" target=\"_parent\"><img src=\"https://colab.research.google.com/assets/colab-badge.svg\" alt=\"Open In Colab\"/></a>"
      ]
    },
    {
      "cell_type": "markdown",
      "metadata": {
        "id": "pudSXReLs1TD",
        "colab_type": "text"
      },
      "source": [
        "\n",
        "# **Import Libraries**"
      ]
    },
    {
      "cell_type": "code",
      "metadata": {
        "id": "ImIS8fxIs5wJ",
        "colab_type": "code",
        "outputId": "e7838e38-5d1b-4996-c2d8-fb77f21473d6",
        "colab": {
          "base_uri": "https://localhost:8080/",
          "height": 34
        }
      },
      "source": [
        "%tensorflow_version 2.x \n",
        "import tensorflow as tf\n",
        "from tensorflow import keras\n",
        "import numpy as np\n",
        "import matplotlib.pyplot as plt\n",
        "import os\n",
        "print('Version is',tf.__version__)\n"
      ],
      "execution_count": 1,
      "outputs": [
        {
          "output_type": "stream",
          "text": [
            "Version is 2.2.0-rc3\n"
          ],
          "name": "stdout"
        }
      ]
    },
    {
      "cell_type": "markdown",
      "metadata": {
        "id": "Pa_L9WIn3IUM",
        "colab_type": "text"
      },
      "source": [
        "# **Data Preprocessing**"
      ]
    },
    {
      "cell_type": "markdown",
      "metadata": {
        "id": "WxmibJ7FtQ99",
        "colab_type": "text"
      },
      "source": [
        "**importing the Dataset** "
      ]
    },
    {
      "cell_type": "code",
      "metadata": {
        "id": "VnaBNrXYtRMK",
        "colab_type": "code",
        "outputId": "b444792a-cfe4-47c1-9a06-e77fb0abac9e",
        "colab": {
          "base_uri": "https://localhost:8080/",
          "height": 139
        }
      },
      "source": [
        "from google.colab import drive; drive.mount('/content/drive')\n",
        "os.getcwd()\n",
        "%cd /content/drive/My Drive/Colab Notebooks\n",
        "from datasets import MNISTDataset\n"
      ],
      "execution_count": 2,
      "outputs": [
        {
          "output_type": "stream",
          "text": [
            "Go to this URL in a browser: https://accounts.google.com/o/oauth2/auth?client_id=947318989803-6bn6qk8qdgf4n4g3pfee6491hc0brc4i.apps.googleusercontent.com&redirect_uri=urn%3aietf%3awg%3aoauth%3a2.0%3aoob&response_type=code&scope=email%20https%3a%2f%2fwww.googleapis.com%2fauth%2fdocs.test%20https%3a%2f%2fwww.googleapis.com%2fauth%2fdrive%20https%3a%2f%2fwww.googleapis.com%2fauth%2fdrive.photos.readonly%20https%3a%2f%2fwww.googleapis.com%2fauth%2fpeopleapi.readonly\n",
            "\n",
            "Enter your authorization code:\n",
            "··········\n",
            "Mounted at /content/drive\n",
            "/content/drive/My Drive/Colab Notebooks\n"
          ],
          "name": "stdout"
        }
      ]
    },
    {
      "cell_type": "markdown",
      "metadata": {
        "id": "ooCeXSfy3YS9",
        "colab_type": "text"
      },
      "source": [
        "**Splitting the datasets into the Training set and Test set**\n"
      ]
    },
    {
      "cell_type": "code",
      "metadata": {
        "id": "azrnQi643ekl",
        "colab_type": "code",
        "outputId": "4b6f9fcd-2d3e-4047-cbaa-ef2c94b6044c",
        "colab": {
          "base_uri": "https://localhost:8080/",
          "height": 170
        }
      },
      "source": [
        "fashion_mnist = keras.datasets.fashion_mnist\n",
        "(train_images, train_labels), (test_images, test_labels) = fashion_mnist.load_data()\n",
        "print(train_images.shape, train_labels.shape)\n",
        "data = MNISTDataset(train_images.reshape([-1, 784]), train_labels, \n",
        "                    test_images.reshape([-1, 784]), test_labels,\n",
        "                    batch_size=128)"
      ],
      "execution_count": 3,
      "outputs": [
        {
          "output_type": "stream",
          "text": [
            "Downloading data from https://storage.googleapis.com/tensorflow/tf-keras-datasets/train-labels-idx1-ubyte.gz\n",
            "32768/29515 [=================================] - 0s 0us/step\n",
            "Downloading data from https://storage.googleapis.com/tensorflow/tf-keras-datasets/train-images-idx3-ubyte.gz\n",
            "26427392/26421880 [==============================] - 0s 0us/step\n",
            "Downloading data from https://storage.googleapis.com/tensorflow/tf-keras-datasets/t10k-labels-idx1-ubyte.gz\n",
            "8192/5148 [===============================================] - 0s 0us/step\n",
            "Downloading data from https://storage.googleapis.com/tensorflow/tf-keras-datasets/t10k-images-idx3-ubyte.gz\n",
            "4423680/4422102 [==============================] - 0s 0us/step\n",
            "(60000, 28, 28) (60000,)\n"
          ],
          "name": "stdout"
        }
      ]
    },
    {
      "cell_type": "markdown",
      "metadata": {
        "id": "fpZVV9hDtpqj",
        "colab_type": "text"
      },
      "source": [
        "# **Assign Class name to data**"
      ]
    },
    {
      "cell_type": "code",
      "metadata": {
        "id": "kibDZC67tow_",
        "colab_type": "code",
        "colab": {}
      },
      "source": [
        "class_names = ['T-shirt/top', 'Trouser', 'Pullover', 'Dress', 'Coat',\n",
        "               'Sandal', 'Shirt', 'Sneaker', 'Bag', 'Ankle boot']"
      ],
      "execution_count": 0,
      "outputs": []
    },
    {
      "cell_type": "markdown",
      "metadata": {
        "id": "gHqpJtDx6Wrf",
        "colab_type": "text"
      },
      "source": [
        "# **Preprocess the Data**"
      ]
    },
    {
      "cell_type": "code",
      "metadata": {
        "id": "Zmkeux3YuMGS",
        "colab_type": "code",
        "outputId": "66eb3e22-d32e-489f-ca59-19b132c7f986",
        "colab": {
          "base_uri": "https://localhost:8080/",
          "height": 333
        }
      },
      "source": [
        "# The Pixel values in Range 0 to 255\n",
        "print(train_images.shape)\n",
        "print(train_labels.shape)\n",
        "print(len(test_images))\n",
        "plt.figure()\n",
        "plt.imshow(train_images[0])\n",
        "plt.colorbar()"
      ],
      "execution_count": 5,
      "outputs": [
        {
          "output_type": "stream",
          "text": [
            "(60000, 28, 28)\n",
            "(60000,)\n",
            "10000\n"
          ],
          "name": "stdout"
        },
        {
          "output_type": "execute_result",
          "data": {
            "text/plain": [
              "<matplotlib.colorbar.Colorbar at 0x7f2847a57d68>"
            ]
          },
          "metadata": {
            "tags": []
          },
          "execution_count": 5
        },
        {
          "output_type": "display_data",
          "data": {
            "image/png": "[encoded data removed]",
            "text/plain": [
              "<Figure size 432x288 with 2 Axes>"
            ]
          },
          "metadata": {
            "tags": [],
            "needs_background": "light"
          }
        }
      ]
    },
    {
      "cell_type": "markdown",
      "metadata": {
        "id": "JsVNuRmgvNf8",
        "colab_type": "text"
      },
      "source": [
        "# **Convert the range of numbers between 0 and 1 before feeding to the network**"
      ]
    },
    {
      "cell_type": "code",
      "metadata": {
        "id": "kNu9k9ZvvNsc",
        "colab_type": "code",
        "outputId": "b0f51bb1-6b6e-481d-ff91-552b4d8e9933",
        "colab": {
          "base_uri": "https://localhost:8080/",
          "height": 286
        }
      },
      "source": [
        "#Divided the Values by 255\n",
        "train_images = train_images / 255.0\n",
        "test_images = test_images / 255.0\n",
        "plt.figure()\n",
        "plt.imshow(train_images[0])\n",
        "plt.colorbar()"
      ],
      "execution_count": 6,
      "outputs": [
        {
          "output_type": "execute_result",
          "data": {
            "text/plain": [
              "<matplotlib.colorbar.Colorbar at 0x7f2847504550>"
            ]
          },
          "metadata": {
            "tags": []
          },
          "execution_count": 6
        },
        {
          "output_type": "display_data",
          "data": {
            "image/png": "[encoded data removed]",
            "text/plain": [
              "<Figure size 432x288 with 2 Axes>"
            ]
          },
          "metadata": {
            "tags": [],
            "needs_background": "light"
          }
        }
      ]
    },
    {
      "cell_type": "markdown",
      "metadata": {
        "id": "xXCaDyk9vwiC",
        "colab_type": "text"
      },
      "source": [
        "# **Building the ANN**"
      ]
    },
    {
      "cell_type": "markdown",
      "metadata": {
        "id": "LZW_iQH58xyI",
        "colab_type": "text"
      },
      "source": [
        "**Initialising the ANN**"
      ]
    },
    {
      "cell_type": "code",
      "metadata": {
        "id": "xmIbmJqL7DLO",
        "colab_type": "code",
        "colab": {}
      },
      "source": [
        "# create an object of the sequential class(sequential class which creates a new ANN as a sequence of layers)\n",
        "ann =tf.keras.models.Sequential()"
      ],
      "execution_count": 0,
      "outputs": []
    },
    {
      "cell_type": "markdown",
      "metadata": {
        "id": "z5vlBsLP-xXR",
        "colab_type": "text"
      },
      "source": [
        "**Adding the input layer and first hidden layer**"
      ]
    },
    {
      "cell_type": "code",
      "metadata": {
        "id": "0fHpY8_Y-7z4",
        "colab_type": "code",
        "colab": {}
      },
      "source": [
        "#only reformats the Data (two dimensional array to one)\n",
        "ann.add(tf.keras.layers.Flatten(input_shape=(28,28)))\n",
        "#Dense class create the fully connection between the input layer and first hidden layer\n",
        "#rectify activation function is the activation function for fully connection between input layer and the first layer \n",
        "ann.add(tf.keras.layers.Dense(units = 128, activation='relu' ))"
      ],
      "execution_count": 0,
      "outputs": []
    },
    {
      "cell_type": "markdown",
      "metadata": {
        "id": "GpafA_UACyiQ",
        "colab_type": "text"
      },
      "source": [
        "**Adding second hidden layer**"
      ]
    },
    {
      "cell_type": "code",
      "metadata": {
        "id": "VpX2kryxC03C",
        "colab_type": "code",
        "colab": {}
      },
      "source": [
        "#second layer connected automatically to first layer \n",
        "ann.add(tf.keras.layers.Dense(units = 128, activation='relu' ))"
      ],
      "execution_count": 0,
      "outputs": []
    },
    {
      "cell_type": "markdown",
      "metadata": {
        "id": "utIiZLkrC4rt",
        "colab_type": "text"
      },
      "source": [
        "**Adding the output Layer**"
      ]
    },
    {
      "cell_type": "code",
      "metadata": {
        "id": "SeugN8EFDDVB",
        "colab_type": "code",
        "outputId": "75a89cd5-3689-4a88-9704-282c68a29686",
        "colab": {
          "base_uri": "https://localhost:8080/",
          "height": 289
        }
      },
      "source": [
        "# more than 2 categories at the end, so we should softmax\n",
        "ann.add(tf.keras.layers.Dense(units = 10, activation='softmax'))\n",
        "ann.summary()"
      ],
      "execution_count": 10,
      "outputs": [
        {
          "output_type": "stream",
          "text": [
            "Model: \"sequential\"\n",
            "_________________________________________________________________\n",
            "Layer (type)                 Output Shape              Param #   \n",
            "=================================================================\n",
            "flatten (Flatten)            (None, 784)               0         \n",
            "_________________________________________________________________\n",
            "dense (Dense)                (None, 128)               100480    \n",
            "_________________________________________________________________\n",
            "dense_1 (Dense)              (None, 128)               16512     \n",
            "_________________________________________________________________\n",
            "dense_2 (Dense)              (None, 10)                1290      \n",
            "=================================================================\n",
            "Total params: 118,282\n",
            "Trainable params: 118,282\n",
            "Non-trainable params: 0\n",
            "_________________________________________________________________\n"
          ],
          "name": "stdout"
        }
      ]
    },
    {
      "cell_type": "markdown",
      "metadata": {
        "id": "4Y7wiLXLjJpg",
        "colab_type": "text"
      },
      "source": [
        "# **Training the ANN**"
      ]
    },
    {
      "cell_type": "markdown",
      "metadata": {
        "id": "jB4NSRk9z5xj",
        "colab_type": "text"
      },
      "source": [
        "**Compiling the ANN**"
      ]
    },
    {
      "cell_type": "code",
      "metadata": {
        "id": "FhU1_wBZz2x6",
        "colab_type": "code",
        "colab": {}
      },
      "source": [
        "# Adding a few setting during the model compile step \n",
        "#1.Loss function(measure the accuracy of the model, it has to minimize )\n",
        "#2.Optimizer(Updating the model on the basis of observed data and the loss function)\n",
        "#3.Metrics(monitor the training and testing steps)\n",
        "ann.compile(optimizer='adam', loss='sparse_categorical_crossentropy', metrics=['accuracy'])"
      ],
      "execution_count": 0,
      "outputs": []
    },
    {
      "cell_type": "markdown",
      "metadata": {
        "id": "juXmgfrN4g5W",
        "colab_type": "text"
      },
      "source": [
        "**Training the ANN model on the Training set**"
      ]
    },
    {
      "cell_type": "code",
      "metadata": {
        "id": "CBMLdbgN4hFq",
        "colab_type": "code",
        "outputId": "0dc38cb0-e2ce-4d7b-908f-9e25f984f93a",
        "colab": {
          "base_uri": "https://localhost:8080/",
          "height": 1000
        }
      },
      "source": [
        "# train_lable is the dependent variable vectore of the training set \n",
        "# train_image is the matrix of features the training set \n",
        "# over each epoch the loss is slightly reduced\n",
        "ann.fit(train_images, train_labels, batch_size=10 , epochs=50)"
      ],
      "execution_count": 12,
      "outputs": [
        {
          "output_type": "stream",
          "text": [
            "Epoch 1/50\n",
            "6000/6000 [==============================] - 11s 2ms/step - loss: 0.4748 - accuracy: 0.8264\n",
            "Epoch 2/50\n",
            "6000/6000 [==============================] - 11s 2ms/step - loss: 0.3671 - accuracy: 0.8634\n",
            "Epoch 3/50\n",
            "6000/6000 [==============================] - 11s 2ms/step - loss: 0.3336 - accuracy: 0.8768\n",
            "Epoch 4/50\n",
            "6000/6000 [==============================] - 11s 2ms/step - loss: 0.3110 - accuracy: 0.8860\n",
            "Epoch 5/50\n",
            "6000/6000 [==============================] - 11s 2ms/step - loss: 0.2970 - accuracy: 0.8905\n",
            "Epoch 6/50\n",
            "6000/6000 [==============================] - 11s 2ms/step - loss: 0.2844 - accuracy: 0.8930\n",
            "Epoch 7/50\n",
            "6000/6000 [==============================] - 11s 2ms/step - loss: 0.2720 - accuracy: 0.8978\n",
            "Epoch 8/50\n",
            "6000/6000 [==============================] - 11s 2ms/step - loss: 0.2645 - accuracy: 0.9007\n",
            "Epoch 9/50\n",
            "6000/6000 [==============================] - 11s 2ms/step - loss: 0.2550 - accuracy: 0.9033\n",
            "Epoch 10/50\n",
            "6000/6000 [==============================] - 10s 2ms/step - loss: 0.2485 - accuracy: 0.9064\n",
            "Epoch 11/50\n",
            "6000/6000 [==============================] - 11s 2ms/step - loss: 0.2431 - accuracy: 0.9085\n",
            "Epoch 12/50\n",
            "6000/6000 [==============================] - 11s 2ms/step - loss: 0.2349 - accuracy: 0.9112\n",
            "Epoch 13/50\n",
            "6000/6000 [==============================] - 11s 2ms/step - loss: 0.2302 - accuracy: 0.9137\n",
            "Epoch 14/50\n",
            "6000/6000 [==============================] - 11s 2ms/step - loss: 0.2277 - accuracy: 0.9141\n",
            "Epoch 15/50\n",
            "6000/6000 [==============================] - 11s 2ms/step - loss: 0.2163 - accuracy: 0.9174\n",
            "Epoch 16/50\n",
            "6000/6000 [==============================] - 11s 2ms/step - loss: 0.2166 - accuracy: 0.9165\n",
            "Epoch 17/50\n",
            "6000/6000 [==============================] - 11s 2ms/step - loss: 0.2124 - accuracy: 0.9211\n",
            "Epoch 18/50\n",
            "6000/6000 [==============================] - 11s 2ms/step - loss: 0.2074 - accuracy: 0.9210\n",
            "Epoch 19/50\n",
            "6000/6000 [==============================] - 10s 2ms/step - loss: 0.2025 - accuracy: 0.9226\n",
            "Epoch 20/50\n",
            "6000/6000 [==============================] - 11s 2ms/step - loss: 0.2045 - accuracy: 0.9230\n",
            "Epoch 21/50\n",
            "6000/6000 [==============================] - 11s 2ms/step - loss: 0.1985 - accuracy: 0.9249\n",
            "Epoch 22/50\n",
            "6000/6000 [==============================] - 10s 2ms/step - loss: 0.1938 - accuracy: 0.9259\n",
            "Epoch 23/50\n",
            "6000/6000 [==============================] - 11s 2ms/step - loss: 0.1919 - accuracy: 0.9275\n",
            "Epoch 24/50\n",
            "6000/6000 [==============================] - 10s 2ms/step - loss: 0.1889 - accuracy: 0.9286\n",
            "Epoch 25/50\n",
            "6000/6000 [==============================] - 11s 2ms/step - loss: 0.1876 - accuracy: 0.9292\n",
            "Epoch 26/50\n",
            "6000/6000 [==============================] - 11s 2ms/step - loss: 0.1842 - accuracy: 0.9307\n",
            "Epoch 27/50\n",
            "6000/6000 [==============================] - 11s 2ms/step - loss: 0.1850 - accuracy: 0.9314\n",
            "Epoch 28/50\n",
            "6000/6000 [==============================] - 11s 2ms/step - loss: 0.1810 - accuracy: 0.9325\n",
            "Epoch 29/50\n",
            "6000/6000 [==============================] - 10s 2ms/step - loss: 0.1780 - accuracy: 0.9333\n",
            "Epoch 30/50\n",
            "6000/6000 [==============================] - 10s 2ms/step - loss: 0.1778 - accuracy: 0.9329\n",
            "Epoch 31/50\n",
            "6000/6000 [==============================] - 10s 2ms/step - loss: 0.1781 - accuracy: 0.9331\n",
            "Epoch 32/50\n",
            "6000/6000 [==============================] - 10s 2ms/step - loss: 0.1734 - accuracy: 0.9351\n",
            "Epoch 33/50\n",
            "6000/6000 [==============================] - 11s 2ms/step - loss: 0.1726 - accuracy: 0.9363\n",
            "Epoch 34/50\n",
            "6000/6000 [==============================] - 11s 2ms/step - loss: 0.1708 - accuracy: 0.9351\n",
            "Epoch 35/50\n",
            "6000/6000 [==============================] - 10s 2ms/step - loss: 0.1689 - accuracy: 0.9372\n",
            "Epoch 36/50\n",
            "6000/6000 [==============================] - 11s 2ms/step - loss: 0.1660 - accuracy: 0.9377\n",
            "Epoch 37/50\n",
            "6000/6000 [==============================] - 11s 2ms/step - loss: 0.1640 - accuracy: 0.9388\n",
            "Epoch 38/50\n",
            "6000/6000 [==============================] - 11s 2ms/step - loss: 0.1665 - accuracy: 0.9395\n",
            "Epoch 39/50\n",
            "6000/6000 [==============================] - 11s 2ms/step - loss: 0.1618 - accuracy: 0.9396\n",
            "Epoch 40/50\n",
            "6000/6000 [==============================] - 11s 2ms/step - loss: 0.1591 - accuracy: 0.9412\n",
            "Epoch 41/50\n",
            "6000/6000 [==============================] - 11s 2ms/step - loss: 0.1586 - accuracy: 0.9408\n",
            "Epoch 42/50\n",
            "6000/6000 [==============================] - 11s 2ms/step - loss: 0.1593 - accuracy: 0.9403\n",
            "Epoch 43/50\n",
            "6000/6000 [==============================] - 10s 2ms/step - loss: 0.1560 - accuracy: 0.9419\n",
            "Epoch 44/50\n",
            "6000/6000 [==============================] - 10s 2ms/step - loss: 0.1581 - accuracy: 0.9425\n",
            "Epoch 45/50\n",
            "6000/6000 [==============================] - 10s 2ms/step - loss: 0.1572 - accuracy: 0.9428\n",
            "Epoch 46/50\n",
            "6000/6000 [==============================] - 10s 2ms/step - loss: 0.1550 - accuracy: 0.9425\n",
            "Epoch 47/50\n",
            "6000/6000 [==============================] - 10s 2ms/step - loss: 0.1530 - accuracy: 0.9433\n",
            "Epoch 48/50\n",
            "6000/6000 [==============================] - 10s 2ms/step - loss: 0.1574 - accuracy: 0.9438\n",
            "Epoch 49/50\n",
            "6000/6000 [==============================] - 10s 2ms/step - loss: 0.1516 - accuracy: 0.9446\n",
            "Epoch 50/50\n",
            "6000/6000 [==============================] - 10s 2ms/step - loss: 0.1488 - accuracy: 0.9456\n"
          ],
          "name": "stdout"
        },
        {
          "output_type": "execute_result",
          "data": {
            "text/plain": [
              "<tensorflow.python.keras.callbacks.History at 0x7f28411b10f0>"
            ]
          },
          "metadata": {
            "tags": []
          },
          "execution_count": 12
        }
      ]
    },
    {
      "cell_type": "markdown",
      "metadata": {
        "id": "r17foWZf6c9X",
        "colab_type": "text"
      },
      "source": [
        "# **Evaluate accuracy**"
      ]
    },
    {
      "cell_type": "code",
      "metadata": {
        "id": "N9Ww-rLz6dxe",
        "colab_type": "code",
        "outputId": "75f004b6-18c8-46df-d554-acb96e1eeb5b",
        "colab": {
          "base_uri": "https://localhost:8080/",
          "height": 68
        }
      },
      "source": [
        "# the accuracy on the test dataset is  less than the accuracy on the training dataset\n",
        "test_loss, test_acc = ann.evaluate(test_images,  test_labels)\n",
        "\n",
        "print('\\nTest accuracy:', test_acc)"
      ],
      "execution_count": 13,
      "outputs": [
        {
          "output_type": "stream",
          "text": [
            "313/313 [==============================] - 0s 1ms/step - loss: 0.7422 - accuracy: 0.8821\n",
            "\n",
            "Test accuracy: 0.882099986076355\n"
          ],
          "name": "stdout"
        }
      ]
    },
    {
      "cell_type": "markdown",
      "metadata": {
        "id": "XvAhr40YBP3s",
        "colab_type": "text"
      },
      "source": [
        "# **Implement the model**"
      ]
    },
    {
      "cell_type": "markdown",
      "metadata": {
        "id": "7BDv1tZZHw2_",
        "colab_type": "text"
      },
      "source": [
        "**prediction the result of the Test set**"
      ]
    },
    {
      "cell_type": "code",
      "metadata": {
        "id": "NS1EoqlcLHDz",
        "colab_type": "code",
        "outputId": "85b546a0-279d-44de-92de-26c890352772",
        "colab": {
          "base_uri": "https://localhost:8080/",
          "height": 68
        }
      },
      "source": [
        "#Predict some images with the trained model\n",
        "from tensorflow.keras import Sequential\n",
        "probability_ann = Sequential([ann, tf.keras.layers.Softmax()])   \n",
        "# prediction the Lable for each model in the testing set \n",
        "predictions = probability_ann.predict(test_images)\n",
        "predictions[1]"
      ],
      "execution_count": 14,
      "outputs": [
        {
          "output_type": "execute_result",
          "data": {
            "text/plain": [
              "array([0.08578426, 0.08574384, 0.22541611, 0.08574427, 0.08692207,\n",
              "       0.08574384, 0.08741406, 0.08574384, 0.08574384, 0.08574384],\n",
              "      dtype=float32)"
            ]
          },
          "metadata": {
            "tags": []
          },
          "execution_count": 14
        }
      ]
    },
    {
      "cell_type": "code",
      "metadata": {
        "id": "ukEus89yQeOe",
        "colab_type": "code",
        "outputId": "418abb48-c78e-47e9-deea-de6cf38c1ae5",
        "colab": {
          "base_uri": "https://localhost:8080/",
          "height": 34
        }
      },
      "source": [
        "# finding the lable has the highest confidence value \n",
        "np.argmax(predictions[1])"
      ],
      "execution_count": 15,
      "outputs": [
        {
          "output_type": "execute_result",
          "data": {
            "text/plain": [
              "2"
            ]
          },
          "metadata": {
            "tags": []
          },
          "execution_count": 15
        }
      ]
    },
    {
      "cell_type": "code",
      "metadata": {
        "id": "IEFPvDQpQjiC",
        "colab_type": "code",
        "outputId": "1bb68652-f93e-40c8-efd9-6f3a8e80e6f0",
        "colab": {
          "base_uri": "https://localhost:8080/",
          "height": 34
        }
      },
      "source": [
        "# examining the text label to verify the correction of this classification\n",
        "test_labels[1]"
      ],
      "execution_count": 16,
      "outputs": [
        {
          "output_type": "execute_result",
          "data": {
            "text/plain": [
              "2"
            ]
          },
          "metadata": {
            "tags": []
          },
          "execution_count": 16
        }
      ]
    },
    {
      "cell_type": "code",
      "metadata": {
        "id": "LObmY3VuRkh1",
        "colab_type": "code",
        "colab": {}
      },
      "source": [
        "def plot_image(i, predictions_array, true_label, img):\n",
        "  predictions_array, true_label, img = predictions_array, true_label[i], img[i]\n",
        "  plt.grid(False)\n",
        "  plt.xticks([])\n",
        "  plt.yticks([])\n",
        "\n",
        "  plt.imshow(img )\n",
        "  plt.colorbar()\n",
        "\n",
        "  predicted_label = np.argmax(predictions_array)\n",
        "  if predicted_label == true_label:\n",
        "    color = 'blue'\n",
        "  else:\n",
        "    color = 'red'\n",
        "\n",
        "  plt.xlabel(\"{} {:2.0f}% ({})\".format(class_names[predicted_label],\n",
        "                                100*np.max(predictions_array),\n",
        "                                class_names[true_label]),\n",
        "                                color=color)\n",
        "  \n",
        "def plot_value_array(i, predictions_array, true_label):\n",
        "  predictions_array, true_label = predictions_array, true_label[i]\n",
        "  plt.grid(False)\n",
        "  plt.xticks(range(10))\n",
        "  plt.yticks([])\n",
        "  thisplot = plt.bar(range(10), predictions_array, color=\"#777777\")\n",
        "  plt.ylim([0, 1])\n",
        "  predicted_label = np.argmax(predictions_array)\n",
        "\n",
        "  thisplot[predicted_label].set_color('red')\n",
        "  thisplot[true_label].set_color('blue')\n"
      ],
      "execution_count": 0,
      "outputs": []
    },
    {
      "cell_type": "markdown",
      "metadata": {
        "id": "VzAb10pPUH_k",
        "colab_type": "text"
      },
      "source": [
        "# **Verify**"
      ]
    },
    {
      "cell_type": "code",
      "metadata": {
        "id": "YjwUC-ZuTMlb",
        "colab_type": "code",
        "outputId": "be5bccac-5db3-4183-b1cf-3c38fa15e5ce",
        "colab": {
          "base_uri": "https://localhost:8080/",
          "height": 215
        }
      },
      "source": [
        "i = 10\n",
        "plt.figure(figsize=(6,3))\n",
        "plt.subplot(1,2,1)\n",
        "plot_image(i, predictions[i], test_labels, test_images)\n",
        "plt.subplot(1,2,2)\n",
        "plot_value_array(i, predictions[i],  test_labels)\n",
        "plt.show()"
      ],
      "execution_count": 18,
      "outputs": [
        {
          "output_type": "display_data",
          "data": {
            "image/png": "[encoded data removed]",
            "text/plain": [
              "<Figure size 432x216 with 3 Axes>"
            ]
          },
          "metadata": {
            "tags": [],
            "needs_background": "light"
          }
        }
      ]
    },
    {
      "cell_type": "markdown",
      "metadata": {
        "id": "65_eyDWDjwaT",
        "colab_type": "text"
      },
      "source": [
        "# **Set of weights and biases**"
      ]
    },
    {
      "cell_type": "code",
      "metadata": {
        "id": "zSQ7NE2AeuTE",
        "colab_type": "code",
        "colab": {}
      },
      "source": [
        "train_steps=1000\n",
        "learning_rate= 0.1\n",
        "\n",
        "W = tf.Variable(tf.random.normal([784,10] , mean=0 , stddev=1.0 , dtype=np.float32))\n",
        "b = tf.Variable(tf.random.normal([10], mean=0 , stddev =1.0 , dtype=np.float32))\n"
      ],
      "execution_count": 0,
      "outputs": []
    },
    {
      "cell_type": "code",
      "metadata": {
        "id": "7W6dtjsmdxag",
        "colab_type": "code",
        "outputId": "8229fb86-2b91-4fd2-a649-fac2a7ef7e35",
        "colab": {
          "base_uri": "https://localhost:8080/",
          "height": 221
        }
      },
      "source": [
        "\n",
        "for step in range(train_steps):\n",
        "    img_batch, lbl_batch = data.next_batch()\n",
        "    with tf.GradientTape() as tape:\n",
        "        logits = tf.matmul(img_batch, W) + b\n",
        "        xent = tf.reduce_mean(tf.nn.sparse_softmax_cross_entropy_with_logits(\n",
        "            logits=logits, labels=lbl_batch))\n",
        "        \n",
        "    grads = tape.gradient(xent, [W, b])\n",
        "    W.assign_sub(learning_rate * grads[0])\n",
        "    b.assign_sub(learning_rate * grads[1])\n",
        "    \n",
        "    if not step % 100:\n",
        "        preds = tf.argmax(logits, axis=1, output_type=tf.int32)\n",
        "        acc = tf.reduce_mean(tf.cast(tf.equal(preds, lbl_batch),\n",
        "                             tf.float32))\n",
        "        print(\"Loss: {} Accuracy: {}\".format(xent, acc))"
      ],
      "execution_count": 20,
      "outputs": [
        {
          "output_type": "stream",
          "text": [
            "Loss: 19.68333625793457 Accuracy: 0.0234375\n",
            "Loss: 3.061208724975586 Accuracy: 0.4296875\n",
            "Loss: 2.054213285446167 Accuracy: 0.6015625\n",
            "Loss: 2.1246299743652344 Accuracy: 0.625\n",
            "Loss: 1.733006477355957 Accuracy: 0.640625\n",
            "Starting new epoch...\n",
            "Loss: 1.8684029579162598 Accuracy: 0.6015625\n",
            "Loss: 1.0892846584320068 Accuracy: 0.7578125\n",
            "Loss: 1.7458280324935913 Accuracy: 0.65625\n",
            "Loss: 1.2436912059783936 Accuracy: 0.7578125\n",
            "Loss: 1.2038085460662842 Accuracy: 0.734375\n",
            "Starting new epoch...\n"
          ],
          "name": "stdout"
        }
      ]
    },
    {
      "cell_type": "markdown",
      "metadata": {
        "id": "GtlHwwOokHp7",
        "colab_type": "text"
      },
      "source": [
        "# **Testing**"
      ]
    },
    {
      "cell_type": "code",
      "metadata": {
        "id": "cLA_6DjNjSms",
        "colab_type": "code",
        "outputId": "cc20e274-22d0-4bd5-84d9-3e52137693be",
        "colab": {
          "base_uri": "https://localhost:8080/",
          "height": 34
        }
      },
      "source": [
        "test_preds = tf.argmax(tf.matmul(data.test_data, W) + b, axis=1,\n",
        "                       output_type=tf.int32)\n",
        "acc = tf.reduce_mean(tf.cast(tf.equal(test_preds, data.test_labels),\n",
        "                             tf.float32))\n",
        "print(acc)"
      ],
      "execution_count": 21,
      "outputs": [
        {
          "output_type": "stream",
          "text": [
            "tf.Tensor(0.7095, shape=(), dtype=float32)\n"
          ],
          "name": "stdout"
        }
      ]
    },
    {
      "cell_type": "code",
      "metadata": {
        "id": "qCxsqbRa4yhB",
        "colab_type": "code",
        "outputId": "165dccbc-7fbe-4ff6-b360-b0972b928a72",
        "colab": {
          "base_uri": "https://localhost:8080/",
          "height": 221
        }
      },
      "source": [
        "train_steps=1000\n",
        "learning_rate= 0.1\n",
        "\n",
        "W1 = tf.Variable(tf.random.normal([784,50] , mean=0 , stddev=0.1 , dtype=np.float32))\n",
        "W2 = tf.Variable(tf.random.normal([50,10] , mean=0 , stddev=0.1 , dtype=np.float32))\n",
        "b1 = tf.Variable(tf.random.normal([50], mean=0 , stddev =0.1 , dtype=np.float32))\n",
        "b2 = tf.Variable(tf.random.normal([], mean=0 , stddev =0.1 , dtype=np.float32))\n",
        "\n",
        "# training\n",
        "for step in range(train_steps):\n",
        "    img_batch, lbl_batch = data.next_batch()\n",
        "    with tf.GradientTape() as tape:\n",
        "        with tf.GradientTape() as tape2:\n",
        "            logits = tf.matmul(tf.nn.relu(tf.matmul(img_batch, W1) + b1),W2)+b2\n",
        "            xent = tf.reduce_mean(tf.nn.sparse_softmax_cross_entropy_with_logits(\n",
        "            logits=logits, labels=lbl_batch))\n",
        "        grads2 = tape2.gradient(xent, [W2, b2])\n",
        "    grads1 = tape.gradient(grads2, [W1, b1])\n",
        "\n",
        "    W2.assign_sub(learning_rate * grads2[0])\n",
        "    b2.assign_sub(learning_rate * grads2[1])\n",
        "    W1.assign_sub(learning_rate * grads1[0])\n",
        "    b1.assign_sub(learning_rate * grads1[1])\n",
        "    \n",
        "    if not step % 100:\n",
        "        preds = tf.argmax(logits, axis=1, output_type=tf.int32)\n",
        "        acc = tf.reduce_mean(tf.cast(tf.equal(preds, lbl_batch),\n",
        "                             tf.float32))\n",
        "        print(\"Loss: {} Accuracy: {}\".format(xent, acc))"
      ],
      "execution_count": 22,
      "outputs": [
        {
          "output_type": "stream",
          "text": [
            "Loss: 2.4723620414733887 Accuracy: 0.1171875\n",
            "Loss: 1.2948331832885742 Accuracy: 0.578125\n",
            "Loss: 1.1132633686065674 Accuracy: 0.625\n",
            "Loss: 0.9354082345962524 Accuracy: 0.734375\n",
            "Loss: 1.111608862876892 Accuracy: 0.59375\n",
            "Starting new epoch...\n",
            "Loss: 1.0565391778945923 Accuracy: 0.625\n",
            "Loss: 0.7824840545654297 Accuracy: 0.765625\n",
            "Loss: 0.9100757837295532 Accuracy: 0.6875\n",
            "Loss: 0.8093403577804565 Accuracy: 0.7578125\n",
            "Starting new epoch...\n",
            "Loss: 0.8204893469810486 Accuracy: 0.671875\n"
          ],
          "name": "stdout"
        }
      ]
    }
  ]
}