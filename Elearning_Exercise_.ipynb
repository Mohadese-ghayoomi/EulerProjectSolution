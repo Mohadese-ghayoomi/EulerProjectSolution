{
  "nbformat": 4,
  "nbformat_minor": 0,
  "metadata": {
    "colab": {
      "name": "Elearning Exercise .ipynb",
      "provenance": [],
      "collapsed_sections": [],
      "include_colab_link": true
    },
    "kernelspec": {
      "name": "python3",
      "display_name": "Python 3"
    }
  },
  "cells": [
    {
      "cell_type": "markdown",
      "metadata": {
        "id": "view-in-github",
        "colab_type": "text"
      },
      "source": [
        "<a href=\"https://colab.research.google.com/github/Mohadese-ghayoomi/EulerProjectSolution/blob/master/Elearning_Exercise_.ipynb\" target=\"_parent\"><img src=\"https://colab.research.google.com/assets/colab-badge.svg\" alt=\"Open In Colab\"/></a>"
      ]
    },
    {
      "cell_type": "markdown",
      "metadata": {
        "id": "pudSXReLs1TD",
        "colab_type": "text"
      },
      "source": [
        "\n",
        "# **Import Libraries**"
      ]
    },
    {
      "cell_type": "code",
      "metadata": {
        "id": "ImIS8fxIs5wJ",
        "colab_type": "code",
        "outputId": "70967242-31e1-4cf6-e709-2802853d8827",
        "colab": {
          "base_uri": "https://localhost:8080/",
          "height": 68
        }
      },
      "source": [
        "%tensorflow_version 2.x \n",
        "import tensorflow as tf\n",
        "from tensorflow import keras\n",
        "import numpy as np\n",
        "import matplotlib.pyplot as plt\n",
        "import os\n",
        "print('Version is',tf.__version__)\n",
        "from google.colab import drive; drive.mount('/content/drive')\n",
        "os.getcwd()\n",
        "%cd /content/drive/My Drive/Colab Notebooks\n",
        "from datasets import MNISTDataset"
      ],
      "execution_count": 14,
      "outputs": [
        {
          "output_type": "stream",
          "text": [
            "Version is 2.2.0-rc3\n",
            "Drive already mounted at /content/drive; to attempt to forcibly remount, call drive.mount(\"/content/drive\", force_remount=True).\n",
            "/content/drive/My Drive/Colab Notebooks\n"
          ],
          "name": "stdout"
        }
      ]
    },
    {
      "cell_type": "markdown",
      "metadata": {
        "id": "WxmibJ7FtQ99",
        "colab_type": "text"
      },
      "source": [
        "# **import Fashion Dataset**"
      ]
    },
    {
      "cell_type": "code",
      "metadata": {
        "id": "VnaBNrXYtRMK",
        "colab_type": "code",
        "outputId": "32806b32-40f8-4328-8b90-76a2440a94e3",
        "colab": {
          "base_uri": "https://localhost:8080/",
          "height": 34
        }
      },
      "source": [
        "fashion_mnist = keras.datasets.fashion_mnist\n",
        "(train_images, train_labels), (test_images, test_labels) = fashion_mnist.load_data()\n",
        "print(train_images.shape, train_labels.shape)\n",
        "data = MNISTDataset(train_images.reshape([-1, 784]), train_labels, \n",
        "                    test_images.reshape([-1, 784]), test_labels,\n",
        "                    batch_size=128)"
      ],
      "execution_count": 51,
      "outputs": [
        {
          "output_type": "stream",
          "text": [
            "(60000, 28, 28) (60000,)\n"
          ],
          "name": "stdout"
        }
      ]
    },
    {
      "cell_type": "markdown",
      "metadata": {
        "id": "fpZVV9hDtpqj",
        "colab_type": "text"
      },
      "source": [
        "# **Assign Class name to data**"
      ]
    },
    {
      "cell_type": "code",
      "metadata": {
        "id": "kibDZC67tow_",
        "colab_type": "code",
        "colab": {}
      },
      "source": [
        "class_names = ['T-shirt/top', 'Trouser', 'Pullover', 'Dress', 'Coat',\n",
        "               'Sandal', 'Shirt', 'Sneaker', 'Bag', 'Ankle boot']"
      ],
      "execution_count": 0,
      "outputs": []
    },
    {
      "cell_type": "markdown",
      "metadata": {
        "id": "KEffvyDcuL6P",
        "colab_type": "text"
      },
      "source": [
        "# **Explor Data**"
      ]
    },
    {
      "cell_type": "code",
      "metadata": {
        "id": "Zmkeux3YuMGS",
        "colab_type": "code",
        "outputId": "90abe03b-290c-4036-e350-3bab3d58311f",
        "colab": {
          "base_uri": "https://localhost:8080/",
          "height": 333
        }
      },
      "source": [
        "print(train_images.shape)\n",
        "print(train_labels.shape)\n",
        "print(len(test_images))\n",
        "plt.figure()\n",
        "plt.imshow(train_images[5000])\n",
        "plt.colorbar()"
      ],
      "execution_count": 32,
      "outputs": [
        {
          "output_type": "stream",
          "text": [
            "(60000, 28, 28)\n",
            "(60000,)\n",
            "10000\n"
          ],
          "name": "stdout"
        },
        {
          "output_type": "execute_result",
          "data": {
            "text/plain": [
              "<matplotlib.colorbar.Colorbar at 0x7f0ed4c38c88>"
            ]
          },
          "metadata": {
            "tags": []
          },
          "execution_count": 32
        },
        {
          "output_type": "display_data",
          "data": {
            "image/png": "[encoded data removed]",
            "text/plain": [
              "<Figure size 432x288 with 2 Axes>"
            ]
          },
          "metadata": {
            "tags": [],
            "needs_background": "light"
          }
        }
      ]
    },
    {
      "cell_type": "markdown",
      "metadata": {
        "id": "JsVNuRmgvNf8",
        "colab_type": "text"
      },
      "source": [
        "# **Convert the range of numbers between 0 and 1 before feeding to the network**"
      ]
    },
    {
      "cell_type": "code",
      "metadata": {
        "id": "kNu9k9ZvvNsc",
        "colab_type": "code",
        "outputId": "285c1926-aee8-46c9-8bfa-0f3b7a539c7a",
        "colab": {
          "base_uri": "https://localhost:8080/",
          "height": 286
        }
      },
      "source": [
        "train_images = train_images / 255.0\n",
        "test_images = test_images / 255.0\n",
        "plt.figure()\n",
        "plt.imshow(train_images[5000])\n",
        "plt.colorbar()"
      ],
      "execution_count": 33,
      "outputs": [
        {
          "output_type": "execute_result",
          "data": {
            "text/plain": [
              "<matplotlib.colorbar.Colorbar at 0x7f0ed4bd9ac8>"
            ]
          },
          "metadata": {
            "tags": []
          },
          "execution_count": 33
        },
        {
          "output_type": "display_data",
          "data": {
            "image/png": "[encoded data removed]",
            "text/plain": [
              "<Figure size 432x288 with 2 Axes>"
            ]
          },
          "metadata": {
            "tags": [],
            "needs_background": "light"
          }
        }
      ]
    },
    {
      "cell_type": "markdown",
      "metadata": {
        "id": "xXCaDyk9vwiC",
        "colab_type": "text"
      },
      "source": [
        "# **Model with Tensorflow**"
      ]
    },
    {
      "cell_type": "markdown",
      "metadata": {
        "id": "C6U1aUbetp_j",
        "colab_type": "text"
      },
      "source": [
        "## **set up the Layers**"
      ]
    },
    {
      "cell_type": "code",
      "metadata": {
        "id": "Nzv2z0G8gXgI",
        "colab_type": "code",
        "colab": {
          "base_uri": "https://localhost:8080/",
          "height": 255
        },
        "outputId": "19137f87-7276-4048-a620-f6519496ea81"
      },
      "source": [
        "from tensorflow.keras import Sequential\n",
        "from tensorflow.keras.layers import Flatten,Dense\n",
        "model = Sequential()\n",
        "#transforms the format of the images from a two-dimensional array to one dimensional array \n",
        "model.add(Flatten(input_shape = (28,28)))\n",
        "model.add(Dense(128, activation = 'relu'))\n",
        "model.add(Dense(10,  activation = 'softmax'))\n",
        "model.summary()\n"
      ],
      "execution_count": 34,
      "outputs": [
        {
          "output_type": "stream",
          "text": [
            "Model: \"sequential_4\"\n",
            "_________________________________________________________________\n",
            "Layer (type)                 Output Shape              Param #   \n",
            "=================================================================\n",
            "flatten_2 (Flatten)          (None, 784)               0         \n",
            "_________________________________________________________________\n",
            "dense_4 (Dense)              (None, 128)               100480    \n",
            "_________________________________________________________________\n",
            "dense_5 (Dense)              (None, 10)                1290      \n",
            "=================================================================\n",
            "Total params: 101,770\n",
            "Trainable params: 101,770\n",
            "Non-trainable params: 0\n",
            "_________________________________________________________________\n"
          ],
          "name": "stdout"
        }
      ]
    },
    {
      "cell_type": "markdown",
      "metadata": {
        "id": "jB4NSRk9z5xj",
        "colab_type": "text"
      },
      "source": [
        "## **Compile the Model**"
      ]
    },
    {
      "cell_type": "code",
      "metadata": {
        "id": "FhU1_wBZz2x6",
        "colab_type": "code",
        "colab": {}
      },
      "source": [
        "# Adding a few setting during the model compile step \n",
        "#1.Loss function(measure the accuracy of the model )\n",
        "#2.Optimizer(Updating the model on the basis of observed data and the loss function)\n",
        "#3.Metrics(monitor the training and testing steps)\n",
        "model.compile(optimizer='adam', loss='sparse_categorical_crossentropy', metrics=['accuracy'])"
      ],
      "execution_count": 0,
      "outputs": []
    },
    {
      "cell_type": "markdown",
      "metadata": {
        "id": "juXmgfrN4g5W",
        "colab_type": "text"
      },
      "source": [
        "# **Model train**"
      ]
    },
    {
      "cell_type": "code",
      "metadata": {
        "id": "CBMLdbgN4hFq",
        "colab_type": "code",
        "outputId": "079886ba-3b6b-4e40-c455-2041f44077cb",
        "colab": {
          "base_uri": "https://localhost:8080/",
          "height": 391
        }
      },
      "source": [
        "model.fit(train_images, train_labels, epochs=10)"
      ],
      "execution_count": 36,
      "outputs": [
        {
          "output_type": "stream",
          "text": [
            "Train on 60000 samples\n",
            "Epoch 1/10\n",
            "60000/60000 [==============================] - 3s 58us/sample - loss: 0.5058 - acc: 0.8232\n",
            "Epoch 2/10\n",
            "60000/60000 [==============================] - 3s 58us/sample - loss: 0.3782 - acc: 0.8639\n",
            "Epoch 3/10\n",
            "60000/60000 [==============================] - 3s 58us/sample - loss: 0.3416 - acc: 0.8747\n",
            "Epoch 4/10\n",
            "60000/60000 [==============================] - 3s 58us/sample - loss: 0.3179 - acc: 0.8834\n",
            "Epoch 5/10\n",
            "60000/60000 [==============================] - 3s 57us/sample - loss: 0.2996 - acc: 0.8901\n",
            "Epoch 6/10\n",
            "60000/60000 [==============================] - 4s 59us/sample - loss: 0.2832 - acc: 0.8959\n",
            "Epoch 7/10\n",
            "60000/60000 [==============================] - 3s 58us/sample - loss: 0.2700 - acc: 0.9012\n",
            "Epoch 8/10\n",
            "60000/60000 [==============================] - 4s 59us/sample - loss: 0.2592 - acc: 0.9036\n",
            "Epoch 9/10\n",
            "60000/60000 [==============================] - 4s 58us/sample - loss: 0.2499 - acc: 0.9065\n",
            "Epoch 10/10\n",
            "60000/60000 [==============================] - 4s 58us/sample - loss: 0.2433 - acc: 0.9097\n"
          ],
          "name": "stdout"
        },
        {
          "output_type": "execute_result",
          "data": {
            "text/plain": [
              "<tensorflow.python.keras.callbacks.History at 0x7f0ed4c4bcc0>"
            ]
          },
          "metadata": {
            "tags": []
          },
          "execution_count": 36
        }
      ]
    },
    {
      "cell_type": "markdown",
      "metadata": {
        "id": "r17foWZf6c9X",
        "colab_type": "text"
      },
      "source": [
        "# **Evaluate accuracy**"
      ]
    },
    {
      "cell_type": "code",
      "metadata": {
        "id": "N9Ww-rLz6dxe",
        "colab_type": "code",
        "outputId": "5d11b4ae-a8a3-4926-e3ce-9331023f00ec",
        "colab": {
          "base_uri": "https://localhost:8080/",
          "height": 51
        }
      },
      "source": [
        "test_loss, test_acc = model.evaluate(test_images,  test_labels)\n",
        "\n",
        "print('\\nTest accuracy:', test_acc)"
      ],
      "execution_count": 37,
      "outputs": [
        {
          "output_type": "stream",
          "text": [
            "\n",
            "Test accuracy: 0.8835\n"
          ],
          "name": "stdout"
        }
      ]
    },
    {
      "cell_type": "markdown",
      "metadata": {
        "id": "XvAhr40YBP3s",
        "colab_type": "text"
      },
      "source": [
        "# **Implement the model**"
      ]
    },
    {
      "cell_type": "markdown",
      "metadata": {
        "id": "7BDv1tZZHw2_",
        "colab_type": "text"
      },
      "source": [
        "# **predict Model**"
      ]
    },
    {
      "cell_type": "code",
      "metadata": {
        "id": "NS1EoqlcLHDz",
        "colab_type": "code",
        "outputId": "781ebda8-c223-4042-d42f-ced2c598786b",
        "colab": {
          "base_uri": "https://localhost:8080/",
          "height": 68
        }
      },
      "source": [
        "#Predict some images with the trained model\n",
        "probability_model = Sequential([model, tf.keras.layers.Softmax()])    \n",
        "predictions = probability_model.predict(test_images)\n",
        "predictions[1]\n"
      ],
      "execution_count": 38,
      "outputs": [
        {
          "output_type": "execute_result",
          "data": {
            "text/plain": [
              "array([0.08534041, 0.08533916, 0.23193102, 0.08533916, 0.08534916,\n",
              "       0.08533916, 0.08534441, 0.08533916, 0.08533916, 0.08533916],\n",
              "      dtype=float32)"
            ]
          },
          "metadata": {
            "tags": []
          },
          "execution_count": 38
        }
      ]
    },
    {
      "cell_type": "code",
      "metadata": {
        "id": "ukEus89yQeOe",
        "colab_type": "code",
        "outputId": "2e4ebe3d-0d55-4fce-f07c-bda280959f6e",
        "colab": {
          "base_uri": "https://localhost:8080/",
          "height": 34
        }
      },
      "source": [
        "np.argmax(predictions[1])"
      ],
      "execution_count": 39,
      "outputs": [
        {
          "output_type": "execute_result",
          "data": {
            "text/plain": [
              "2"
            ]
          },
          "metadata": {
            "tags": []
          },
          "execution_count": 39
        }
      ]
    },
    {
      "cell_type": "code",
      "metadata": {
        "id": "IEFPvDQpQjiC",
        "colab_type": "code",
        "outputId": "071bec25-f929-45d4-d5a1-c403257e0227",
        "colab": {
          "base_uri": "https://localhost:8080/",
          "height": 34
        }
      },
      "source": [
        "test_labels[1]"
      ],
      "execution_count": 40,
      "outputs": [
        {
          "output_type": "execute_result",
          "data": {
            "text/plain": [
              "2"
            ]
          },
          "metadata": {
            "tags": []
          },
          "execution_count": 40
        }
      ]
    },
    {
      "cell_type": "code",
      "metadata": {
        "id": "LObmY3VuRkh1",
        "colab_type": "code",
        "colab": {}
      },
      "source": [
        "def plot_image(i, predictions_array, true_label, img):\n",
        "  predictions_array, true_label, img = predictions_array, true_label[i], img[i]\n",
        "  plt.grid(False)\n",
        "  plt.xticks([])\n",
        "  plt.yticks([])\n",
        "\n",
        "  plt.imshow(img )\n",
        "  plt.colorbar()\n",
        "\n",
        "  predicted_label = np.argmax(predictions_array)\n",
        "  if predicted_label == true_label:\n",
        "    color = 'blue'\n",
        "  else:\n",
        "    color = 'red'\n",
        "\n",
        "  plt.xlabel(\"{} {:2.0f}% ({})\".format(class_names[predicted_label],\n",
        "                                100*np.max(predictions_array),\n",
        "                                class_names[true_label]),\n",
        "                                color=color)\n",
        "  \n",
        "def plot_value_array(i, predictions_array, true_label):\n",
        "  predictions_array, true_label = predictions_array, true_label[i]\n",
        "  plt.grid(False)\n",
        "  plt.xticks(range(10))\n",
        "  plt.yticks([])\n",
        "  thisplot = plt.bar(range(10), predictions_array, color=\"#777777\")\n",
        "  plt.ylim([0, 1])\n",
        "  predicted_label = np.argmax(predictions_array)\n",
        "\n",
        "  thisplot[predicted_label].set_color('red')\n",
        "  thisplot[true_label].set_color('blue')\n"
      ],
      "execution_count": 0,
      "outputs": []
    },
    {
      "cell_type": "markdown",
      "metadata": {
        "id": "VzAb10pPUH_k",
        "colab_type": "text"
      },
      "source": [
        "# **Verify**"
      ]
    },
    {
      "cell_type": "code",
      "metadata": {
        "id": "YjwUC-ZuTMlb",
        "colab_type": "code",
        "outputId": "9e8201db-7084-4137-ebad-3f1f3125dc4b",
        "colab": {
          "base_uri": "https://localhost:8080/",
          "height": 215
        }
      },
      "source": [
        "i = 9000\n",
        "plt.figure(figsize=(6,3))\n",
        "plt.subplot(1,2,1)\n",
        "plot_image(i, predictions[i], test_labels, test_images)\n",
        "plt.subplot(1,2,2)\n",
        "plot_value_array(i, predictions[i],  test_labels)\n",
        "plt.show()"
      ],
      "execution_count": 42,
      "outputs": [
        {
          "output_type": "display_data",
          "data": {
            "image/png": "[encoded data removed]",
            "text/plain": [
              "<Figure size 432x216 with 3 Axes>"
            ]
          },
          "metadata": {
            "tags": [],
            "needs_background": "light"
          }
        }
      ]
    },
    {
      "cell_type": "markdown",
      "metadata": {
        "id": "65_eyDWDjwaT",
        "colab_type": "text"
      },
      "source": [
        "# **Set of weights and biases**"
      ]
    },
    {
      "cell_type": "code",
      "metadata": {
        "id": "zSQ7NE2AeuTE",
        "colab_type": "code",
        "colab": {}
      },
      "source": [
        "W = tf.Variable(tf.random.normal([784,10] , mean=0 , stddev=1.0 , dtype=np.float32))\n",
        "b = tf.Variable(tf.random.normal([10], mean=0 , stddev =1.0 , dtype=np.float32))\n"
      ],
      "execution_count": 0,
      "outputs": []
    },
    {
      "cell_type": "code",
      "metadata": {
        "id": "7W6dtjsmdxag",
        "colab_type": "code",
        "outputId": "e3905f19-4607-434d-bcde-99a84ed6bac3",
        "colab": {
          "base_uri": "https://localhost:8080/",
          "height": 221
        }
      },
      "source": [
        "train_steps=1000\n",
        "learning_rate= 0.1\n",
        "for step in range(train_steps):\n",
        "    img_batch, lbl_batch = data.next_batch()\n",
        "    with tf.GradientTape() as tape:\n",
        "        logits = tf.matmul(img_batch, W) + b\n",
        "        xent = tf.reduce_mean(tf.nn.sparse_softmax_cross_entropy_with_logits(\n",
        "            logits=logits, labels=lbl_batch))\n",
        "        \n",
        "    grads = tape.gradient(xent, [W, b])\n",
        "    W.assign_sub(learning_rate * grads[0])\n",
        "    b.assign_sub(learning_rate * grads[1])\n",
        "    \n",
        "    if not step % 100:\n",
        "        preds = tf.argmax(logits, axis=1, output_type=tf.int32)\n",
        "        acc = tf.reduce_mean(tf.cast(tf.equal(preds, lbl_batch),\n",
        "                             tf.float32))\n",
        "        print(\"Loss: {} Accuracy: {}\".format(xent, acc))"
      ],
      "execution_count": 49,
      "outputs": [
        {
          "output_type": "stream",
          "text": [
            "Loss: Tensor(\"Mean_971:0\", shape=(), dtype=float32) Accuracy: Tensor(\"Mean_972:0\", shape=(), dtype=float32)\n",
            "Loss: Tensor(\"Mean_1072:0\", shape=(), dtype=float32) Accuracy: Tensor(\"Mean_1073:0\", shape=(), dtype=float32)\n",
            "Loss: Tensor(\"Mean_1173:0\", shape=(), dtype=float32) Accuracy: Tensor(\"Mean_1174:0\", shape=(), dtype=float32)\n",
            "Loss: Tensor(\"Mean_1274:0\", shape=(), dtype=float32) Accuracy: Tensor(\"Mean_1275:0\", shape=(), dtype=float32)\n",
            "Loss: Tensor(\"Mean_1375:0\", shape=(), dtype=float32) Accuracy: Tensor(\"Mean_1376:0\", shape=(), dtype=float32)\n",
            "Starting new epoch...\n",
            "Loss: Tensor(\"Mean_1476:0\", shape=(), dtype=float32) Accuracy: Tensor(\"Mean_1477:0\", shape=(), dtype=float32)\n",
            "Loss: Tensor(\"Mean_1577:0\", shape=(), dtype=float32) Accuracy: Tensor(\"Mean_1578:0\", shape=(), dtype=float32)\n",
            "Loss: Tensor(\"Mean_1678:0\", shape=(), dtype=float32) Accuracy: Tensor(\"Mean_1679:0\", shape=(), dtype=float32)\n",
            "Loss: Tensor(\"Mean_1779:0\", shape=(), dtype=float32) Accuracy: Tensor(\"Mean_1780:0\", shape=(), dtype=float32)\n",
            "Loss: Tensor(\"Mean_1880:0\", shape=(), dtype=float32) Accuracy: Tensor(\"Mean_1881:0\", shape=(), dtype=float32)\n",
            "Starting new epoch...\n"
          ],
          "name": "stdout"
        }
      ]
    },
    {
      "cell_type": "markdown",
      "metadata": {
        "id": "GtlHwwOokHp7",
        "colab_type": "text"
      },
      "source": [
        "# **Testing**"
      ]
    },
    {
      "cell_type": "code",
      "metadata": {
        "id": "cLA_6DjNjSms",
        "colab_type": "code",
        "colab": {
          "base_uri": "https://localhost:8080/",
          "height": 34
        },
        "outputId": "d12a4d8a-23af-4c93-8932-44e39e224714"
      },
      "source": [
        "test_preds = tf.argmax(tf.matmul(data.test_data, W) + b, axis=1,\n",
        "                       output_type=tf.int32)\n",
        "acc = tf.reduce_mean(tf.cast(tf.equal(test_preds, data.test_labels),\n",
        "                             tf.float32))\n",
        "print(acc)"
      ],
      "execution_count": 61,
      "outputs": [
        {
          "output_type": "stream",
          "text": [
            "Tensor(\"Mean_2994:0\", shape=(), dtype=float32)\n"
          ],
          "name": "stdout"
        }
      ]
    }
  ]
}