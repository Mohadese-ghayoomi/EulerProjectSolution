{
  "nbformat": 4,
  "nbformat_minor": 0,
  "metadata": {
    "colab": {
      "name": "ASSIGNMENT2.ipynb",
      "provenance": [],
      "include_colab_link": true
    },
    "kernelspec": {
      "name": "python3",
      "display_name": "Python 3"
    }
  },
  "cells": [
    {
      "cell_type": "markdown",
      "metadata": {
        "id": "view-in-github",
        "colab_type": "text"
      },
      "source": [
        "<a href=\"https://colab.research.google.com/github/Mohadese-ghayoomi/EulerProjectSolution/blob/master/ASSIGNMENT2.ipynb\" target=\"_parent\"><img src=\"https://colab.research.google.com/assets/colab-badge.svg\" alt=\"Open In Colab\"/></a>"
      ]
    },
    {
      "cell_type": "code",
      "metadata": {
        "id": "EyFCYPg1crR3",
        "colab_type": "code",
        "colab": {}
      },
      "source": [
        "try:\n",
        "  # %tensorflow_version only exists in Colab.\n",
        "  %tensorflow_version 2.x\n",
        "except Exception:\n",
        "  pass\n",
        "\n",
        "# Load the TensorBoard notebook extension.\n",
        "%load_ext tensorboard"
      ],
      "execution_count": 0,
      "outputs": []
    },
    {
      "cell_type": "code",
      "metadata": {
        "id": "Ka4I0k-sczmd",
        "colab_type": "code",
        "outputId": "feb72ddf-bffc-4e0f-f81f-6c99a3d38bc7",
        "colab": {
          "base_uri": "https://localhost:8080/",
          "height": 154
        }
      },
      "source": [
        "from __future__ import absolute_import\n",
        "from __future__ import division\n",
        "from __future__ import print_function\n",
        "from time import time\n",
        "from datetime import datetime\n",
        "import io\n",
        "import itertools\n",
        "from packaging import version\n",
        "from six.moves import range\n",
        "\n",
        "import tensorflow as tf\n",
        "from tensorflow import keras\n",
        "\n",
        "import matplotlib.pyplot as plt\n",
        "import numpy as np\n",
        "import sklearn.metrics\n",
        "\n",
        "print(\"TensorFlow version: \", tf.__version__)\n",
        "assert version.parse(tf.__version__).release[0] >= 2, \\\n",
        "    \"This notebook requires TensorFlow 2.0 or above.\"\n",
        "from google.colab import drive; drive.mount('/content/drive')\n",
        "import os\n",
        "os.getcwd()\n",
        "%cd /content/drive/My Drive/Colab Notebooks\n",
        "from datasets import MNISTDataset"
      ],
      "execution_count": 0,
      "outputs": [
        {
          "output_type": "stream",
          "text": [
            "TensorFlow version:  2.2.0-rc3\n",
            "Go to this URL in a browser: https://accounts.google.com/o/oauth2/auth?client_id=947318989803-6bn6qk8qdgf4n4g3pfee6491hc0brc4i.apps.googleusercontent.com&redirect_uri=urn%3aietf%3awg%3aoauth%3a2.0%3aoob&response_type=code&scope=email%20https%3a%2f%2fwww.googleapis.com%2fauth%2fdocs.test%20https%3a%2f%2fwww.googleapis.com%2fauth%2fdrive%20https%3a%2f%2fwww.googleapis.com%2fauth%2fdrive.photos.readonly%20https%3a%2f%2fwww.googleapis.com%2fauth%2fpeopleapi.readonly\n",
            "\n",
            "Enter your authorization code:\n",
            "··········\n",
            "Mounted at /content/drive\n",
            "/content/drive/My Drive/Colab Notebooks\n"
          ],
          "name": "stdout"
        }
      ]
    },
    {
      "cell_type": "code",
      "metadata": {
        "id": "5H7ZlMRrc2dJ",
        "colab_type": "code",
        "colab": {}
      },
      "source": [
        "# Download the data. The data is already divided into train and test.\n",
        "# The labels are integers representing classes.\n",
        "mnist = keras.datasets.mnist\n",
        "(train_imgs, train_lbls), (test_imgs, test_lbls) = \\\n",
        "    mnist.load_data()\n",
        "mnist = MNISTDataset(train_imgs.reshape((-1, 784)), train_lbls,\n",
        "                     test_imgs.reshape((-1, 784)), test_lbls,\n",
        "                     batch_size=256, seed=int(time()))\n",
        "# Names of the integer classes, i.e., 0 -> T-short/top, 1 -> Trouser, etc.\n",
        "class_names = ['zero','one', 'Two', 'Three', 'Four', 'Five',\n",
        "               'Six', 'Seven', 'eight', 'nine', 'ten']\n",
        "train_imgs = train_imgs / 255.0\n",
        "test_imgs = test_imgs / 255.0"
      ],
      "execution_count": 0,
      "outputs": []
    },
    {
      "cell_type": "markdown",
      "metadata": {
        "id": "ruutINGZdGWv",
        "colab_type": "text"
      },
      "source": [
        "# **FAIL1**\n",
        "The error in this file is solved using Hyperparameter tuning.\n",
        "A few reasons for the cause of NaN errors is: a) Cross_ entropy or b) large number of connected layers.\n",
        "The number of connected layers in this example was 8. By tuning the hyperparameter, it was found that the layers above 4 caused an overflow leading to the NaN error."
      ]
    },
    {
      "cell_type": "code",
      "metadata": {
        "id": "YuZ6i4s2dFkG",
        "colab_type": "code",
        "outputId": "034bbfd8-c5c8-4ca6-e5ed-31cfdb6923e3",
        "colab": {
          "base_uri": "https://localhost:8080/",
          "height": 527
        }
      },
      "source": [
        "# define the model first, from input to output\n",
        "\n",
        "# this is a super deep model, cool!\n",
        "\n",
        "n_units = 100\n",
        "n_layers = 8\n",
        "w_range = 0.4\n",
        "\n",
        "# just set up a \"chain\" of hidden layers\n",
        "layers = []\n",
        "\n",
        "for layer in range(n_layers):\n",
        "    layers.append(tf.keras.layers.Dense(\n",
        "        n_units, activation=tf.nn.tanh,\n",
        "        kernel_initializer=tf.initializers.RandomUniform(minval=-w_range,\n",
        "                                                         maxval=w_range),\n",
        "        bias_initializer=tf.initializers.constant(0.001)))\n",
        "\n",
        "# finally add the output layer\n",
        "layers.append(tf.keras.layers.Dense(\n",
        "    10, kernel_initializer=tf.initializers.RandomUniform(minval=-w_range,\n",
        "                                                         maxval=w_range)))\n",
        "accuracy=[]\n",
        "loss=[]\n",
        "lr = 0.1\n",
        "for step in range(2000):\n",
        "    img_batch, lbl_batch = mnist.next_batch()\n",
        "    with tf.GradientTape() as tape:\n",
        "        # here we just run all the layers in sequence via a for-loop\n",
        "        out = img_batch\n",
        "        for layer in layers:\n",
        "            out = layer(out)\n",
        "        xent = tf.reduce_mean(tf.nn.sparse_softmax_cross_entropy_with_logits(\n",
        "            logits=out, labels=lbl_batch))\n",
        "\n",
        "    weights = [var for l in layers for var in l.trainable_variables]\n",
        "    grads = tape.gradient(xent, weights)\n",
        "    for grad, var in zip(grads, weights):\n",
        "        var.assign_sub(lr*grad)\n",
        "\n",
        "    if not step % 100:\n",
        "        preds = tf.argmax(out, axis=1, output_type=tf.int32)\n",
        "        acc = tf.reduce_mean(tf.cast(tf.equal(preds, lbl_batch), tf.float32))\n",
        "        accuracy.append(acc)\n",
        "        loss.append(xent)\n",
        "        print(\"Loss: {} Accuracy: {}\".format(xent, acc))\n",
        "\n",
        "\n",
        "out = mnist.test_data\n",
        "for layer in layers:\n",
        "    out = layer(out)\n",
        "test_preds = tf.argmax(out, axis=1, output_type=tf.int32)\n",
        "acc = tf.reduce_mean(tf.cast(tf.equal(test_preds, mnist.test_labels), tf.float32))\n",
        "print(\"Final test accuracy: {}\".format(acc))\n"
      ],
      "execution_count": 59,
      "outputs": [
        {
          "output_type": "stream",
          "text": [
            "Loss: 3.843960762023926 Accuracy: 0.09765625\n",
            "Loss: 0.7123430967330933 Accuracy: 0.796875\n",
            "Starting new epoch...\n",
            "Loss: 0.3953821659088135 Accuracy: 0.8671875\n",
            "Loss: 0.526154637336731 Accuracy: 0.875\n",
            "Starting new epoch...\n",
            "Loss: 0.317238450050354 Accuracy: 0.90625\n",
            "Loss: 0.22693264484405518 Accuracy: 0.93359375\n",
            "Starting new epoch...\n",
            "Loss: 0.21705962717533112 Accuracy: 0.9375\n",
            "Loss: 0.2842073142528534 Accuracy: 0.91015625\n",
            "Loss: 0.17896336317062378 Accuracy: 0.94140625\n",
            "Starting new epoch...\n",
            "Loss: 0.21249139308929443 Accuracy: 0.9375\n",
            "Loss: 0.15137720108032227 Accuracy: 0.9609375\n",
            "Starting new epoch...\n",
            "Loss: 0.1747284233570099 Accuracy: 0.953125\n",
            "Loss: 0.11557140946388245 Accuracy: 0.9765625\n",
            "Starting new epoch...\n",
            "Loss: 0.10932523757219315 Accuracy: 0.96484375\n",
            "Loss: 0.11197364330291748 Accuracy: 0.96484375\n",
            "Loss: 0.17424894869327545 Accuracy: 0.95703125\n",
            "Starting new epoch...\n",
            "Loss: 0.09268994629383087 Accuracy: 0.96484375\n",
            "Loss: 0.07290907204151154 Accuracy: 0.98046875\n",
            "Starting new epoch...\n",
            "Loss: 0.08317041397094727 Accuracy: 0.98046875\n",
            "Loss: 0.06061974912881851 Accuracy: 0.984375\n",
            "Starting new epoch...\n",
            "Final test accuracy: 0.9348000288009644\n"
          ],
          "name": "stdout"
        }
      ]
    },
    {
      "cell_type": "code",
      "metadata": {
        "id": "2NJbgg3EebNa",
        "colab_type": "code",
        "outputId": "b00c2372-80aa-4d17-c83e-db5b53281ea6",
        "colab": {
          "base_uri": "https://localhost:8080/",
          "height": 533
        }
      },
      "source": [
        "plt.plot(accuracy)\n",
        "plt.figure()\n",
        "plt.plot(loss)"
      ],
      "execution_count": 60,
      "outputs": [
        {
          "output_type": "execute_result",
          "data": {
            "text/plain": [
              "[<matplotlib.lines.Line2D at 0x7f750a9adc18>]"
            ]
          },
          "metadata": {
            "tags": []
          },
          "execution_count": 60
        },
        {
          "output_type": "display_data",
          "data": {
            "image/png": "[encoded data removed]",
            "text/plain": [
              "<Figure size 432x288 with 1 Axes>"
            ]
          },
          "metadata": {
            "tags": [],
            "needs_background": "light"
          }
        },
        {
          "output_type": "display_data",
          "data": {
            "image/png": "[encoded data removed]",
            "text/plain": [
              "<Figure size 432x288 with 1 Axes>"
            ]
          },
          "metadata": {
            "tags": [],
            "needs_background": "light"
          }
        }
      ]
    },
    {
      "cell_type": "markdown",
      "metadata": {
        "id": "hcghADrhgkhV",
        "colab_type": "text"
      },
      "source": [
        "# **Fail2**\n",
        "This error was found to be a vanishing gradient problem which is usually solved by ReLU.\n",
        "The vanishing gradient problem arises due to the nature of the back-propagation optimization which occurs in neural network training . The weight and bias values in the various layers within a neural network are updated each optimization iteration by stepping in the direction of the gradient of the weight/bias values with respect to the loss function. The vanishing gradient problem is particularly problematic with sigmoid activation functions. This can occur when the weights of our networks are initialized poorly – with too-large negative and positive values. These too-large values saturate the input to the sigmoid and pushes the derivatives into the small valued regions."
      ]
    },
    {
      "cell_type": "code",
      "metadata": {
        "id": "ta4FGbAzgpcv",
        "colab_type": "code",
        "outputId": "5f0bf93a-e349-4199-8b83-3b6a6a2941a6",
        "colab": {
          "base_uri": "https://localhost:8080/",
          "height": 527
        }
      },
      "source": [
        "# define the model first, from input to output\n",
        "\n",
        "\n",
        "# this is a super deep model, cool!\n",
        "n_units = 100\n",
        "n_layers = 4\n",
        "w_range = 0.1\n",
        "\n",
        "# just set up a \"chain\" of hidden layers\n",
        "layers = []\n",
        "for layer in range(n_layers):\n",
        "    layers.append(tf.keras.layers.Dense( \n",
        "        n_units, activation=tf.nn.relu,\n",
        "        kernel_initializer=tf.initializers.RandomUniform(minval=-w_range,\n",
        "                                                         maxval=w_range),\n",
        "        bias_initializer=tf.initializers.constant(0.001)))\n",
        "\n",
        "# finally add the output layer\n",
        "layers.append(tf.keras.layers.Dense(\n",
        "    10, kernel_initializer=tf.initializers.RandomUniform(minval=-w_range,\n",
        "                                                         maxval=w_range)))\n",
        "accuracy=[]\n",
        "loss=[]\n",
        "lr = 0.1\n",
        "for step in range(2000):\n",
        "    img_batch, lbl_batch = mnist.next_batch()\n",
        "    with tf.GradientTape() as tape:\n",
        "        # here we just run all the layers in sequence via a for-loop\n",
        "        out = img_batch\n",
        "        for layer in layers:\n",
        "            out = layer(out)\n",
        "        xent = tf.reduce_mean(tf.nn.sparse_softmax_cross_entropy_with_logits(\n",
        "            logits=out, labels=lbl_batch))\n",
        "\n",
        "    weights = [var for l in layers for var in l.trainable_variables]\n",
        "    grads = tape.gradient(xent, weights)\n",
        "    for grad, var in zip(grads, weights):\n",
        "        var.assign_sub(lr*grad)\n",
        "\n",
        "    if not step % 100:\n",
        "        preds = tf.argmax(out, axis=1, output_type=tf.int32)\n",
        "        acc = tf.reduce_mean(tf.cast(tf.equal(preds, lbl_batch), tf.float32))\n",
        "        acc = tf.reduce_mean(tf.cast(tf.equal(preds, lbl_batch), tf.float32))\n",
        "        accuracy.append(acc)\n",
        "        loss.append(xent)\n",
        "        print(\"Loss: {} Accuracy: {}\".format(xent, acc))\n",
        "\n",
        "\n",
        "out = mnist.test_data\n",
        "for layer in layers:\n",
        "    out = layer(out)\n",
        "test_preds = tf.argmax(out, axis=1, output_type=tf.int32)\n",
        "acc = tf.reduce_mean(tf.cast(tf.equal(test_preds, mnist.test_labels), tf.float32))\n",
        "print(\"Final test accuracy: {}\".format(acc))\n"
      ],
      "execution_count": 49,
      "outputs": [
        {
          "output_type": "stream",
          "text": [
            "Loss: 2.3023085594177246 Accuracy: 0.08984375\n",
            "Loss: 2.214383125305176 Accuracy: 0.3515625\n",
            "Starting new epoch...\n",
            "Loss: 1.0367639064788818 Accuracy: 0.609375\n",
            "Loss: 0.5317537784576416 Accuracy: 0.8515625\n",
            "Starting new epoch...\n",
            "Loss: 0.46638113260269165 Accuracy: 0.859375\n",
            "Loss: 0.37921544909477234 Accuracy: 0.87890625\n",
            "Starting new epoch...\n",
            "Loss: 0.32033079862594604 Accuracy: 0.89453125\n",
            "Loss: 0.18907302618026733 Accuracy: 0.94140625\n",
            "Loss: 0.2474725842475891 Accuracy: 0.90625\n",
            "Starting new epoch...\n",
            "Loss: 0.1587122529745102 Accuracy: 0.9609375\n",
            "Loss: 0.18086165189743042 Accuracy: 0.953125\n",
            "Starting new epoch...\n",
            "Loss: 0.1359712928533554 Accuracy: 0.96875\n",
            "Loss: 0.11692386865615845 Accuracy: 0.96875\n",
            "Starting new epoch...\n",
            "Loss: 0.13512685894966125 Accuracy: 0.9609375\n",
            "Loss: 0.12769141793251038 Accuracy: 0.95703125\n",
            "Loss: 0.2476755976676941 Accuracy: 0.94921875\n",
            "Starting new epoch...\n",
            "Loss: 0.14334310591220856 Accuracy: 0.9609375\n",
            "Loss: 0.05920915678143501 Accuracy: 0.9921875\n",
            "Starting new epoch...\n",
            "Loss: 0.13560271263122559 Accuracy: 0.96875\n",
            "Loss: 0.07700856775045395 Accuracy: 0.9765625\n",
            "Starting new epoch...\n",
            "Final test accuracy: 0.9642000198364258\n"
          ],
          "name": "stdout"
        }
      ]
    },
    {
      "cell_type": "code",
      "metadata": {
        "id": "a8vP6U2pkDTT",
        "colab_type": "code",
        "outputId": "070b4c40-41cd-4cf1-ba41-527fff63ad2a",
        "colab": {
          "base_uri": "https://localhost:8080/",
          "height": 530
        }
      },
      "source": [
        "plt.plot(accuracy)\n",
        "plt.figure()\n",
        "plt.plot(loss)"
      ],
      "execution_count": 50,
      "outputs": [
        {
          "output_type": "execute_result",
          "data": {
            "text/plain": [
              "[<matplotlib.lines.Line2D at 0x7f750b1eda90>]"
            ]
          },
          "metadata": {
            "tags": []
          },
          "execution_count": 50
        },
        {
          "output_type": "display_data",
          "data": {
            "image/png": "[encoded data removed]",
            "text/plain": [
              "<Figure size 432x288 with 1 Axes>"
            ]
          },
          "metadata": {
            "tags": [],
            "needs_background": "light"
          }
        },
        {
          "output_type": "display_data",
          "data": {
            "image/png": "[encoded data removed]",
            "text/plain": [
              "<Figure size 432x288 with 1 Axes>"
            ]
          },
          "metadata": {
            "tags": [],
            "needs_background": "light"
          }
        }
      ]
    },
    {
      "cell_type": "markdown",
      "metadata": {
        "id": "_89w49AHniox",
        "colab_type": "text"
      },
      "source": [
        "# **Fail3**\n",
        "\n",
        "relu---> tanh   \n",
        "the tanh function is also lesser-used for hidden layers, although some specific models use the tanh function too. Some problems with the output needs of range -1 and 1 use tanh in the output node."
      ]
    },
    {
      "cell_type": "code",
      "metadata": {
        "id": "z4lA8meMnlPf",
        "colab_type": "code",
        "outputId": "9e4cb003-d4f3-46d8-eaec-c88d757c487e",
        "colab": {
          "base_uri": "https://localhost:8080/",
          "height": 510
        }
      },
      "source": [
        "# define the model first, from input to output\n",
        "\n",
        "# let's use fewer layers...\n",
        "n_units = 100\n",
        "n_layers = 2\n",
        "\n",
        "# just set up a \"chain\" of hidden layers\n",
        "layers = []\n",
        "for layer in range(n_layers):\n",
        "    layers.append(tf.keras.layers.Dense(\n",
        "        n_units, activation=tf.nn.tanh,\n",
        "        kernel_initializer=tf.initializers.RandomUniform(minval=-0.01,\n",
        "                                                         maxval=0.),\n",
        "        bias_initializer=tf.initializers.constant(0.001)))\n",
        "\n",
        "# finally add the output layer\n",
        "layers.append(tf.keras.layers.Dense(\n",
        "    10, kernel_initializer=tf.initializers.RandomUniform(minval=-0.01,\n",
        "                                                         maxval=0.01)))\n",
        "accuracy=[]\n",
        "loss=[]\n",
        "lr = 0.1\n",
        "for step in range(2000):\n",
        "    img_batch, lbl_batch = mnist.next_batch()\n",
        "    with tf.GradientTape() as tape:\n",
        "        # here we just run all the layers in sequence via a for-loop\n",
        "        out = img_batch\n",
        "        for layer in layers:\n",
        "            out = layer(out)\n",
        "        xent = tf.reduce_mean(tf.nn.sparse_softmax_cross_entropy_with_logits(\n",
        "            logits=out, labels=lbl_batch))\n",
        "\n",
        "    weights = [var for l in layers for var in l.trainable_variables]\n",
        "    grads = tape.gradient(xent, weights)\n",
        "    for grad, var in zip(grads, weights):\n",
        "        var.assign_sub(lr*grad)\n",
        "\n",
        "    if not step % 100:\n",
        "        preds = tf.argmax(out, axis=1, output_type=tf.int32)\n",
        "        acc = tf.reduce_mean(tf.cast(tf.equal(preds, lbl_batch), tf.float32))\n",
        "        accuracy.append(acc)\n",
        "        loss.append(xent)\n",
        "        print(\"Loss: {} Accuracy: {}\".format(xent, acc))\n",
        "\n",
        "\n",
        "out = mnist.test_data\n",
        "for layer in layers:\n",
        "    out = layer(out)\n",
        "test_preds = tf.argmax(out, axis=1, output_type=tf.int32)\n",
        "acc = tf.reduce_mean(tf.cast(tf.equal(test_preds, mnist.test_labels), tf.float32))\n",
        "print(\"Final test accuracy: {}\".format(acc))"
      ],
      "execution_count": 0,
      "outputs": [
        {
          "output_type": "stream",
          "text": [
            "Loss: 2.303022861480713 Accuracy: 0.09765625\n",
            "Loss: 2.205894947052002 Accuracy: 0.21484375\n",
            "Loss: 1.8345919847488403 Accuracy: 0.25\n",
            "Starting new epoch...\n",
            "Loss: 1.649011492729187 Accuracy: 0.33203125\n",
            "Loss: 1.5737435817718506 Accuracy: 0.3984375\n",
            "Starting new epoch...\n",
            "Loss: 1.3469523191452026 Accuracy: 0.48828125\n",
            "Loss: 1.4154448509216309 Accuracy: 0.46484375\n",
            "Starting new epoch...\n",
            "Loss: 1.048883318901062 Accuracy: 0.64453125\n",
            "Loss: 0.8720647096633911 Accuracy: 0.65625\n",
            "Loss: 0.7774233818054199 Accuracy: 0.796875\n",
            "Starting new epoch...\n",
            "Loss: 0.5957547426223755 Accuracy: 0.82421875\n",
            "Loss: 0.526772677898407 Accuracy: 0.84765625\n",
            "Starting new epoch...\n",
            "Loss: 0.5288457870483398 Accuracy: 0.828125\n",
            "Loss: 0.45120301842689514 Accuracy: 0.8671875\n",
            "Starting new epoch...\n",
            "Loss: 0.33479177951812744 Accuracy: 0.91015625\n",
            "Loss: 0.2708434462547302 Accuracy: 0.93359375\n",
            "Loss: 0.3293144106864929 Accuracy: 0.90234375\n",
            "Starting new epoch...\n",
            "Loss: 0.35248756408691406 Accuracy: 0.8984375\n",
            "Loss: 0.29131799936294556 Accuracy: 0.9140625\n",
            "Starting new epoch...\n",
            "Loss: 0.2267301231622696 Accuracy: 0.921875\n",
            "Final test accuracy: 0.9257000088691711\n"
          ],
          "name": "stdout"
        }
      ]
    },
    {
      "cell_type": "code",
      "metadata": {
        "id": "FIAcZU6yofm7",
        "colab_type": "code",
        "outputId": "daa1a332-6f34-4871-f37a-3d05995e5b33",
        "colab": {
          "base_uri": "https://localhost:8080/",
          "height": 530
        }
      },
      "source": [
        "plt.plot(accuracy)\n",
        "plt.figure()\n",
        "plt.plot(loss)"
      ],
      "execution_count": 51,
      "outputs": [
        {
          "output_type": "execute_result",
          "data": {
            "text/plain": [
              "[<matplotlib.lines.Line2D at 0x7f750b3fba90>]"
            ]
          },
          "metadata": {
            "tags": []
          },
          "execution_count": 51
        },
        {
          "output_type": "display_data",
          "data": {
            "image/png": "[encoded data removed]",
            "text/plain": [
              "<Figure size 432x288 with 1 Axes>"
            ]
          },
          "metadata": {
            "tags": [],
            "needs_background": "light"
          }
        },
        {
          "output_type": "display_data",
          "data": {
            "image/png": "[encoded data removed]",
            "text/plain": [
              "<Figure size 432x288 with 1 Axes>"
            ]
          },
          "metadata": {
            "tags": [],
            "needs_background": "light"
          }
        }
      ]
    },
    {
      "cell_type": "markdown",
      "metadata": {
        "id": "jMI4jRnkoqAU",
        "colab_type": "text"
      },
      "source": [
        "# **Fail4**\n",
        "Standard deviation"
      ]
    },
    {
      "cell_type": "code",
      "metadata": {
        "id": "MArM1_FbosN9",
        "colab_type": "code",
        "outputId": "b9f03c45-9013-4250-defb-361fcc6ddc73",
        "colab": {
          "base_uri": "https://localhost:8080/",
          "height": 510
        }
      },
      "source": [
        "# define the model first, from input to output\n",
        "\n",
        "# let's use fewer layers...\n",
        "n_units = 100\n",
        "n_layers = 2\n",
        "\n",
        "# just set up a \"chain\" of hidden layers\n",
        "layers = []\n",
        "for layer in range(n_layers):\n",
        "    layers.append(tf.keras.layers.Dense(\n",
        "        n_units, activation=tf.nn.relu,\n",
        "        kernel_initializer=tf.initializers.RandomUniform(minval=-0.01,\n",
        "                                                         maxval=0.01),\n",
        "        bias_initializer=tf.initializers.constant(0.001)))\n",
        "\n",
        "# finally add the output layer\n",
        "layers.append(tf.keras.layers.Dense(\n",
        "    10, kernel_initializer=tf.initializers.RandomUniform(minval=-0.01,\n",
        "                                                         maxval=0.01)))\n",
        "accuracy=[]\n",
        "loss=[]\n",
        "lr = 0.1\n",
        "for step in range(2000):\n",
        "    img_batch, lbl_batch = mnist.next_batch()\n",
        "    # I hear adding random noise to inputs helps with generalization!\n",
        "    img_batch = img_batch + tf.random.normal(tf.shape(img_batch), stddev=0)\n",
        "    with tf.GradientTape() as tape:\n",
        "        # here we just run all the layers in sequence via a for-loop\n",
        "        out = img_batch\n",
        "        for layer in layers:\n",
        "            out = layer(out)\n",
        "        xent = tf.reduce_mean(tf.nn.sparse_softmax_cross_entropy_with_logits(\n",
        "            logits=out, labels=lbl_batch))\n",
        "\n",
        "    weights = [var for l in layers for var in l.trainable_variables]\n",
        "    grads = tape.gradient(xent, weights)\n",
        "    for grad, var in zip(grads, weights):\n",
        "        var.assign_sub(lr*grad)\n",
        "\n",
        "    if not step % 100:\n",
        "        preds = tf.argmax(out, axis=1, output_type=tf.int32)\n",
        "        acc = tf.reduce_mean(tf.cast(tf.equal(preds, lbl_batch), tf.float32))\n",
        "        accuracy.append(acc)\n",
        "        loss.append(xent)\n",
        "        print(\"Loss: {} Accuracy: {}\".format(xent, acc))\n",
        "\n",
        "\n",
        "out = mnist.test_data\n",
        "for layer in layers:\n",
        "    out = layer(out)\n",
        "test_preds = tf.argmax(out, axis=1, output_type=tf.int32)\n",
        "acc = tf.reduce_mean(tf.cast(tf.equal(test_preds, mnist.test_labels), tf.float32))\n",
        "print(\"Final test accuracy: {}\".format(acc))\n"
      ],
      "execution_count": 52,
      "outputs": [
        {
          "output_type": "stream",
          "text": [
            "Loss: 2.302572250366211 Accuracy: 0.109375\n",
            "Loss: 2.3011960983276367 Accuracy: 0.11328125\n",
            "Loss: 2.298588991165161 Accuracy: 0.1328125\n",
            "Starting new epoch...\n",
            "Loss: 2.301609516143799 Accuracy: 0.11328125\n",
            "Loss: 2.2968451976776123 Accuracy: 0.10546875\n",
            "Starting new epoch...\n",
            "Loss: 2.005194664001465 Accuracy: 0.22265625\n",
            "Loss: 1.3718955516815186 Accuracy: 0.453125\n",
            "Starting new epoch...\n",
            "Loss: 0.8484612703323364 Accuracy: 0.6875\n",
            "Loss: 0.680117666721344 Accuracy: 0.796875\n",
            "Loss: 0.5217042565345764 Accuracy: 0.82421875\n",
            "Starting new epoch...\n",
            "Loss: 0.636810302734375 Accuracy: 0.8203125\n",
            "Loss: 0.5788102149963379 Accuracy: 0.83984375\n",
            "Starting new epoch...\n",
            "Loss: 0.37633955478668213 Accuracy: 0.88671875\n",
            "Loss: 0.36304616928100586 Accuracy: 0.890625\n",
            "Loss: 0.40339648723602295 Accuracy: 0.87109375\n",
            "Starting new epoch...\n",
            "Loss: 0.28183513879776 Accuracy: 0.8984375\n",
            "Loss: 0.2965104877948761 Accuracy: 0.90234375\n",
            "Starting new epoch...\n",
            "Loss: 0.2850678563117981 Accuracy: 0.91015625\n",
            "Loss: 0.2527127265930176 Accuracy: 0.9296875\n",
            "Starting new epoch...\n",
            "Loss: 0.17981594800949097 Accuracy: 0.94140625\n",
            "Final test accuracy: 0.930400013923645\n"
          ],
          "name": "stdout"
        }
      ]
    },
    {
      "cell_type": "code",
      "metadata": {
        "id": "rBrBiml7o1Xh",
        "colab_type": "code",
        "outputId": "c7653b43-298d-41d9-ba34-4dd33803ff2b",
        "colab": {
          "base_uri": "https://localhost:8080/",
          "height": 530
        }
      },
      "source": [
        "plt.plot(accuracy)\n",
        "plt.figure()\n",
        "plt.plot(loss)"
      ],
      "execution_count": 53,
      "outputs": [
        {
          "output_type": "execute_result",
          "data": {
            "text/plain": [
              "[<matplotlib.lines.Line2D at 0x7f750b55cdd8>]"
            ]
          },
          "metadata": {
            "tags": []
          },
          "execution_count": 53
        },
        {
          "output_type": "display_data",
          "data": {
            "image/png": "[encoded data removed]",
            "text/plain": [
              "<Figure size 432x288 with 1 Axes>"
            ]
          },
          "metadata": {
            "tags": [],
            "needs_background": "light"
          }
        },
        {
          "output_type": "display_data",
          "data": {
            "image/png": "[encoded data removed]",
            "text/plain": [
              "<Figure size 432x288 with 1 Axes>"
            ]
          },
          "metadata": {
            "tags": [],
            "needs_background": "light"
          }
        }
      ]
    },
    {
      "cell_type": "markdown",
      "metadata": {
        "id": "AVS5oQXRpgCt",
        "colab_type": "text"
      },
      "source": [
        "# **Fail5**"
      ]
    },
    {
      "cell_type": "code",
      "metadata": {
        "id": "DyvZ9eLXpnUC",
        "colab_type": "code",
        "outputId": "5fa24582-da23-4157-e476-e6c69b49a7aa",
        "colab": {
          "base_uri": "https://localhost:8080/",
          "height": 527
        }
      },
      "source": [
        "# define the model first, from input to output\n",
        "\n",
        "# let's use fewer layers...\n",
        "n_units = 100\n",
        "n_layers = 2\n",
        "\n",
        "# just set up a \"chain\" of hidden layers\n",
        "layers = []\n",
        "for layer in range(n_layers):\n",
        "    layers.append(tf.keras.layers.Dense(\n",
        "        n_units, activation=tf.nn.relu,\n",
        "        kernel_initializer=tf.initializers.RandomUniform(minval=-0.01,\n",
        "                                                         maxval=0.01),\n",
        "        bias_initializer=tf.initializers.constant(0.001)))\n",
        "\n",
        "# finally add the softmax output layer :))\n",
        "layers.append(tf.keras.layers.Dense(\n",
        "    10, activation=tf.nn.softmax,\n",
        "    kernel_initializer=tf.initializers.RandomUniform(minval=-0.01,\n",
        "                                                     maxval=0.01)))\n",
        "accuracy=[]\n",
        "loss=[]\n",
        "lr = 0.1\n",
        "for step in range(2000):\n",
        "    img_batch, lbl_batch = mnist.next_batch()\n",
        "    with tf.GradientTape() as tape:\n",
        "        # here we just run all the layers in sequence via a for-loop\n",
        "        out = img_batch\n",
        "        for layer in layers:\n",
        "            out = layer(out)\n",
        "        xent = tf.reduce_mean(tf.nn.sparse_softmax_cross_entropy_with_logits(\n",
        "            logits=out, labels=lbl_batch))\n",
        "\n",
        "    weights = [var for l in layers for var in l.trainable_variables]\n",
        "    grads = tape.gradient(xent, weights)\n",
        "    for grad, var in zip(grads, weights):\n",
        "        var.assign_sub(lr*grad)\n",
        "\n",
        "    if not step % 100:\n",
        "        preds = tf.argmax(out, axis=1, output_type=tf.int32)\n",
        "        acc = tf.reduce_mean(tf.cast(tf.equal(preds, lbl_batch), tf.float32))\n",
        "        accuracy.append(acc)\n",
        "        loss.append(xent)\n",
        "        print(\"Loss: {} Accuracy: {}\".format(xent, acc))\n",
        "\n",
        "\n",
        "out = mnist.test_data\n",
        "for layer in layers:\n",
        "    out = layer(out)\n",
        "test_preds = tf.argmax(out, axis=1, output_type=tf.int32)\n",
        "acc = tf.reduce_mean(tf.cast(tf.equal(test_preds, mnist.test_labels), tf.float32))\n",
        "print(\"Final test accuracy: {}\".format(acc))"
      ],
      "execution_count": 54,
      "outputs": [
        {
          "output_type": "stream",
          "text": [
            "Loss: 2.3025832176208496 Accuracy: 0.06640625\n",
            "Loss: 2.302548885345459 Accuracy: 0.109375\n",
            "Starting new epoch...\n",
            "Loss: 2.302450656890869 Accuracy: 0.13671875\n",
            "Loss: 2.3025012016296387 Accuracy: 0.11328125\n",
            "Starting new epoch...\n",
            "Loss: 2.302502393722534 Accuracy: 0.1015625\n",
            "Loss: 2.3024544715881348 Accuracy: 0.10546875\n",
            "Starting new epoch...\n",
            "Loss: 2.302432060241699 Accuracy: 0.140625\n",
            "Loss: 2.3023900985717773 Accuracy: 0.1171875\n",
            "Loss: 2.302151679992676 Accuracy: 0.125\n",
            "Starting new epoch...\n",
            "Loss: 2.302387237548828 Accuracy: 0.09765625\n",
            "Loss: 2.3027729988098145 Accuracy: 0.0703125\n",
            "Starting new epoch...\n",
            "Loss: 2.302077531814575 Accuracy: 0.109375\n",
            "Loss: 2.3022263050079346 Accuracy: 0.09765625\n",
            "Starting new epoch...\n",
            "Loss: 2.302760601043701 Accuracy: 0.10546875\n",
            "Loss: 2.3023123741149902 Accuracy: 0.10546875\n",
            "Loss: 2.30234956741333 Accuracy: 0.12109375\n",
            "Starting new epoch...\n",
            "Loss: 2.302276134490967 Accuracy: 0.09765625\n",
            "Loss: 2.3020997047424316 Accuracy: 0.12109375\n",
            "Starting new epoch...\n",
            "Loss: 2.301509380340576 Accuracy: 0.1015625\n",
            "Loss: 2.302555799484253 Accuracy: 0.109375\n",
            "Starting new epoch...\n",
            "Final test accuracy: 0.11349999904632568\n"
          ],
          "name": "stdout"
        }
      ]
    },
    {
      "cell_type": "code",
      "metadata": {
        "id": "xfDDR177ppqT",
        "colab_type": "code",
        "outputId": "08fb8f38-9fe1-4309-8ec6-4fad1d4a9c59",
        "colab": {
          "base_uri": "https://localhost:8080/",
          "height": 530
        }
      },
      "source": [
        "plt.plot(accuracy)\n",
        "plt.figure()\n",
        "plt.plot(loss)"
      ],
      "execution_count": 55,
      "outputs": [
        {
          "output_type": "execute_result",
          "data": {
            "text/plain": [
              "[<matplotlib.lines.Line2D at 0x7f750bf60b38>]"
            ]
          },
          "metadata": {
            "tags": []
          },
          "execution_count": 55
        },
        {
          "output_type": "display_data",
          "data": {
            "image/png": "[encoded data removed]",
            "text/plain": [
              "<Figure size 432x288 with 1 Axes>"
            ]
          },
          "metadata": {
            "tags": [],
            "needs_background": "light"
          }
        },
        {
          "output_type": "display_data",
          "data": {
            "image/png": "[encoded data removed]",
            "text/plain": [
              "<Figure size 432x288 with 1 Axes>"
            ]
          },
          "metadata": {
            "tags": [],
            "needs_background": "light"
          }
        }
      ]
    }
  ]
}