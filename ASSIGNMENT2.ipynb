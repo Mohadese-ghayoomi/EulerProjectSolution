{
  "nbformat": 4,
  "nbformat_minor": 0,
  "metadata": {
    "colab": {
      "name": "ASSIGNMENT2.ipynb",
      "provenance": [],
      "include_colab_link": true
    },
    "kernelspec": {
      "name": "python3",
      "display_name": "Python 3"
    }
  },
  "cells": [
    {
      "cell_type": "markdown",
      "metadata": {
        "id": "view-in-github",
        "colab_type": "text"
      },
      "source": [
        "<a href=\"https://colab.research.google.com/github/Mohadese-ghayoomi/EulerProjectSolution/blob/master/ASSIGNMENT2.ipynb\" target=\"_parent\"><img src=\"https://colab.research.google.com/assets/colab-badge.svg\" alt=\"Open In Colab\"/></a>"
      ]
    },
    {
      "cell_type": "code",
      "metadata": {
        "id": "EyFCYPg1crR3",
        "colab_type": "code",
        "colab": {}
      },
      "source": [
        "try:\n",
        "  # %tensorflow_version only exists in Colab.\n",
        "  %tensorflow_version 2.x\n",
        "except Exception:\n",
        "  pass\n",
        "\n",
        "# Load the TensorBoard notebook extension.\n",
        "%load_ext tensorboard"
      ],
      "execution_count": 0,
      "outputs": []
    },
    {
      "cell_type": "code",
      "metadata": {
        "id": "Ka4I0k-sczmd",
        "colab_type": "code",
        "outputId": "70c7731e-b386-47a8-e854-c553119a2585",
        "colab": {
          "base_uri": "https://localhost:8080/",
          "height": 68
        }
      },
      "source": [
        "from __future__ import absolute_import\n",
        "from __future__ import division\n",
        "from __future__ import print_function\n",
        "from time import time\n",
        "from datetime import datetime\n",
        "import io\n",
        "import itertools\n",
        "from packaging import version\n",
        "from six.moves import range\n",
        "\n",
        "import tensorflow as tf\n",
        "from tensorflow import keras\n",
        "\n",
        "import matplotlib.pyplot as plt\n",
        "import numpy as np\n",
        "import sklearn.metrics\n",
        "\n",
        "print(\"TensorFlow version: \", tf.__version__)\n",
        "assert version.parse(tf.__version__).release[0] >= 2, \\\n",
        "    \"This notebook requires TensorFlow 2.0 or above.\"\n",
        "from google.colab import drive; drive.mount('/content/drive')\n",
        "import os\n",
        "os.getcwd()\n",
        "%cd /content/drive/My Drive/Colab Notebooks\n",
        "from datasets import MNISTDataset"
      ],
      "execution_count": 0,
      "outputs": [
        {
          "output_type": "stream",
          "text": [
            "TensorFlow version:  2.2.0-rc3\n",
            "Drive already mounted at /content/drive; to attempt to forcibly remount, call drive.mount(\"/content/drive\", force_remount=True).\n",
            "/content/drive/My Drive/Colab Notebooks\n"
          ],
          "name": "stdout"
        }
      ]
    },
    {
      "cell_type": "code",
      "metadata": {
        "id": "5H7ZlMRrc2dJ",
        "colab_type": "code",
        "colab": {}
      },
      "source": [
        "# Download the data. The data is already divided into train and test.\n",
        "# The labels are integers representing classes.\n",
        "mnist = keras.datasets.mnist\n",
        "(train_imgs, train_lbls), (test_imgs, test_lbls) = \\\n",
        "    mnist.load_data()\n",
        "mnist = MNISTDataset(train_imgs.reshape((-1, 784)), train_lbls,\n",
        "                     test_imgs.reshape((-1, 784)), test_lbls,\n",
        "                     batch_size=256, seed=int(time()))\n",
        "# Names of the integer classes, i.e., 0 -> T-short/top, 1 -> Trouser, etc.\n",
        "class_names = ['zero','one', 'Two', 'Three', 'Four', 'Five',\n",
        "               'Six', 'Seven', 'eight', 'nine', 'ten']"
      ],
      "execution_count": 0,
      "outputs": []
    },
    {
      "cell_type": "markdown",
      "metadata": {
        "id": "ruutINGZdGWv",
        "colab_type": "text"
      },
      "source": [
        "# **FAIL1**\n",
        "The error in this file is solved using Hyperparameter tuning.\n",
        "A few reasons for the cause of NaN errors is: a) Cross_ entropy or b) large number of connected layers.\n",
        "The number of connected layers in this example was 8. By tuning the hyperparameter, it was found that the layers above 4 caused an overflow leading to the NaN error."
      ]
    },
    {
      "cell_type": "code",
      "metadata": {
        "id": "YuZ6i4s2dFkG",
        "colab_type": "code",
        "outputId": "b2098e4e-99f0-4788-d2ef-3bb325cc0a68",
        "colab": {
          "base_uri": "https://localhost:8080/",
          "height": 229
        }
      },
      "source": [
        "# define the model first, from input to output\n",
        "\n",
        "# this is a super deep model, cool!\n",
        "\n",
        "n_units = 100\n",
        "n_layers = 8\n",
        "w_range = 0.4\n",
        "\n",
        "# just set up a \"chain\" of hidden layers\n",
        "layers = []\n",
        "\n",
        "for layer in range(n_layers):\n",
        "    layers.append(tf.keras.layers.Dense(\n",
        "        n_units, activation=tf.nn.relu,\n",
        "        kernel_initializer=tf.initializers.RandomUniform(minval=-w_range,\n",
        "                                                         maxval=w_range),\n",
        "        bias_initializer=tf.initializers.constant(0.001)))\n",
        "\n",
        "# finally add the output layer\n",
        "layers.append(tf.keras.layers.Dense(\n",
        "    10, kernel_initializer=tf.initializers.RandomUniform(minval=-w_range,\n",
        "                                                         maxval=w_range)))\n",
        "accuracy=[]\n",
        "loss=[]\n",
        "lr = 0.1\n",
        "for step in range(2000):\n",
        "    img_batch, lbl_batch = mnist.next_batch()\n",
        "    with tf.GradientTape() as tape:\n",
        "        # here we just run all the layers in sequence via a for-loop\n",
        "        out = img_batch\n",
        "        for layer in layers:\n",
        "            out = layer(out)\n",
        "        xent = tf.reduce_mean(tf.nn.sparse_softmax_cross_entropy_with_logits(\n",
        "            logits=out, labels=lbl_batch))\n",
        "\n",
        "    weights = [var for l in layers for var in l.trainable_variables]\n",
        "    grads = tape.gradient(xent, weights)\n",
        "    for grad, var in zip(grads, weights):\n",
        "        var.assign_sub(lr*grad)\n",
        "\n",
        "    if not step % 100:\n",
        "        preds = tf.argmax(out, axis=1, output_type=tf.int32)\n",
        "        acc = tf.reduce_mean(tf.cast(tf.equal(preds, lbl_batch), tf.float32))\n",
        "        accuracy.append(acc)\n",
        "        loss.append(xent)\n",
        "        print(\"Loss: {} Accuracy: {}\".format(xent, acc))\n",
        "\n",
        "\n",
        "out = mnist.test_data\n",
        "for layer in layers:\n",
        "    out = layer(out)\n",
        "test_preds = tf.argmax(out, axis=1, output_type=tf.int32)\n",
        "acc = tf.reduce_mean(tf.cast(tf.equal(test_preds, mnist.test_labels), tf.float32))\n",
        "print(\"Final test accuracy: {}\".format(acc))\n"
      ],
      "execution_count": 0,
      "outputs": [
        {
          "output_type": "error",
          "ename": "NameError",
          "evalue": "ignored",
          "traceback": [
            "\u001b[0;31m---------------------------------------------------------------------------\u001b[0m",
            "\u001b[0;31mNameError\u001b[0m                                 Traceback (most recent call last)",
            "\u001b[0;32m<ipython-input-1-a2999d21216d>\u001b[0m in \u001b[0;36m<module>\u001b[0;34m()\u001b[0m\n\u001b[1;32m      8\u001b[0m \u001b[0;34m\u001b[0m\u001b[0m\n\u001b[1;32m      9\u001b[0m \u001b[0;32mfor\u001b[0m \u001b[0mlayer\u001b[0m \u001b[0;32min\u001b[0m \u001b[0mrange\u001b[0m\u001b[0;34m(\u001b[0m\u001b[0mn_layers\u001b[0m\u001b[0;34m)\u001b[0m\u001b[0;34m:\u001b[0m\u001b[0;34m\u001b[0m\u001b[0;34m\u001b[0m\u001b[0m\n\u001b[0;32m---> 10\u001b[0;31m     layers.append(tf.keras.layers.Dense(\n\u001b[0m\u001b[1;32m     11\u001b[0m         \u001b[0mn_units\u001b[0m\u001b[0;34m,\u001b[0m \u001b[0mactivation\u001b[0m\u001b[0;34m=\u001b[0m\u001b[0mtf\u001b[0m\u001b[0;34m.\u001b[0m\u001b[0mnn\u001b[0m\u001b[0;34m.\u001b[0m\u001b[0mrelu\u001b[0m\u001b[0;34m,\u001b[0m\u001b[0;34m\u001b[0m\u001b[0;34m\u001b[0m\u001b[0m\n\u001b[1;32m     12\u001b[0m         kernel_initializer=tf.initializers.RandomUniform(minval=-w_range,\n",
            "\u001b[0;31mNameError\u001b[0m: name 'tf' is not defined"
          ]
        }
      ]
    },
    {
      "cell_type": "code",
      "metadata": {
        "id": "2NJbgg3EebNa",
        "colab_type": "code",
        "outputId": "1d288031-656a-4c0a-ce15-ace34646df4a",
        "colab": {
          "base_uri": "https://localhost:8080/",
          "height": 531
        }
      },
      "source": [
        "plt.plot(accuracy)\n",
        "plt.figure()\n",
        "plt.plot(loss)"
      ],
      "execution_count": 0,
      "outputs": [
        {
          "output_type": "execute_result",
          "data": {
            "text/plain": [
              "[<matplotlib.lines.Line2D at 0x7f750ba34b00>]"
            ]
          },
          "metadata": {
            "tags": []
          },
          "execution_count": 10
        },
        {
          "output_type": "display_data",
          "data": {
            "image/png": "[encoded data removed]",
            "text/plain": [
              "<Figure size 432x288 with 1 Axes>"
            ]
          },
          "metadata": {
            "tags": [],
            "needs_background": "light"
          }
        },
        {
          "output_type": "display_data",
          "data": {
            "image/png": "[encoded data removed]",
            "text/plain": [
              "<Figure size 432x288 with 1 Axes>"
            ]
          },
          "metadata": {
            "tags": [],
            "needs_background": "light"
          }
        }
      ]
    },
    {
      "cell_type": "markdown",
      "metadata": {
        "id": "hcghADrhgkhV",
        "colab_type": "text"
      },
      "source": [
        "# **Fail2**\n",
        "This error was found to be a vanishing gradient problem which is usually solved by ReLU.\n",
        "The vanishing gradient problem arises due to the nature of the back-propagation optimization which occurs in neural network training . The weight and bias values in the various layers within a neural network are updated each optimization iteration by stepping in the direction of the gradient of the weight/bias values with respect to the loss function. The vanishing gradient problem is particularly problematic with sigmoid activation functions. This can occur when the weights of our networks are initialized poorly – with too-large negative and positive values. These too-large values saturate the input to the sigmoid and pushes the derivatives into the small valued regions."
      ]
    },
    {
      "cell_type": "code",
      "metadata": {
        "id": "ta4FGbAzgpcv",
        "colab_type": "code",
        "outputId": "e4a27980-b94f-4302-deb4-c0d27073fcf4",
        "colab": {
          "base_uri": "https://localhost:8080/",
          "height": 510
        }
      },
      "source": [
        "# define the model first, from input to output\n",
        "\n",
        "\n",
        "# this is a super deep model, cool!\n",
        "n_units = 100\n",
        "n_layers = 4\n",
        "w_range = 0.1\n",
        "\n",
        "# just set up a \"chain\" of hidden layers\n",
        "layers = []\n",
        "for layer in range(n_layers):\n",
        "    layers.append(tf.keras.layers.Dense( \n",
        "        n_units, activation=tf.nn.relu,\n",
        "        kernel_initializer=tf.initializers.RandomUniform(minval=-w_range,\n",
        "                                                         maxval=w_range),\n",
        "        bias_initializer=tf.initializers.constant(0.001)))\n",
        "\n",
        "# finally add the output layer\n",
        "layers.append(tf.keras.layers.Dense(\n",
        "    10, kernel_initializer=tf.initializers.RandomUniform(minval=-w_range,\n",
        "                                                         maxval=w_range)))\n",
        "accuracy=[]\n",
        "loss=[]\n",
        "lr = 0.1\n",
        "for step in range(2000):\n",
        "    img_batch, lbl_batch = mnist.next_batch()\n",
        "    with tf.GradientTape() as tape:\n",
        "        # here we just run all the layers in sequence via a for-loop\n",
        "        out = img_batch\n",
        "        for layer in layers:\n",
        "            out = layer(out)\n",
        "        xent = tf.reduce_mean(tf.nn.sparse_softmax_cross_entropy_with_logits(\n",
        "            logits=out, labels=lbl_batch))\n",
        "\n",
        "    weights = [var for l in layers for var in l.trainable_variables]\n",
        "    grads = tape.gradient(xent, weights)\n",
        "    for grad, var in zip(grads, weights):\n",
        "        var.assign_sub(lr*grad)\n",
        "\n",
        "    if not step % 100:\n",
        "        preds = tf.argmax(out, axis=1, output_type=tf.int32)\n",
        "        acc = tf.reduce_mean(tf.cast(tf.equal(preds, lbl_batch), tf.float32))\n",
        "        acc = tf.reduce_mean(tf.cast(tf.equal(preds, lbl_batch), tf.float32))\n",
        "        accuracy.append(acc)\n",
        "        loss.append(xent)\n",
        "        print(\"Loss: {} Accuracy: {}\".format(xent, acc))\n",
        "\n",
        "\n",
        "out = mnist.test_data\n",
        "for layer in layers:\n",
        "    out = layer(out)\n",
        "test_preds = tf.argmax(out, axis=1, output_type=tf.int32)\n",
        "acc = tf.reduce_mean(tf.cast(tf.equal(test_preds, mnist.test_labels), tf.float32))\n",
        "print(\"Final test accuracy: {}\".format(acc))\n"
      ],
      "execution_count": 0,
      "outputs": [
        {
          "output_type": "stream",
          "text": [
            "Loss: 2.3026835918426514 Accuracy: 0.09765625\n",
            "Loss: 2.241809844970703 Accuracy: 0.39453125\n",
            "Loss: 1.0344064235687256 Accuracy: 0.69140625\n",
            "Starting new epoch...\n",
            "Loss: 0.5968347787857056 Accuracy: 0.796875\n",
            "Loss: 0.45443472266197205 Accuracy: 0.859375\n",
            "Starting new epoch...\n",
            "Loss: 0.29932066798210144 Accuracy: 0.91796875\n",
            "Loss: 0.31462037563323975 Accuracy: 0.921875\n",
            "Loss: 0.18150675296783447 Accuracy: 0.95703125\n",
            "Starting new epoch...\n",
            "Loss: 0.1824006289243698 Accuracy: 0.9453125\n",
            "Loss: 0.12586453557014465 Accuracy: 0.95703125\n",
            "Starting new epoch...\n",
            "Loss: 0.1227700412273407 Accuracy: 0.96484375\n",
            "Loss: 0.16504503786563873 Accuracy: 0.9609375\n",
            "Starting new epoch...\n",
            "Loss: 0.11159038543701172 Accuracy: 0.9609375\n",
            "Loss: 0.08643119037151337 Accuracy: 0.97265625\n",
            "Loss: 0.11693333089351654 Accuracy: 0.96484375\n",
            "Starting new epoch...\n",
            "Loss: 0.1070379912853241 Accuracy: 0.9765625\n",
            "Loss: 0.1689300835132599 Accuracy: 0.95703125\n",
            "Starting new epoch...\n",
            "Loss: 0.17266355454921722 Accuracy: 0.95703125\n",
            "Loss: 0.1224050521850586 Accuracy: 0.95703125\n",
            "Starting new epoch...\n",
            "Loss: 0.07556656002998352 Accuracy: 0.98046875\n",
            "Final test accuracy: 0.9656000137329102\n"
          ],
          "name": "stdout"
        }
      ]
    },
    {
      "cell_type": "code",
      "metadata": {
        "id": "a8vP6U2pkDTT",
        "colab_type": "code",
        "outputId": "951f896e-2002-4dfb-eb3d-d1c39478b252",
        "colab": {
          "base_uri": "https://localhost:8080/",
          "height": 530
        }
      },
      "source": [
        "plt.plot(accuracy)\n",
        "plt.figure()\n",
        "plt.plot(loss)"
      ],
      "execution_count": 0,
      "outputs": [
        {
          "output_type": "execute_result",
          "data": {
            "text/plain": [
              "[<matplotlib.lines.Line2D at 0x7f750b9469b0>]"
            ]
          },
          "metadata": {
            "tags": []
          },
          "execution_count": 12
        },
        {
          "output_type": "display_data",
          "data": {
            "image/png": "[encoded data removed]",
            "text/plain": [
              "<Figure size 432x288 with 1 Axes>"
            ]
          },
          "metadata": {
            "tags": [],
            "needs_background": "light"
          }
        },
        {
          "output_type": "display_data",
          "data": {
            "image/png": "[encoded data removed]",
            "text/plain": [
              "<Figure size 432x288 with 1 Axes>"
            ]
          },
          "metadata": {
            "tags": [],
            "needs_background": "light"
          }
        }
      ]
    },
    {
      "cell_type": "markdown",
      "metadata": {
        "id": "_89w49AHniox",
        "colab_type": "text"
      },
      "source": [
        "# **Fail3**\n",
        "\n",
        "relu---> tanh"
      ]
    },
    {
      "cell_type": "code",
      "metadata": {
        "id": "z4lA8meMnlPf",
        "colab_type": "code",
        "outputId": "c135f226-01cc-41c3-c739-c6c971cf4ef1",
        "colab": {
          "base_uri": "https://localhost:8080/",
          "height": 229
        }
      },
      "source": [
        "# define the model first, from input to output\n",
        "\n",
        "# let's use fewer layers...\n",
        "n_units = 100\n",
        "n_layers = 2\n",
        "\n",
        "# just set up a \"chain\" of hidden layers\n",
        "layers = []\n",
        "for layer in range(n_layers):\n",
        "    layers.append(tf.keras.layers.Dense(\n",
        "        n_units, activation=tf.nn.relu,\n",
        "        kernel_initializer=tf.initializers.RandomUniform(minval=-0.01,\n",
        "                                                         maxval=0.),\n",
        "        bias_initializer=tf.initializers.constant(0.001)))\n",
        "\n",
        "# finally add the output layer\n",
        "layers.append(tf.keras.layers.Dense(\n",
        "    10, kernel_initializer=tf.initializers.RandomUniform(minval=-0.01,\n",
        "                                                         maxval=0.01)))\n",
        "accuracy=[]\n",
        "loss=[]\n",
        "lr = 0.1\n",
        "for step in range(2000):\n",
        "    img_batch, lbl_batch = mnist.next_batch()\n",
        "    with tf.GradientTape() as tape:\n",
        "        # here we just run all the layers in sequence via a for-loop\n",
        "        out = img_batch\n",
        "        for layer in layers:\n",
        "            out = layer(out)\n",
        "        xent = tf.reduce_mean(tf.nn.sparse_softmax_cross_entropy_with_logits(\n",
        "            logits=out, labels=lbl_batch))\n",
        "\n",
        "    weights = [var for l in layers for var in l.trainable_variables]\n",
        "    grads = tape.gradient(xent, weights)\n",
        "    for grad, var in zip(grads, weights):\n",
        "        var.assign_sub(lr*grad)\n",
        "\n",
        "    if not step % 100:\n",
        "        preds = tf.argmax(out, axis=1, output_type=tf.int32)\n",
        "        acc = tf.reduce_mean(tf.cast(tf.equal(preds, lbl_batch), tf.float32))\n",
        "        accuracy.append(acc)\n",
        "        loss.append(xent)\n",
        "        print(\"Loss: {} Accuracy: {}\".format(xent, acc))\n",
        "\n",
        "\n",
        "out = mnist.test_data\n",
        "for layer in layers:\n",
        "    out = layer(out)\n",
        "test_preds = tf.argmax(out, axis=1, output_type=tf.int32)\n",
        "acc = tf.reduce_mean(tf.cast(tf.equal(test_preds, mnist.test_labels), tf.float32))\n",
        "print(\"Final test accuracy: {}\".format(acc))"
      ],
      "execution_count": 0,
      "outputs": [
        {
          "output_type": "error",
          "ename": "NameError",
          "evalue": "ignored",
          "traceback": [
            "\u001b[0;31m---------------------------------------------------------------------------\u001b[0m",
            "\u001b[0;31mNameError\u001b[0m                                 Traceback (most recent call last)",
            "\u001b[0;32m<ipython-input-2-42aa88395836>\u001b[0m in \u001b[0;36m<module>\u001b[0;34m()\u001b[0m\n\u001b[1;32m      5\u001b[0m \u001b[0mlayers\u001b[0m \u001b[0;34m=\u001b[0m \u001b[0;34m[\u001b[0m\u001b[0;34m]\u001b[0m\u001b[0;34m\u001b[0m\u001b[0;34m\u001b[0m\u001b[0m\n\u001b[1;32m      6\u001b[0m \u001b[0;32mfor\u001b[0m \u001b[0mlayer\u001b[0m \u001b[0;32min\u001b[0m \u001b[0mrange\u001b[0m\u001b[0;34m(\u001b[0m\u001b[0mn_layers\u001b[0m\u001b[0;34m)\u001b[0m\u001b[0;34m:\u001b[0m\u001b[0;34m\u001b[0m\u001b[0;34m\u001b[0m\u001b[0m\n\u001b[0;32m----> 7\u001b[0;31m     layers.append(tf.keras.layers.Dense(\n\u001b[0m\u001b[1;32m      8\u001b[0m         \u001b[0mn_units\u001b[0m\u001b[0;34m,\u001b[0m \u001b[0mactivation\u001b[0m\u001b[0;34m=\u001b[0m\u001b[0mtf\u001b[0m\u001b[0;34m.\u001b[0m\u001b[0mnn\u001b[0m\u001b[0;34m.\u001b[0m\u001b[0mrelu\u001b[0m\u001b[0;34m,\u001b[0m\u001b[0;34m\u001b[0m\u001b[0;34m\u001b[0m\u001b[0m\n\u001b[1;32m      9\u001b[0m         kernel_initializer=tf.initializers.RandomUniform(minval=-0.01,\n",
            "\u001b[0;31mNameError\u001b[0m: name 'tf' is not defined"
          ]
        }
      ]
    },
    {
      "cell_type": "code",
      "metadata": {
        "id": "FIAcZU6yofm7",
        "colab_type": "code",
        "outputId": "e60dfcff-bd66-4bd4-c03f-d91db39a5c0f",
        "colab": {
          "base_uri": "https://localhost:8080/",
          "height": 530
        }
      },
      "source": [
        "plt.plot(accuracy)\n",
        "plt.figure()\n",
        "plt.plot(loss)"
      ],
      "execution_count": 0,
      "outputs": [
        {
          "output_type": "execute_result",
          "data": {
            "text/plain": [
              "[<matplotlib.lines.Line2D at 0x7f750b5cf630>]"
            ]
          },
          "metadata": {
            "tags": []
          },
          "execution_count": 37
        },
        {
          "output_type": "display_data",
          "data": {
            "image/png": "[encoded data removed]",
            "text/plain": [
              "<Figure size 432x288 with 1 Axes>"
            ]
          },
          "metadata": {
            "tags": [],
            "needs_background": "light"
          }
        },
        {
          "output_type": "display_data",
          "data": {
            "image/png": "[encoded data removed]",
            "text/plain": [
              "<Figure size 432x288 with 1 Axes>"
            ]
          },
          "metadata": {
            "tags": [],
            "needs_background": "light"
          }
        }
      ]
    },
    {
      "cell_type": "markdown",
      "metadata": {
        "id": "jMI4jRnkoqAU",
        "colab_type": "text"
      },
      "source": [
        "# **Fail4**\n",
        "Standard deviation"
      ]
    },
    {
      "cell_type": "code",
      "metadata": {
        "id": "MArM1_FbosN9",
        "colab_type": "code",
        "outputId": "2e2fbdc4-9802-484d-868d-6b7ccb747b3b",
        "colab": {
          "base_uri": "https://localhost:8080/",
          "height": 510
        }
      },
      "source": [
        "# define the model first, from input to output\n",
        "\n",
        "# let's use fewer layers...\n",
        "n_units = 100\n",
        "n_layers = 2\n",
        "\n",
        "# just set up a \"chain\" of hidden layers\n",
        "layers = []\n",
        "for layer in range(n_layers):\n",
        "    layers.append(tf.keras.layers.Dense(\n",
        "        n_units, activation=tf.nn.relu,\n",
        "        kernel_initializer=tf.initializers.RandomUniform(minval=-0.01,\n",
        "                                                         maxval=0.01),\n",
        "        bias_initializer=tf.initializers.constant(0.001)))\n",
        "\n",
        "# finally add the output layer\n",
        "layers.append(tf.keras.layers.Dense(\n",
        "    10, kernel_initializer=tf.initializers.RandomUniform(minval=-0.01,\n",
        "                                                         maxval=0.01)))\n",
        "accuracy=[]\n",
        "loss=[]\n",
        "lr = 0.1\n",
        "for step in range(2000):\n",
        "    img_batch, lbl_batch = mnist.next_batch()\n",
        "    # I hear adding random noise to inputs helps with generalization!\n",
        "    img_batch = img_batch + tf.random.normal(tf.shape(img_batch), stddev=0)\n",
        "    with tf.GradientTape() as tape:\n",
        "        # here we just run all the layers in sequence via a for-loop\n",
        "        out = img_batch\n",
        "        for layer in layers:\n",
        "            out = layer(out)\n",
        "        xent = tf.reduce_mean(tf.nn.sparse_softmax_cross_entropy_with_logits(\n",
        "            logits=out, labels=lbl_batch))\n",
        "\n",
        "    weights = [var for l in layers for var in l.trainable_variables]\n",
        "    grads = tape.gradient(xent, weights)\n",
        "    for grad, var in zip(grads, weights):\n",
        "        var.assign_sub(lr*grad)\n",
        "\n",
        "    if not step % 100:\n",
        "        preds = tf.argmax(out, axis=1, output_type=tf.int32)\n",
        "        acc = tf.reduce_mean(tf.cast(tf.equal(preds, lbl_batch), tf.float32))\n",
        "        accuracy.append(acc)\n",
        "        loss.append(xent)\n",
        "        print(\"Loss: {} Accuracy: {}\".format(xent, acc))\n",
        "\n",
        "\n",
        "out = mnist.test_data\n",
        "for layer in layers:\n",
        "    out = layer(out)\n",
        "test_preds = tf.argmax(out, axis=1, output_type=tf.int32)\n",
        "acc = tf.reduce_mean(tf.cast(tf.equal(test_preds, mnist.test_labels), tf.float32))\n",
        "print(\"Final test accuracy: {}\".format(acc))\n"
      ],
      "execution_count": 0,
      "outputs": [
        {
          "output_type": "stream",
          "text": [
            "Loss: 2.30256986618042 Accuracy: 0.16015625\n",
            "Loss: 2.300718307495117 Accuracy: 0.125\n",
            "Loss: 2.3017051219940186 Accuracy: 0.09765625\n",
            "Starting new epoch...\n",
            "Loss: 2.300215244293213 Accuracy: 0.1328125\n",
            "Loss: 2.2945611476898193 Accuracy: 0.10546875\n",
            "Starting new epoch...\n",
            "Loss: 1.9963457584381104 Accuracy: 0.23828125\n",
            "Loss: 1.1695232391357422 Accuracy: 0.55078125\n",
            "Starting new epoch...\n",
            "Loss: 0.9697867631912231 Accuracy: 0.6640625\n",
            "Loss: 0.6115125417709351 Accuracy: 0.80859375\n",
            "Loss: 0.6549678444862366 Accuracy: 0.82421875\n",
            "Starting new epoch...\n",
            "Loss: 0.5019491314888 Accuracy: 0.8359375\n",
            "Loss: 0.4819658398628235 Accuracy: 0.859375\n",
            "Starting new epoch...\n",
            "Loss: 0.32324832677841187 Accuracy: 0.8984375\n",
            "Loss: 0.4102395176887512 Accuracy: 0.88671875\n",
            "Starting new epoch...\n",
            "Loss: 0.27176761627197266 Accuracy: 0.921875\n",
            "Loss: 0.3748054504394531 Accuracy: 0.89453125\n",
            "Loss: 0.32096755504608154 Accuracy: 0.9140625\n",
            "Starting new epoch...\n",
            "Loss: 0.38170069456100464 Accuracy: 0.90625\n",
            "Loss: 0.21580837666988373 Accuracy: 0.90625\n",
            "Starting new epoch...\n",
            "Loss: 0.2330702245235443 Accuracy: 0.91796875\n",
            "Final test accuracy: 0.9333999752998352\n"
          ],
          "name": "stdout"
        }
      ]
    },
    {
      "cell_type": "code",
      "metadata": {
        "id": "rBrBiml7o1Xh",
        "colab_type": "code",
        "outputId": "8c56d3cf-d076-48fb-f857-573eeff43ee0",
        "colab": {
          "base_uri": "https://localhost:8080/",
          "height": 530
        }
      },
      "source": [
        "plt.plot(accuracy)\n",
        "plt.figure()\n",
        "plt.plot(loss)"
      ],
      "execution_count": 0,
      "outputs": [
        {
          "output_type": "execute_result",
          "data": {
            "text/plain": [
              "[<matplotlib.lines.Line2D at 0x7f750b4affd0>]"
            ]
          },
          "metadata": {
            "tags": []
          },
          "execution_count": 41
        },
        {
          "output_type": "display_data",
          "data": {
            "image/png": "[encoded data removed]",
            "text/plain": [
              "<Figure size 432x288 with 1 Axes>"
            ]
          },
          "metadata": {
            "tags": [],
            "needs_background": "light"
          }
        },
        {
          "output_type": "display_data",
          "data": {
            "image/png": "[encoded data removed]",
            "text/plain": [
              "<Figure size 432x288 with 1 Axes>"
            ]
          },
          "metadata": {
            "tags": [],
            "needs_background": "light"
          }
        }
      ]
    },
    {
      "cell_type": "markdown",
      "metadata": {
        "id": "AVS5oQXRpgCt",
        "colab_type": "text"
      },
      "source": [
        "# **Fail5**"
      ]
    },
    {
      "cell_type": "code",
      "metadata": {
        "id": "DyvZ9eLXpnUC",
        "colab_type": "code",
        "outputId": "421811e4-2122-427f-e090-42713cd7fd42",
        "colab": {
          "base_uri": "https://localhost:8080/",
          "height": 527
        }
      },
      "source": [
        "# define the model first, from input to output\n",
        "\n",
        "# let's use fewer layers...\n",
        "n_units = 100\n",
        "n_layers = 2\n",
        "\n",
        "# just set up a \"chain\" of hidden layers\n",
        "layers = []\n",
        "for layer in range(n_layers):\n",
        "    layers.append(tf.keras.layers.Dense(\n",
        "        n_units, activation=tf.nn.relu,\n",
        "        kernel_initializer=tf.initializers.RandomUniform(minval=-0.01,\n",
        "                                                         maxval=0.01),\n",
        "        bias_initializer=tf.initializers.constant(0.001)))\n",
        "\n",
        "# finally add the softmax output layer :))\n",
        "layers.append(tf.keras.layers.Dense(\n",
        "    10, activation=tf.nn.softmax,\n",
        "    kernel_initializer=tf.initializers.RandomUniform(minval=-0.01,\n",
        "                                                     maxval=0.01)))\n",
        "accuracy=[]\n",
        "loss=[]\n",
        "lr = 0.1\n",
        "for step in range(2000):\n",
        "    img_batch, lbl_batch = mnist.next_batch()\n",
        "    with tf.GradientTape() as tape:\n",
        "        # here we just run all the layers in sequence via a for-loop\n",
        "        out = img_batch\n",
        "        for layer in layers:\n",
        "            out = layer(out)\n",
        "        xent = tf.reduce_mean(tf.nn.sparse_softmax_cross_entropy_with_logits(\n",
        "            logits=out, labels=lbl_batch))\n",
        "\n",
        "    weights = [var for l in layers for var in l.trainable_variables]\n",
        "    grads = tape.gradient(xent, weights)\n",
        "    for grad, var in zip(grads, weights):\n",
        "        var.assign_sub(lr*grad)\n",
        "\n",
        "    if not step % 100:\n",
        "        preds = tf.argmax(out, axis=1, output_type=tf.int32)\n",
        "        acc = tf.reduce_mean(tf.cast(tf.equal(preds, lbl_batch), tf.float32))\n",
        "        accuracy.append(acc)\n",
        "        loss.append(xent)\n",
        "        print(\"Loss: {} Accuracy: {}\".format(xent, acc))\n",
        "\n",
        "\n",
        "out = mnist.test_data\n",
        "for layer in layers:\n",
        "    out = layer(out)\n",
        "test_preds = tf.argmax(out, axis=1, output_type=tf.int32)\n",
        "acc = tf.reduce_mean(tf.cast(tf.equal(test_preds, mnist.test_labels), tf.float32))\n",
        "print(\"Final test accuracy: {}\".format(acc))"
      ],
      "execution_count": 0,
      "outputs": [
        {
          "output_type": "stream",
          "text": [
            "Loss: 2.3025870323181152 Accuracy: 0.05859375\n",
            "Loss: 2.302578926086426 Accuracy: 0.09765625\n",
            "Starting new epoch...\n",
            "Loss: 2.3026304244995117 Accuracy: 0.09765625\n",
            "Loss: 2.3026819229125977 Accuracy: 0.0546875\n",
            "Starting new epoch...\n",
            "Loss: 2.3026680946350098 Accuracy: 0.08984375\n",
            "Loss: 2.3025474548339844 Accuracy: 0.09765625\n",
            "Starting new epoch...\n",
            "Loss: 2.3027849197387695 Accuracy: 0.07421875\n",
            "Loss: 2.302042245864868 Accuracy: 0.15234375\n",
            "Loss: 2.3022236824035645 Accuracy: 0.125\n",
            "Starting new epoch...\n",
            "Loss: 2.3024818897247314 Accuracy: 0.109375\n",
            "Loss: 2.30204439163208 Accuracy: 0.1171875\n",
            "Starting new epoch...\n",
            "Loss: 2.3019840717315674 Accuracy: 0.109375\n",
            "Loss: 2.302267551422119 Accuracy: 0.109375\n",
            "Starting new epoch...\n",
            "Loss: 2.302340507507324 Accuracy: 0.1015625\n",
            "Loss: 2.301727294921875 Accuracy: 0.14453125\n",
            "Loss: 2.302422523498535 Accuracy: 0.09765625\n",
            "Starting new epoch...\n",
            "Loss: 2.301337242126465 Accuracy: 0.125\n",
            "Loss: 2.302631378173828 Accuracy: 0.09765625\n",
            "Starting new epoch...\n",
            "Loss: 2.302058696746826 Accuracy: 0.109375\n",
            "Loss: 2.301866292953491 Accuracy: 0.12109375\n",
            "Starting new epoch...\n",
            "Final test accuracy: 0.11349999904632568\n"
          ],
          "name": "stdout"
        }
      ]
    },
    {
      "cell_type": "code",
      "metadata": {
        "id": "xfDDR177ppqT",
        "colab_type": "code",
        "outputId": "2c3a4910-6826-4e5c-93da-03f71fb257fa",
        "colab": {
          "base_uri": "https://localhost:8080/",
          "height": 530
        }
      },
      "source": [
        "plt.plot(accuracy)\n",
        "plt.figure()\n",
        "plt.plot(loss)"
      ],
      "execution_count": 0,
      "outputs": [
        {
          "output_type": "execute_result",
          "data": {
            "text/plain": [
              "[<matplotlib.lines.Line2D at 0x7f750b3ec710>]"
            ]
          },
          "metadata": {
            "tags": []
          },
          "execution_count": 43
        },
        {
          "output_type": "display_data",
          "data": {
            "image/png": "[encoded data removed]",
            "text/plain": [
              "<Figure size 432x288 with 1 Axes>"
            ]
          },
          "metadata": {
            "tags": [],
            "needs_background": "light"
          }
        },
        {
          "output_type": "display_data",
          "data": {
            "image/png": "[encoded data removed]",
            "text/plain": [
              "<Figure size 432x288 with 1 Axes>"
            ]
          },
          "metadata": {
            "tags": [],
            "needs_background": "light"
          }
        }
      ]
    }
  ]
}