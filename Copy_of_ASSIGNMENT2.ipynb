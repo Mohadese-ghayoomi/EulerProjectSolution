{
  "nbformat": 4,
  "nbformat_minor": 0,
  "metadata": {
    "colab": {
      "name": "Copy of ASSIGNMENT2.ipynb",
      "provenance": [],
      "collapsed_sections": [],
      "include_colab_link": true
    },
    "kernelspec": {
      "name": "python3",
      "display_name": "Python 3"
    }
  },
  "cells": [
    {
      "cell_type": "markdown",
      "metadata": {
        "id": "view-in-github",
        "colab_type": "text"
      },
      "source": [
        "<a href=\"https://colab.research.google.com/github/Mohadese-ghayoomi/EulerProjectSolution/blob/master/Copy_of_ASSIGNMENT2.ipynb\" target=\"_parent\"><img src=\"https://colab.research.google.com/assets/colab-badge.svg\" alt=\"Open In Colab\"/></a>"
      ]
    },
    {
      "cell_type": "markdown",
      "metadata": {
        "id": "LDNKDrMI2QvP",
        "colab_type": "text"
      },
      "source": [
        "\n",
        "*   Tanya carina ()\n",
        "*   Mohadese Ghayoomi Javinani (225829)"
      ]
    },
    {
      "cell_type": "code",
      "metadata": {
        "id": "I2UUkSm52Oux",
        "colab_type": "code",
        "colab": {}
      },
      "source": [
        "try:\n",
        "  # %tensorflow_version only exists in Colab.\n",
        "  %tensorflow_version 2.x\n",
        "except Exception:\n",
        "  pass\n",
        "\n",
        "# Load the TensorBoard notebook extension.\n",
        "%load_ext tensorboard"
      ],
      "execution_count": 0,
      "outputs": []
    },
    {
      "cell_type": "code",
      "metadata": {
        "id": "Ka4I0k-sczmd",
        "colab_type": "code",
        "outputId": "cf0ef21c-7cb8-41b6-bbb9-d6b2525bbc1e",
        "colab": {
          "base_uri": "https://localhost:8080/",
          "height": 68
        }
      },
      "source": [
        "from __future__ import absolute_import\n",
        "from __future__ import division\n",
        "from __future__ import print_function\n",
        "from time import time\n",
        "from datetime import datetime\n",
        "import io\n",
        "import itertools\n",
        "from packaging import version\n",
        "from six.moves import range\n",
        "\n",
        "import tensorflow as tf\n",
        "from tensorflow import keras\n",
        "\n",
        "import matplotlib.pyplot as plt\n",
        "import numpy as np\n",
        "import sklearn.metrics\n",
        "\n",
        "print(\"TensorFlow version: \", tf.__version__)\n",
        "assert version.parse(tf.__version__).release[0] >= 2, \\\n",
        "    \"This notebook requires TensorFlow 2.0 or above.\"\n",
        "from google.colab import drive; drive.mount('/content/drive')\n",
        "import os\n",
        "os.getcwd()\n",
        "%cd /content/drive/My Drive/Colab Notebooks\n",
        "from datasets import MNISTDataset"
      ],
      "execution_count": 2,
      "outputs": [
        {
          "output_type": "stream",
          "text": [
            "TensorFlow version:  2.2.0-rc3\n",
            "Drive already mounted at /content/drive; to attempt to forcibly remount, call drive.mount(\"/content/drive\", force_remount=True).\n",
            "/content/drive/My Drive/Colab Notebooks\n"
          ],
          "name": "stdout"
        }
      ]
    },
    {
      "cell_type": "markdown",
      "metadata": {
        "id": "R_T-euT5vQL1",
        "colab_type": "text"
      },
      "source": [
        "# **shuffle/repeat/batch orderings**"
      ]
    },
    {
      "cell_type": "code",
      "metadata": {
        "id": "5H7ZlMRrc2dJ",
        "colab_type": "code",
        "colab": {}
      },
      "source": [
        "# Download the data. The data is already divided into train and test.\n",
        "# The labels are integers representing classes.\n",
        "mnist = keras.datasets.mnist\n",
        "(train_imgs, train_lbls), (test_imgs, test_lbls) = \\\n",
        "    mnist.load_data()\n",
        "# normalize the images to [0, 1] \n",
        "# reshape images from (28, 28) to (784,)\n",
        "train_imgs = (train_imgs.astype(np.float32) / 255.).reshape((-1, 784))\n",
        "test_imgs = (test_imgs.astype(np.float32) / 255.).reshape((-1, 784))\n",
        "# convert labels to int32\n",
        "train_lbls = train_lbls.astype(np.int32)\n",
        "test_lbls = test_lbls.astype(np.int32)\n",
        "\n",
        "train_dataset = tf.data.Dataset.from_tensor_slices((train_imgs, train_lbls))\n",
        "test_dataset = tf.data.Dataset.from_tensor_slices((test_imgs, test_lbls)) \n",
        "\n",
        "BATCH_SIZE=100\n",
        "SHUFFLE_SIZE =5\n",
        "REPEAT_SIZE =2\n",
        "train_dataset = train_dataset.shuffle(SHUFFLE_SIZE)\n",
        "test_dataset = test_dataset.shuffle(SHUFFLE_SIZE)\n",
        "train_dataset = train_dataset.repeat(REPEAT_SIZE)\n",
        "test_dataset = test_dataset.repeat(REPEAT_SIZE)\n",
        "train_dataset = train_dataset.batch(BATCH_SIZE)\n",
        "test_dataset = test_dataset.batch(BATCH_SIZE)\n",
        "\n",
        "\n",
        "class_names = ['zero','one', 'Two', 'Three', 'Four', 'Five','Six', 'Seven', 'eight', 'nine', 'ten']\n"
      ],
      "execution_count": 0,
      "outputs": []
    },
    {
      "cell_type": "code",
      "metadata": {
        "id": "3Yqnp52QSdwW",
        "colab_type": "code",
        "colab": {}
      },
      "source": [
        "model = tf.keras.Sequential([\n",
        "#tf.keras.layers.Flatten(input_shape=(28, 28)),\n",
        "tf.keras.layers.Dense(128, activation='relu'),\n",
        "tf.keras.layers.Dense(10)\n",
        "])\n",
        "\n",
        "model.compile(optimizer=tf.keras.optimizers.RMSprop(),\n",
        "              loss=tf.keras.losses.SparseCategoricalCrossentropy(from_logits=True),\n",
        "              metrics=['sparse_categorical_accuracy'])"
      ],
      "execution_count": 0,
      "outputs": []
    },
    {
      "cell_type": "code",
      "metadata": {
        "id": "swhWZz9ESga3",
        "colab_type": "code",
        "outputId": "684a8d6d-cf43-4d4f-a8cc-20494c7971af",
        "colab": {
          "base_uri": "https://localhost:8080/",
          "height": 374
        }
      },
      "source": [
        "model.fit(train_dataset, epochs=10)"
      ],
      "execution_count": 5,
      "outputs": [
        {
          "output_type": "stream",
          "text": [
            "Epoch 1/10\n",
            "1200/1200 [==============================] - 4s 3ms/step - loss: 0.2397 - sparse_categorical_accuracy: 0.9326\n",
            "Epoch 2/10\n",
            "1200/1200 [==============================] - 4s 3ms/step - loss: 0.1008 - sparse_categorical_accuracy: 0.9718\n",
            "Epoch 3/10\n",
            "1200/1200 [==============================] - 4s 3ms/step - loss: 0.0657 - sparse_categorical_accuracy: 0.9816\n",
            "Epoch 4/10\n",
            "1200/1200 [==============================] - 4s 3ms/step - loss: 0.0472 - sparse_categorical_accuracy: 0.9868\n",
            "Epoch 5/10\n",
            "1200/1200 [==============================] - 4s 3ms/step - loss: 0.0353 - sparse_categorical_accuracy: 0.9902\n",
            "Epoch 6/10\n",
            "1200/1200 [==============================] - 4s 3ms/step - loss: 0.0269 - sparse_categorical_accuracy: 0.9930\n",
            "Epoch 7/10\n",
            "1200/1200 [==============================] - 4s 3ms/step - loss: 0.0204 - sparse_categorical_accuracy: 0.9950\n",
            "Epoch 8/10\n",
            "1200/1200 [==============================] - 4s 3ms/step - loss: 0.0156 - sparse_categorical_accuracy: 0.9964\n",
            "Epoch 9/10\n",
            "1200/1200 [==============================] - 4s 3ms/step - loss: 0.0118 - sparse_categorical_accuracy: 0.9974\n",
            "Epoch 10/10\n",
            "1200/1200 [==============================] - 4s 3ms/step - loss: 0.0089 - sparse_categorical_accuracy: 0.9982\n"
          ],
          "name": "stdout"
        },
        {
          "output_type": "execute_result",
          "data": {
            "text/plain": [
              "<tensorflow.python.keras.callbacks.History at 0x7fb8c5569dd8>"
            ]
          },
          "metadata": {
            "tags": []
          },
          "execution_count": 5
        }
      ]
    },
    {
      "cell_type": "code",
      "metadata": {
        "id": "dLMw-KwaSjkU",
        "colab_type": "code",
        "outputId": "c290f8e1-18fd-4c17-ffc7-8769b9f85357",
        "colab": {
          "base_uri": "https://localhost:8080/",
          "height": 51
        }
      },
      "source": [
        "model.evaluate(test_dataset)"
      ],
      "execution_count": 6,
      "outputs": [
        {
          "output_type": "stream",
          "text": [
            "200/200 [==============================] - 0s 2ms/step - loss: 0.1187 - sparse_categorical_accuracy: 0.9749\n"
          ],
          "name": "stdout"
        },
        {
          "output_type": "execute_result",
          "data": {
            "text/plain": [
              "[0.1187371090054512, 0.9749000072479248]"
            ]
          },
          "metadata": {
            "tags": []
          },
          "execution_count": 6
        }
      ]
    },
    {
      "cell_type": "markdown",
      "metadata": {
        "id": "GihNu_IRvglK",
        "colab_type": "text"
      },
      "source": [
        "# **repeat/shuffle/batch orderings**"
      ]
    },
    {
      "cell_type": "code",
      "metadata": {
        "id": "_v1Xw1NSrQ4A",
        "colab_type": "code",
        "colab": {}
      },
      "source": [
        "# Download the data. The data is already divided into train and test.\n",
        "# The labels are integers representing classes.\n",
        "mnist = keras.datasets.mnist\n",
        "(train_imgs, train_lbls), (test_imgs, test_lbls) = \\\n",
        "    mnist.load_data()\n",
        "# normalize the images to [0, 1] \n",
        "# reshape images from (28, 28) to (784,)\n",
        "train_imgs = (train_imgs.astype(np.float32) / 255.).reshape((-1, 784))\n",
        "test_imgs = (test_imgs.astype(np.float32) / 255.).reshape((-1, 784))\n",
        "# convert labels to int32\n",
        "train_lbls = train_lbls.astype(np.int32)\n",
        "test_lbls = test_lbls.astype(np.int32)\n",
        "\n",
        "train_dataset = tf.data.Dataset.from_tensor_slices((train_imgs, train_lbls))\n",
        "test_dataset = tf.data.Dataset.from_tensor_slices((test_imgs, test_lbls)) \n",
        "\n",
        "BATCH_SIZE=100\n",
        "SHUFFLE_SIZE =5\n",
        "REPEAT_SIZE =2\n",
        "\n",
        "train_dataset = train_dataset.repeat(REPEAT_SIZE)\n",
        "test_dataset = test_dataset.repeat(REPEAT_SIZE)\n",
        "train_dataset = train_dataset.shuffle(SHUFFLE_SIZE)\n",
        "test_dataset = test_dataset.shuffle(SHUFFLE_SIZE)\n",
        "train_dataset = train_dataset.batch(BATCH_SIZE)\n",
        "test_dataset = test_dataset.batch(BATCH_SIZE)\n",
        "\n",
        "\n",
        "class_names = ['zero','one', 'Two', 'Three', 'Four', 'Five','Six', 'Seven', 'eight', 'nine', 'ten']\n"
      ],
      "execution_count": 0,
      "outputs": []
    },
    {
      "cell_type": "code",
      "metadata": {
        "id": "li8nd5AjrUZA",
        "colab_type": "code",
        "colab": {
          "base_uri": "https://localhost:8080/",
          "height": 374
        },
        "outputId": "ca108f12-df44-4c31-926d-37cdeb16d726"
      },
      "source": [
        "model = tf.keras.Sequential([\n",
        "#tf.keras.layers.Flatten(input_shape=(28, 28)),\n",
        "tf.keras.layers.Dense(128, activation='relu'),\n",
        "tf.keras.layers.Dense(10)\n",
        "])\n",
        "\n",
        "model.compile(optimizer=tf.keras.optimizers.RMSprop(),\n",
        "              loss=tf.keras.losses.SparseCategoricalCrossentropy(from_logits=True),\n",
        "              metrics=['sparse_categorical_accuracy'])\n",
        "model.fit(train_dataset, epochs=10)\n"
      ],
      "execution_count": 8,
      "outputs": [
        {
          "output_type": "stream",
          "text": [
            "Epoch 1/10\n",
            "1200/1200 [==============================] - 4s 3ms/step - loss: 0.2379 - sparse_categorical_accuracy: 0.9334\n",
            "Epoch 2/10\n",
            "1200/1200 [==============================] - 4s 3ms/step - loss: 0.0991 - sparse_categorical_accuracy: 0.9718\n",
            "Epoch 3/10\n",
            "1200/1200 [==============================] - 4s 3ms/step - loss: 0.0647 - sparse_categorical_accuracy: 0.9816\n",
            "Epoch 4/10\n",
            "1200/1200 [==============================] - 4s 3ms/step - loss: 0.0465 - sparse_categorical_accuracy: 0.9870\n",
            "Epoch 5/10\n",
            "1200/1200 [==============================] - 4s 3ms/step - loss: 0.0348 - sparse_categorical_accuracy: 0.9906\n",
            "Epoch 6/10\n",
            "1200/1200 [==============================] - 4s 3ms/step - loss: 0.0264 - sparse_categorical_accuracy: 0.9932\n",
            "Epoch 7/10\n",
            "1200/1200 [==============================] - 4s 3ms/step - loss: 0.0202 - sparse_categorical_accuracy: 0.9952\n",
            "Epoch 8/10\n",
            "1200/1200 [==============================] - 4s 3ms/step - loss: 0.0155 - sparse_categorical_accuracy: 0.9965\n",
            "Epoch 9/10\n",
            "1200/1200 [==============================] - 4s 3ms/step - loss: 0.0120 - sparse_categorical_accuracy: 0.9975\n",
            "Epoch 10/10\n",
            "1200/1200 [==============================] - 4s 3ms/step - loss: 0.0092 - sparse_categorical_accuracy: 0.9982\n"
          ],
          "name": "stdout"
        },
        {
          "output_type": "execute_result",
          "data": {
            "text/plain": [
              "<tensorflow.python.keras.callbacks.History at 0x7fb8bcf80d68>"
            ]
          },
          "metadata": {
            "tags": []
          },
          "execution_count": 8
        }
      ]
    },
    {
      "cell_type": "code",
      "metadata": {
        "id": "k1fetiknt6kB",
        "colab_type": "code",
        "colab": {
          "base_uri": "https://localhost:8080/",
          "height": 51
        },
        "outputId": "e101e071-bf41-4eb5-8e81-9765cd88ed0e"
      },
      "source": [
        "model.evaluate(test_dataset)"
      ],
      "execution_count": 9,
      "outputs": [
        {
          "output_type": "stream",
          "text": [
            "200/200 [==============================] - 0s 2ms/step - loss: 0.1153 - sparse_categorical_accuracy: 0.9754\n"
          ],
          "name": "stdout"
        },
        {
          "output_type": "execute_result",
          "data": {
            "text/plain": [
              "[0.1153411865234375, 0.9753999710083008]"
            ]
          },
          "metadata": {
            "tags": []
          },
          "execution_count": 9
        }
      ]
    },
    {
      "cell_type": "markdown",
      "metadata": {
        "id": "Y_-_UpZAvvn6",
        "colab_type": "text"
      },
      "source": [
        "# **shuffle/batch/repeat orderings**"
      ]
    },
    {
      "cell_type": "code",
      "metadata": {
        "id": "cefDW5RlsdlC",
        "colab_type": "code",
        "colab": {
          "base_uri": "https://localhost:8080/",
          "height": 374
        },
        "outputId": "914a9581-a22b-411c-e8ac-41cb5153e220"
      },
      "source": [
        "# Download the data. The data is already divided into train and test.\n",
        "# The labels are integers representing classes.\n",
        "mnist = keras.datasets.mnist\n",
        "(train_imgs, train_lbls), (test_imgs, test_lbls) = \\\n",
        "    mnist.load_data()\n",
        "# normalize the images to [0, 1] \n",
        "# reshape images from (28, 28) to (784,)\n",
        "train_imgs = (train_imgs.astype(np.float32) / 255.).reshape((-1, 784))\n",
        "test_imgs = (test_imgs.astype(np.float32) / 255.).reshape((-1, 784))\n",
        "# convert labels to int32\n",
        "train_lbls = train_lbls.astype(np.int32)\n",
        "test_lbls = test_lbls.astype(np.int32)\n",
        "\n",
        "train_dataset = tf.data.Dataset.from_tensor_slices((train_imgs, train_lbls))\n",
        "test_dataset = tf.data.Dataset.from_tensor_slices((test_imgs, test_lbls)) \n",
        "\n",
        "BATCH_SIZE=100\n",
        "SHUFFLE_SIZE =5\n",
        "REPEAT_SIZE =2\n",
        "\n",
        "train_dataset = train_dataset.shuffle(SHUFFLE_SIZE)\n",
        "test_dataset = test_dataset.shuffle(SHUFFLE_SIZE)\n",
        "train_dataset = train_dataset.batch(BATCH_SIZE)\n",
        "test_dataset = test_dataset.batch(BATCH_SIZE)\n",
        "train_dataset = train_dataset.repeat(REPEAT_SIZE)\n",
        "test_dataset = test_dataset.repeat(REPEAT_SIZE)\n",
        "\n",
        "\n",
        "class_names = ['zero','one', 'Two', 'Three', 'Four', 'Five','Six', 'Seven', 'eight', 'nine', 'ten']\n",
        "\n",
        "model = tf.keras.Sequential([\n",
        "#tf.keras.layers.Flatten(input_shape=(28, 28)),\n",
        "tf.keras.layers.Dense(128, activation='relu'),\n",
        "tf.keras.layers.Dense(10)\n",
        "])\n",
        "\n",
        "model.compile(optimizer=tf.keras.optimizers.RMSprop(),\n",
        "              loss=tf.keras.losses.SparseCategoricalCrossentropy(from_logits=True),\n",
        "              metrics=['sparse_categorical_accuracy'])\n",
        "model.fit(train_dataset, epochs=10)\n"
      ],
      "execution_count": 10,
      "outputs": [
        {
          "output_type": "stream",
          "text": [
            "Epoch 1/10\n",
            "1200/1200 [==============================] - 4s 3ms/step - loss: 0.2382 - sparse_categorical_accuracy: 0.9336\n",
            "Epoch 2/10\n",
            "1200/1200 [==============================] - 4s 3ms/step - loss: 0.0996 - sparse_categorical_accuracy: 0.9714\n",
            "Epoch 3/10\n",
            "1200/1200 [==============================] - 4s 3ms/step - loss: 0.0656 - sparse_categorical_accuracy: 0.9811\n",
            "Epoch 4/10\n",
            "1200/1200 [==============================] - 4s 3ms/step - loss: 0.0477 - sparse_categorical_accuracy: 0.9866\n",
            "Epoch 5/10\n",
            "1200/1200 [==============================] - 4s 3ms/step - loss: 0.0357 - sparse_categorical_accuracy: 0.9906\n",
            "Epoch 6/10\n",
            "1200/1200 [==============================] - 4s 3ms/step - loss: 0.0272 - sparse_categorical_accuracy: 0.9930\n",
            "Epoch 7/10\n",
            "1200/1200 [==============================] - 4s 3ms/step - loss: 0.0208 - sparse_categorical_accuracy: 0.9952\n",
            "Epoch 8/10\n",
            "1200/1200 [==============================] - 4s 4ms/step - loss: 0.0161 - sparse_categorical_accuracy: 0.9965\n",
            "Epoch 9/10\n",
            "1200/1200 [==============================] - 4s 3ms/step - loss: 0.0126 - sparse_categorical_accuracy: 0.9973\n",
            "Epoch 10/10\n",
            "1200/1200 [==============================] - 4s 3ms/step - loss: 0.0098 - sparse_categorical_accuracy: 0.9980\n"
          ],
          "name": "stdout"
        },
        {
          "output_type": "execute_result",
          "data": {
            "text/plain": [
              "<tensorflow.python.keras.callbacks.History at 0x7fb8bce7fcc0>"
            ]
          },
          "metadata": {
            "tags": []
          },
          "execution_count": 10
        }
      ]
    },
    {
      "cell_type": "code",
      "metadata": {
        "id": "hVEgqEJbuG6s",
        "colab_type": "code",
        "colab": {
          "base_uri": "https://localhost:8080/",
          "height": 51
        },
        "outputId": "ed0f8827-4d94-497c-ab56-cb2c07097ac2"
      },
      "source": [
        "model.evaluate(test_dataset)"
      ],
      "execution_count": 11,
      "outputs": [
        {
          "output_type": "stream",
          "text": [
            "200/200 [==============================] - 0s 2ms/step - loss: 0.1172 - sparse_categorical_accuracy: 0.9739\n"
          ],
          "name": "stdout"
        },
        {
          "output_type": "execute_result",
          "data": {
            "text/plain": [
              "[0.1171913743019104, 0.9739000201225281]"
            ]
          },
          "metadata": {
            "tags": []
          },
          "execution_count": 11
        }
      ]
    },
    {
      "cell_type": "markdown",
      "metadata": {
        "id": "TAuoMMMtv8A8",
        "colab_type": "text"
      },
      "source": [
        "# **batch/repeat/shuffle/ orderings**"
      ]
    },
    {
      "cell_type": "code",
      "metadata": {
        "id": "Zq7UDsWHsvgM",
        "colab_type": "code",
        "colab": {
          "base_uri": "https://localhost:8080/",
          "height": 374
        },
        "outputId": "a6d23d5f-fe10-47fb-dba1-200eb287140f"
      },
      "source": [
        "# Download the data. The data is already divided into train and test.\n",
        "# The labels are integers representing classes.\n",
        "mnist = keras.datasets.mnist\n",
        "(train_imgs, train_lbls), (test_imgs, test_lbls) = \\\n",
        "    mnist.load_data()\n",
        "# normalize the images to [0, 1] \n",
        "# reshape images from (28, 28) to (784,)\n",
        "train_imgs = (train_imgs.astype(np.float32) / 255.).reshape((-1, 784))\n",
        "test_imgs = (test_imgs.astype(np.float32) / 255.).reshape((-1, 784))\n",
        "# convert labels to int32\n",
        "train_lbls = train_lbls.astype(np.int32)\n",
        "test_lbls = test_lbls.astype(np.int32)\n",
        "\n",
        "train_dataset = tf.data.Dataset.from_tensor_slices((train_imgs, train_lbls))\n",
        "test_dataset = tf.data.Dataset.from_tensor_slices((test_imgs, test_lbls)) \n",
        "\n",
        "BATCH_SIZE=100\n",
        "SHUFFLE_SIZE =5\n",
        "REPEAT_SIZE =2\n",
        "\n",
        "train_dataset = train_dataset.batch(BATCH_SIZE)\n",
        "test_dataset = test_dataset.batch(BATCH_SIZE)\n",
        "train_dataset = train_dataset.repeat(REPEAT_SIZE)\n",
        "test_dataset = test_dataset.repeat(REPEAT_SIZE)\n",
        "train_dataset = train_dataset.shuffle(SHUFFLE_SIZE)\n",
        "test_dataset = test_dataset.shuffle(SHUFFLE_SIZE)\n",
        "\n",
        "\n",
        "class_names = ['zero','one', 'Two', 'Three', 'Four', 'Five','Six', 'Seven', 'eight', 'nine', 'ten']\n",
        "\n",
        "model = tf.keras.Sequential([\n",
        "#tf.keras.layers.Flatten(input_shape=(28, 28)),\n",
        "tf.keras.layers.Dense(128, activation='relu'),\n",
        "tf.keras.layers.Dense(10)\n",
        "])\n",
        "\n",
        "model.compile(optimizer=tf.keras.optimizers.RMSprop(),\n",
        "              loss=tf.keras.losses.SparseCategoricalCrossentropy(from_logits=True),\n",
        "              metrics=['sparse_categorical_accuracy'])\n",
        "model.fit(train_dataset, epochs=10)\n"
      ],
      "execution_count": 12,
      "outputs": [
        {
          "output_type": "stream",
          "text": [
            "Epoch 1/10\n",
            "1200/1200 [==============================] - 4s 3ms/step - loss: 0.2328 - sparse_categorical_accuracy: 0.9354\n",
            "Epoch 2/10\n",
            "1200/1200 [==============================] - 4s 3ms/step - loss: 0.0939 - sparse_categorical_accuracy: 0.9727\n",
            "Epoch 3/10\n",
            "1200/1200 [==============================] - 4s 3ms/step - loss: 0.0620 - sparse_categorical_accuracy: 0.9819\n",
            "Epoch 4/10\n",
            "1200/1200 [==============================] - 4s 3ms/step - loss: 0.0447 - sparse_categorical_accuracy: 0.9871\n",
            "Epoch 5/10\n",
            "1200/1200 [==============================] - 4s 3ms/step - loss: 0.0340 - sparse_categorical_accuracy: 0.9902\n",
            "Epoch 6/10\n",
            "1200/1200 [==============================] - 4s 3ms/step - loss: 0.0258 - sparse_categorical_accuracy: 0.9930\n",
            "Epoch 7/10\n",
            "1200/1200 [==============================] - 4s 3ms/step - loss: 0.0197 - sparse_categorical_accuracy: 0.9948\n",
            "Epoch 8/10\n",
            "1200/1200 [==============================] - 4s 3ms/step - loss: 0.0153 - sparse_categorical_accuracy: 0.9963\n",
            "Epoch 9/10\n",
            "1200/1200 [==============================] - 4s 3ms/step - loss: 0.0118 - sparse_categorical_accuracy: 0.9972\n",
            "Epoch 10/10\n",
            "1200/1200 [==============================] - 4s 3ms/step - loss: 0.0091 - sparse_categorical_accuracy: 0.9979\n"
          ],
          "name": "stdout"
        },
        {
          "output_type": "execute_result",
          "data": {
            "text/plain": [
              "<tensorflow.python.keras.callbacks.History at 0x7fb8bb56ccf8>"
            ]
          },
          "metadata": {
            "tags": []
          },
          "execution_count": 12
        }
      ]
    },
    {
      "cell_type": "code",
      "metadata": {
        "id": "borWwHr_uNOq",
        "colab_type": "code",
        "colab": {
          "base_uri": "https://localhost:8080/",
          "height": 51
        },
        "outputId": "7cce6253-980e-4de2-bd35-6a324e7e44cf"
      },
      "source": [
        "model.evaluate(test_dataset)"
      ],
      "execution_count": 13,
      "outputs": [
        {
          "output_type": "stream",
          "text": [
            "200/200 [==============================] - 0s 2ms/step - loss: 0.1061 - sparse_categorical_accuracy: 0.9769\n"
          ],
          "name": "stdout"
        },
        {
          "output_type": "execute_result",
          "data": {
            "text/plain": [
              "[0.10612091422080994, 0.9768999814987183]"
            ]
          },
          "metadata": {
            "tags": []
          },
          "execution_count": 13
        }
      ]
    },
    {
      "cell_type": "markdown",
      "metadata": {
        "id": "9f1syGzZwEZ7",
        "colab_type": "text"
      },
      "source": [
        "# **batch/shuffle/repeat orderings**"
      ]
    },
    {
      "cell_type": "code",
      "metadata": {
        "id": "Zu2G-Qubs40s",
        "colab_type": "code",
        "colab": {
          "base_uri": "https://localhost:8080/",
          "height": 374
        },
        "outputId": "b2841fb1-ac55-4ffe-9c05-e533dac762f2"
      },
      "source": [
        "# Download the data. The data is already divided into train and test.\n",
        "# The labels are integers representing classes.\n",
        "mnist = keras.datasets.mnist\n",
        "(train_imgs, train_lbls), (test_imgs, test_lbls) = \\\n",
        "    mnist.load_data()\n",
        "# normalize the images to [0, 1] \n",
        "# reshape images from (28, 28) to (784,)\n",
        "train_imgs = (train_imgs.astype(np.float32) / 255.).reshape((-1, 784))\n",
        "test_imgs = (test_imgs.astype(np.float32) / 255.).reshape((-1, 784))\n",
        "# convert labels to int32\n",
        "train_lbls = train_lbls.astype(np.int32)\n",
        "test_lbls = test_lbls.astype(np.int32)\n",
        "\n",
        "train_dataset = tf.data.Dataset.from_tensor_slices((train_imgs, train_lbls))\n",
        "test_dataset = tf.data.Dataset.from_tensor_slices((test_imgs, test_lbls)) \n",
        "\n",
        "BATCH_SIZE=100\n",
        "SHUFFLE_SIZE =5\n",
        "REPEAT_SIZE =2\n",
        "\n",
        "train_dataset = train_dataset.batch(BATCH_SIZE)\n",
        "test_dataset = test_dataset.batch(BATCH_SIZE)\n",
        "train_dataset = train_dataset.shuffle(SHUFFLE_SIZE)\n",
        "test_dataset = test_dataset.shuffle(SHUFFLE_SIZE)\n",
        "train_dataset = train_dataset.repeat(REPEAT_SIZE)\n",
        "test_dataset = test_dataset.repeat(REPEAT_SIZE)\n",
        "\n",
        "\n",
        "class_names = ['zero','one', 'Two', 'Three', 'Four', 'Five','Six', 'Seven', 'eight', 'nine', 'ten']\n",
        "\n",
        "model = tf.keras.Sequential([\n",
        "#tf.keras.layers.Flatten(input_shape=(28, 28)),\n",
        "tf.keras.layers.Dense(128, activation='relu'),\n",
        "tf.keras.layers.Dense(10)\n",
        "])\n",
        "\n",
        "model.compile(optimizer=tf.keras.optimizers.RMSprop(),\n",
        "              loss=tf.keras.losses.SparseCategoricalCrossentropy(from_logits=True),\n",
        "              metrics=['sparse_categorical_accuracy'])\n",
        "model.fit(train_dataset, epochs=10)\n",
        "\n"
      ],
      "execution_count": 14,
      "outputs": [
        {
          "output_type": "stream",
          "text": [
            "Epoch 1/10\n",
            "1200/1200 [==============================] - 4s 3ms/step - loss: 0.2401 - sparse_categorical_accuracy: 0.9323\n",
            "Epoch 2/10\n",
            "1200/1200 [==============================] - 4s 3ms/step - loss: 0.0999 - sparse_categorical_accuracy: 0.9704\n",
            "Epoch 3/10\n",
            "1200/1200 [==============================] - 4s 4ms/step - loss: 0.0660 - sparse_categorical_accuracy: 0.9808\n",
            "Epoch 4/10\n",
            "1200/1200 [==============================] - 4s 3ms/step - loss: 0.0483 - sparse_categorical_accuracy: 0.9858\n",
            "Epoch 5/10\n",
            "1200/1200 [==============================] - 4s 3ms/step - loss: 0.0363 - sparse_categorical_accuracy: 0.9898\n",
            "Epoch 6/10\n",
            "1200/1200 [==============================] - 4s 3ms/step - loss: 0.0276 - sparse_categorical_accuracy: 0.9926\n",
            "Epoch 7/10\n",
            "1200/1200 [==============================] - 4s 3ms/step - loss: 0.0210 - sparse_categorical_accuracy: 0.9946\n",
            "Epoch 8/10\n",
            "1200/1200 [==============================] - 4s 3ms/step - loss: 0.0163 - sparse_categorical_accuracy: 0.9957\n",
            "Epoch 9/10\n",
            "1200/1200 [==============================] - 4s 3ms/step - loss: 0.0124 - sparse_categorical_accuracy: 0.9971\n",
            "Epoch 10/10\n",
            "1200/1200 [==============================] - 4s 3ms/step - loss: 0.0095 - sparse_categorical_accuracy: 0.9978\n"
          ],
          "name": "stdout"
        },
        {
          "output_type": "execute_result",
          "data": {
            "text/plain": [
              "<tensorflow.python.keras.callbacks.History at 0x7fb8ba46ea58>"
            ]
          },
          "metadata": {
            "tags": []
          },
          "execution_count": 14
        }
      ]
    },
    {
      "cell_type": "code",
      "metadata": {
        "id": "PGUTiVYZua-a",
        "colab_type": "code",
        "colab": {
          "base_uri": "https://localhost:8080/",
          "height": 51
        },
        "outputId": "a8ee8d77-32bf-4b42-901a-b470fb8b1288"
      },
      "source": [
        "model.evaluate(test_dataset)\n"
      ],
      "execution_count": 15,
      "outputs": [
        {
          "output_type": "stream",
          "text": [
            "200/200 [==============================] - 0s 2ms/step - loss: 0.1073 - sparse_categorical_accuracy: 0.9760\n"
          ],
          "name": "stdout"
        },
        {
          "output_type": "execute_result",
          "data": {
            "text/plain": [
              "[0.10730396956205368, 0.9760000109672546]"
            ]
          },
          "metadata": {
            "tags": []
          },
          "execution_count": 15
        }
      ]
    },
    {
      "cell_type": "markdown",
      "metadata": {
        "id": "4TONXHJCwLTW",
        "colab_type": "text"
      },
      "source": [
        "# **repeat/batch/shuffle/ orderings**"
      ]
    },
    {
      "cell_type": "code",
      "metadata": {
        "id": "ZOFPmznvs-ZC",
        "colab_type": "code",
        "colab": {
          "base_uri": "https://localhost:8080/",
          "height": 374
        },
        "outputId": "a9e0a2c9-c04d-41db-ecc9-fc14edac65a2"
      },
      "source": [
        "# Download the data. The data is already divided into train and test.\n",
        "# The labels are integers representing classes.\n",
        "mnist = keras.datasets.mnist\n",
        "(train_imgs, train_lbls), (test_imgs, test_lbls) = \\\n",
        "    mnist.load_data()\n",
        "# normalize the images to [0, 1] \n",
        "# reshape images from (28, 28) to (784,)\n",
        "train_imgs = (train_imgs.astype(np.float32) / 255.).reshape((-1, 784))\n",
        "test_imgs = (test_imgs.astype(np.float32) / 255.).reshape((-1, 784))\n",
        "# convert labels to int32\n",
        "train_lbls = train_lbls.astype(np.int32)\n",
        "test_lbls = test_lbls.astype(np.int32)\n",
        "\n",
        "train_dataset = tf.data.Dataset.from_tensor_slices((train_imgs, train_lbls))\n",
        "test_dataset = tf.data.Dataset.from_tensor_slices((test_imgs, test_lbls)) \n",
        "\n",
        "BATCH_SIZE=100\n",
        "SHUFFLE_SIZE =5\n",
        "REPEAT_SIZE =2\n",
        "\n",
        "\n",
        "train_dataset = train_dataset.repeat(REPEAT_SIZE)\n",
        "test_dataset = test_dataset.repeat(REPEAT_SIZE)\n",
        "train_dataset = train_dataset.batch(BATCH_SIZE)\n",
        "test_dataset = test_dataset.batch(BATCH_SIZE)\n",
        "train_dataset = train_dataset.shuffle(SHUFFLE_SIZE)\n",
        "test_dataset = test_dataset.shuffle(SHUFFLE_SIZE)\n",
        "\n",
        "class_names = ['zero','one', 'Two', 'Three', 'Four', 'Five','Six', 'Seven', 'eight', 'nine', 'ten']\n",
        "\n",
        "model = tf.keras.Sequential([\n",
        "#tf.keras.layers.Flatten(input_shape=(28, 28)),\n",
        "tf.keras.layers.Dense(128, activation='relu'),\n",
        "tf.keras.layers.Dense(10)\n",
        "])\n",
        "\n",
        "model.compile(optimizer=tf.keras.optimizers.RMSprop(),\n",
        "              loss=tf.keras.losses.SparseCategoricalCrossentropy(from_logits=True),\n",
        "              metrics=['sparse_categorical_accuracy'])\n",
        "model.fit(train_dataset, epochs=10)\n"
      ],
      "execution_count": 16,
      "outputs": [
        {
          "output_type": "stream",
          "text": [
            "Epoch 1/10\n",
            "1200/1200 [==============================] - 4s 3ms/step - loss: 0.2433 - sparse_categorical_accuracy: 0.9318\n",
            "Epoch 2/10\n",
            "1200/1200 [==============================] - 4s 3ms/step - loss: 0.1017 - sparse_categorical_accuracy: 0.9702\n",
            "Epoch 3/10\n",
            "1200/1200 [==============================] - 4s 3ms/step - loss: 0.0664 - sparse_categorical_accuracy: 0.9810\n",
            "Epoch 4/10\n",
            "1200/1200 [==============================] - 4s 3ms/step - loss: 0.0477 - sparse_categorical_accuracy: 0.9864\n",
            "Epoch 5/10\n",
            "1200/1200 [==============================] - 4s 3ms/step - loss: 0.0357 - sparse_categorical_accuracy: 0.9900\n",
            "Epoch 6/10\n",
            "1200/1200 [==============================] - 4s 3ms/step - loss: 0.0272 - sparse_categorical_accuracy: 0.9927\n",
            "Epoch 7/10\n",
            "1200/1200 [==============================] - 4s 3ms/step - loss: 0.0208 - sparse_categorical_accuracy: 0.9946\n",
            "Epoch 8/10\n",
            "1200/1200 [==============================] - 4s 3ms/step - loss: 0.0158 - sparse_categorical_accuracy: 0.9961\n",
            "Epoch 9/10\n",
            "1200/1200 [==============================] - 4s 3ms/step - loss: 0.0120 - sparse_categorical_accuracy: 0.9972\n",
            "Epoch 10/10\n",
            "1200/1200 [==============================] - 4s 3ms/step - loss: 0.0091 - sparse_categorical_accuracy: 0.9980\n"
          ],
          "name": "stdout"
        },
        {
          "output_type": "execute_result",
          "data": {
            "text/plain": [
              "<tensorflow.python.keras.callbacks.History at 0x7fb8b934a8d0>"
            ]
          },
          "metadata": {
            "tags": []
          },
          "execution_count": 16
        }
      ]
    },
    {
      "cell_type": "code",
      "metadata": {
        "id": "Ec9dbpnzufv1",
        "colab_type": "code",
        "colab": {
          "base_uri": "https://localhost:8080/",
          "height": 51
        },
        "outputId": "9e28706a-103a-4f71-a4dc-8854b6c0b05b"
      },
      "source": [
        "model.evaluate(test_dataset)\n"
      ],
      "execution_count": 17,
      "outputs": [
        {
          "output_type": "stream",
          "text": [
            "200/200 [==============================] - 0s 2ms/step - loss: 0.1120 - sparse_categorical_accuracy: 0.9743\n"
          ],
          "name": "stdout"
        },
        {
          "output_type": "execute_result",
          "data": {
            "text/plain": [
              "[0.11202209442853928, 0.9743000268936157]"
            ]
          },
          "metadata": {
            "tags": []
          },
          "execution_count": 17
        }
      ]
    },
    {
      "cell_type": "code",
      "metadata": {
        "id": "bbmDmuHh5ctq",
        "colab_type": "code",
        "colab": {}
      },
      "source": [
        "# Download the data. The data is already divided into train and test.\n",
        "# The labels are integers representing classes.\n",
        "mnist = keras.datasets.mnist\n",
        "(train_imgs, train_lbls), (test_imgs, test_lbls) = \\\n",
        "    mnist.load_data()\n",
        "mnist = MNISTDataset(train_imgs.reshape((-1, 784)), train_lbls,\n",
        "                     test_imgs.reshape((-1, 784)), test_lbls,\n",
        "                     batch_size=256, seed=int(time()))\n",
        "# Names of the integer classes, i.e., 0 -> T-short/top, 1 -> Trouser, etc.\n",
        "class_names = ['zero','one', 'Two', 'Three', 'Four', 'Five',\n",
        "               'Six', 'Seven', 'eight', 'nine', 'ten']\n",
        "train_imgs = train_imgs / 255.0\n",
        "test_imgs = test_imgs / 255.0"
      ],
      "execution_count": 0,
      "outputs": []
    },
    {
      "cell_type": "markdown",
      "metadata": {
        "id": "ruutINGZdGWv",
        "colab_type": "text"
      },
      "source": [
        "# **FAIL1**\n",
        "The error in this file is solved using Hyperparameter tuning.\n",
        "A few reasons for the cause of NaN errors is: a) Cross_ entropy or b) large number of connected layers.\n",
        "The number of connected layers in this example was 8. By tuning the hyperparameter, it was found that the layers above 4 caused an overflow leading to the NaN error."
      ]
    },
    {
      "cell_type": "code",
      "metadata": {
        "id": "YuZ6i4s2dFkG",
        "colab_type": "code",
        "outputId": "10fc639e-40a4-4ac9-cbab-090d85be331c",
        "colab": {
          "base_uri": "https://localhost:8080/",
          "height": 527
        }
      },
      "source": [
        "# define the model first, from input to output\n",
        "\n",
        "# this is a super deep model, cool!\n",
        "\n",
        "n_units = 100\n",
        "n_layers = 4\n",
        "w_range = 0.4\n",
        "\n",
        "# just set up a \"chain\" of hidden layers\n",
        "layers = []\n",
        "\n",
        "for layer in range(n_layers):\n",
        "    layers.append(tf.keras.layers.Dense(\n",
        "        n_units, activation=tf.nn.relu,\n",
        "        kernel_initializer=tf.initializers.RandomUniform(minval=-w_range,\n",
        "                                                         maxval=w_range),\n",
        "        bias_initializer=tf.initializers.constant(0.001)))\n",
        "\n",
        "# finally add the output layer\n",
        "layers.append(tf.keras.layers.Dense(\n",
        "    10, kernel_initializer=tf.initializers.RandomUniform(minval=-w_range,\n",
        "                                                         maxval=w_range)))\n",
        "accuracy=[]\n",
        "loss=[]\n",
        "lr = 0.1\n",
        "for step in range(2000):\n",
        "    img_batch, lbl_batch = mnist.next_batch()\n",
        "    with tf.GradientTape() as tape:\n",
        "        # here we just run all the layers in sequence via a for-loop\n",
        "        out = img_batch\n",
        "        for layer in layers:\n",
        "            out = layer(out)\n",
        "        xent = tf.reduce_mean(tf.nn.sparse_softmax_cross_entropy_with_logits(\n",
        "            logits=out, labels=lbl_batch))\n",
        "\n",
        "    weights = [var for l in layers for var in l.trainable_variables]\n",
        "    grads = tape.gradient(xent, weights)\n",
        "    for grad, var in zip(grads, weights):\n",
        "        var.assign_sub(lr*grad)\n",
        "\n",
        "    if not step % 100:\n",
        "        preds = tf.argmax(out, axis=1, output_type=tf.int32)\n",
        "        acc = tf.reduce_mean(tf.cast(tf.equal(preds, lbl_batch), tf.float32))\n",
        "        accuracy.append(acc)\n",
        "        loss.append(xent)\n",
        "        print(\"Loss: {} Accuracy: {}\".format(xent, acc))\n",
        "\n",
        "\n",
        "out = mnist.test_data\n",
        "for layer in layers:\n",
        "    out = layer(out)\n",
        "test_preds = tf.argmax(out, axis=1, output_type=tf.int32)\n",
        "acc = tf.reduce_mean(tf.cast(tf.equal(test_preds, mnist.test_labels), tf.float32))\n",
        "print(\"Final test accuracy: {}\".format(acc))\n"
      ],
      "execution_count": 30,
      "outputs": [
        {
          "output_type": "stream",
          "text": [
            "Loss: 18.911483764648438 Accuracy: 0.09375\n",
            "Loss: 0.5633935332298279 Accuracy: 0.8046875\n",
            "Starting new epoch...\n",
            "Loss: 0.3810024857521057 Accuracy: 0.8828125\n",
            "Loss: 0.3259965181350708 Accuracy: 0.91015625\n",
            "Starting new epoch...\n",
            "Loss: 0.37897396087646484 Accuracy: 0.88671875\n",
            "Loss: 0.3076930642127991 Accuracy: 0.91796875\n",
            "Starting new epoch...\n",
            "Loss: 0.24392898380756378 Accuracy: 0.92578125\n",
            "Loss: 0.1995052993297577 Accuracy: 0.9375\n",
            "Loss: 0.3295733332633972 Accuracy: 0.90625\n",
            "Starting new epoch...\n",
            "Loss: 0.2264748215675354 Accuracy: 0.9453125\n",
            "Loss: 0.16648049652576447 Accuracy: 0.95703125\n",
            "Starting new epoch...\n",
            "Loss: 0.14051471650600433 Accuracy: 0.9375\n",
            "Loss: 0.17480666935443878 Accuracy: 0.94921875\n",
            "Starting new epoch...\n",
            "Loss: 0.1235399842262268 Accuracy: 0.96875\n",
            "Loss: 0.1757916808128357 Accuracy: 0.953125\n",
            "Loss: 0.1502392739057541 Accuracy: 0.95703125\n",
            "Starting new epoch...\n",
            "Loss: 0.1830947995185852 Accuracy: 0.9296875\n",
            "Loss: 0.11645284295082092 Accuracy: 0.95703125\n",
            "Starting new epoch...\n",
            "Loss: 0.12649643421173096 Accuracy: 0.95703125\n",
            "Loss: 0.20056122541427612 Accuracy: 0.9375\n",
            "Starting new epoch...\n",
            "Final test accuracy: 0.9455999732017517\n"
          ],
          "name": "stdout"
        }
      ]
    },
    {
      "cell_type": "code",
      "metadata": {
        "id": "2NJbgg3EebNa",
        "colab_type": "code",
        "outputId": "6d39d51c-c576-4190-c4f2-1d02e97207f8",
        "colab": {
          "base_uri": "https://localhost:8080/",
          "height": 532
        }
      },
      "source": [
        "plt.plot(accuracy)\n",
        "plt.figure()\n",
        "plt.plot(loss)"
      ],
      "execution_count": 31,
      "outputs": [
        {
          "output_type": "execute_result",
          "data": {
            "text/plain": [
              "[<matplotlib.lines.Line2D at 0x7fb8b7263550>]"
            ]
          },
          "metadata": {
            "tags": []
          },
          "execution_count": 31
        },
        {
          "output_type": "display_data",
          "data": {
            "image/png": "[encoded data removed]",
            "text/plain": [
              "<Figure size 432x288 with 1 Axes>"
            ]
          },
          "metadata": {
            "tags": [],
            "needs_background": "light"
          }
        },
        {
          "output_type": "display_data",
          "data": {
            "image/png": "[encoded data removed]",
            "text/plain": [
              "<Figure size 432x288 with 1 Axes>"
            ]
          },
          "metadata": {
            "tags": [],
            "needs_background": "light"
          }
        }
      ]
    },
    {
      "cell_type": "markdown",
      "metadata": {
        "id": "hcghADrhgkhV",
        "colab_type": "text"
      },
      "source": [
        "# **Fail2**\n",
        "This error was found to be a vanishing gradient problem which is usually solved by ReLU.\n",
        "The vanishing gradient problem arises due to the nature of the back-propagation optimization which occurs in neural network training . The weight and bias values in the various layers within a neural network are updated each optimization iteration by stepping in the direction of the gradient of the weight/bias values with respect to the loss function. The vanishing gradient problem is particularly problematic with sigmoid activation functions. This can occur when the weights of our networks are initialized poorly – with too-large negative and positive values. These too-large values saturate the input to the sigmoid and pushes the derivatives into the small valued regions."
      ]
    },
    {
      "cell_type": "code",
      "metadata": {
        "id": "ta4FGbAzgpcv",
        "colab_type": "code",
        "outputId": "493741ed-cbb0-42a3-d9ee-594da6a1e542",
        "colab": {
          "base_uri": "https://localhost:8080/",
          "height": 510
        }
      },
      "source": [
        "# define the model first, from input to output\n",
        "\n",
        "\n",
        "# this is a super deep model, cool!\n",
        "n_units = 100\n",
        "n_layers = 8\n",
        "w_range = 0.1\n",
        "\n",
        "# just set up a \"chain\" of hidden layers\n",
        "layers = []\n",
        "for layer in range(n_layers):\n",
        "    layers.append(tf.keras.layers.Dense( \n",
        "        n_units, activation=tf.nn.relu,\n",
        "        kernel_initializer=tf.initializers.RandomUniform(minval=-w_range,\n",
        "                                                         maxval=w_range),\n",
        "        bias_initializer=tf.initializers.constant(0.001)))\n",
        "\n",
        "# finally add the output layer\n",
        "layers.append(tf.keras.layers.Dense(\n",
        "    10, kernel_initializer=tf.initializers.RandomUniform(minval=-w_range,\n",
        "                                                         maxval=w_range)))\n",
        "accuracy=[]\n",
        "loss=[]\n",
        "lr = 0.1\n",
        "for step in range(2000):\n",
        "    img_batch, lbl_batch = mnist.next_batch()\n",
        "    with tf.GradientTape() as tape:\n",
        "        # here we just run all the layers in sequence via a for-loop\n",
        "        out = img_batch\n",
        "        for layer in layers:\n",
        "            out = layer(out)\n",
        "        xent = tf.reduce_mean(tf.nn.sparse_softmax_cross_entropy_with_logits(\n",
        "            logits=out, labels=lbl_batch))\n",
        "\n",
        "    weights = [var for l in layers for var in l.trainable_variables]\n",
        "    grads = tape.gradient(xent, weights)\n",
        "    for grad, var in zip(grads, weights):\n",
        "        var.assign_sub(lr*grad)\n",
        "\n",
        "    if not step % 100:\n",
        "        preds = tf.argmax(out, axis=1, output_type=tf.int32)\n",
        "        acc = tf.reduce_mean(tf.cast(tf.equal(preds, lbl_batch), tf.float32))\n",
        "        acc = tf.reduce_mean(tf.cast(tf.equal(preds, lbl_batch), tf.float32))\n",
        "        accuracy.append(acc)\n",
        "        loss.append(xent)\n",
        "        print(\"Loss: {} Accuracy: {}\".format(xent, acc))\n",
        "\n",
        "\n",
        "out = mnist.test_data\n",
        "for layer in layers:\n",
        "    out = layer(out)\n",
        "test_preds = tf.argmax(out, axis=1, output_type=tf.int32)\n",
        "acc = tf.reduce_mean(tf.cast(tf.equal(test_preds, mnist.test_labels), tf.float32))\n",
        "print(\"Final test accuracy: {}\".format(acc))\n"
      ],
      "execution_count": 32,
      "outputs": [
        {
          "output_type": "stream",
          "text": [
            "Loss: 2.302560329437256 Accuracy: 0.0625\n",
            "Loss: 2.3017725944519043 Accuracy: 0.09375\n",
            "Loss: 2.3024721145629883 Accuracy: 0.09765625\n",
            "Starting new epoch...\n",
            "Loss: 2.299838066101074 Accuracy: 0.11328125\n",
            "Loss: 2.2985033988952637 Accuracy: 0.11328125\n",
            "Starting new epoch...\n",
            "Loss: 2.3021488189697266 Accuracy: 0.109375\n",
            "Loss: 2.29785418510437 Accuracy: 0.11328125\n",
            "Starting new epoch...\n",
            "Loss: 2.2979800701141357 Accuracy: 0.12109375\n",
            "Loss: 2.2931742668151855 Accuracy: 0.11328125\n",
            "Loss: 2.2788357734680176 Accuracy: 0.125\n",
            "Starting new epoch...\n",
            "Loss: 1.9659931659698486 Accuracy: 0.2578125\n",
            "Loss: 1.7457234859466553 Accuracy: 0.296875\n",
            "Starting new epoch...\n",
            "Loss: 1.2692844867706299 Accuracy: 0.515625\n",
            "Loss: 1.0352996587753296 Accuracy: 0.59375\n",
            "Starting new epoch...\n",
            "Loss: 0.7558271288871765 Accuracy: 0.73828125\n",
            "Loss: 0.5208376049995422 Accuracy: 0.83203125\n",
            "Loss: 0.4194156527519226 Accuracy: 0.890625\n",
            "Starting new epoch...\n",
            "Loss: 0.5466054081916809 Accuracy: 0.85546875\n",
            "Loss: 0.5107297897338867 Accuracy: 0.8828125\n",
            "Starting new epoch...\n",
            "Loss: 0.27455341815948486 Accuracy: 0.9296875\n",
            "Final test accuracy: 0.9327999949455261\n"
          ],
          "name": "stdout"
        }
      ]
    },
    {
      "cell_type": "code",
      "metadata": {
        "id": "a8vP6U2pkDTT",
        "colab_type": "code",
        "outputId": "54184644-3758-4a17-fd9f-01956ce1aa85",
        "colab": {
          "base_uri": "https://localhost:8080/",
          "height": 530
        }
      },
      "source": [
        "plt.plot(accuracy)\n",
        "plt.figure()\n",
        "plt.plot(loss)"
      ],
      "execution_count": 33,
      "outputs": [
        {
          "output_type": "execute_result",
          "data": {
            "text/plain": [
              "[<matplotlib.lines.Line2D at 0x7fb8b79542b0>]"
            ]
          },
          "metadata": {
            "tags": []
          },
          "execution_count": 33
        },
        {
          "output_type": "display_data",
          "data": {
            "image/png": "[encoded data removed]",
            "text/plain": [
              "<Figure size 432x288 with 1 Axes>"
            ]
          },
          "metadata": {
            "tags": [],
            "needs_background": "light"
          }
        },
        {
          "output_type": "display_data",
          "data": {
            "image/png": "[encoded data removed]",
            "text/plain": [
              "<Figure size 432x288 with 1 Axes>"
            ]
          },
          "metadata": {
            "tags": [],
            "needs_background": "light"
          }
        }
      ]
    },
    {
      "cell_type": "markdown",
      "metadata": {
        "id": "_89w49AHniox",
        "colab_type": "text"
      },
      "source": [
        "# **Fail3**\n",
        "\n",
        "relu---> tanh   \n",
        "the tanh function is also lesser-used for hidden layers, although some specific models use the tanh function too. Some problems with the output needs of range -1 and 1 use tanh in the output node."
      ]
    },
    {
      "cell_type": "code",
      "metadata": {
        "id": "z4lA8meMnlPf",
        "colab_type": "code",
        "outputId": "8d9e7f30-f303-49e8-c38d-21016360bb5c",
        "colab": {
          "base_uri": "https://localhost:8080/",
          "height": 510
        }
      },
      "source": [
        "# define the model first, from input to output\n",
        "\n",
        "# let's use fewer layers...\n",
        "n_units = 100\n",
        "n_layers = 2\n",
        "\n",
        "# just set up a \"chain\" of hidden layers\n",
        "layers = []\n",
        "for layer in range(n_layers):\n",
        "    layers.append(tf.keras.layers.Dense(\n",
        "        n_units, activation=tf.nn.tanh,\n",
        "        kernel_initializer=tf.initializers.RandomUniform(minval=-0.01,\n",
        "                                                         maxval=0.),\n",
        "        bias_initializer=tf.initializers.constant(0.001)))\n",
        "\n",
        "# finally add the output layer\n",
        "layers.append(tf.keras.layers.Dense(\n",
        "    10, kernel_initializer=tf.initializers.RandomUniform(minval=-0.01,\n",
        "                                                         maxval=0.01)))\n",
        "accuracy=[]\n",
        "loss=[]\n",
        "lr = 0.1\n",
        "for step in range(2000):\n",
        "    img_batch, lbl_batch = mnist.next_batch()\n",
        "    with tf.GradientTape() as tape:\n",
        "        # here we just run all the layers in sequence via a for-loop\n",
        "        out = img_batch\n",
        "        for layer in layers:\n",
        "            out = layer(out)\n",
        "        xent = tf.reduce_mean(tf.nn.sparse_softmax_cross_entropy_with_logits(\n",
        "            logits=out, labels=lbl_batch))\n",
        "\n",
        "    weights = [var for l in layers for var in l.trainable_variables]\n",
        "    grads = tape.gradient(xent, weights)\n",
        "    for grad, var in zip(grads, weights):\n",
        "        var.assign_sub(lr*grad)\n",
        "\n",
        "    if not step % 100:\n",
        "        preds = tf.argmax(out, axis=1, output_type=tf.int32)\n",
        "        acc = tf.reduce_mean(tf.cast(tf.equal(preds, lbl_batch), tf.float32))\n",
        "        accuracy.append(acc)\n",
        "        loss.append(xent)\n",
        "        print(\"Loss: {} Accuracy: {}\".format(xent, acc))\n",
        "\n",
        "\n",
        "out = mnist.test_data\n",
        "for layer in layers:\n",
        "    out = layer(out)\n",
        "test_preds = tf.argmax(out, axis=1, output_type=tf.int32)\n",
        "acc = tf.reduce_mean(tf.cast(tf.equal(test_preds, mnist.test_labels), tf.float32))\n",
        "print(\"Final test accuracy: {}\".format(acc))"
      ],
      "execution_count": 24,
      "outputs": [
        {
          "output_type": "stream",
          "text": [
            "Loss: 2.3017003536224365 Accuracy: 0.1328125\n",
            "Loss: 2.1898269653320312 Accuracy: 0.203125\n",
            "Loss: 1.7943511009216309 Accuracy: 0.27734375\n",
            "Starting new epoch...\n",
            "Loss: 1.6510834693908691 Accuracy: 0.3125\n",
            "Loss: 1.5149434804916382 Accuracy: 0.453125\n",
            "Starting new epoch...\n",
            "Loss: 1.4579929113388062 Accuracy: 0.44140625\n",
            "Loss: 1.2694480419158936 Accuracy: 0.484375\n",
            "Starting new epoch...\n",
            "Loss: 1.0153653621673584 Accuracy: 0.6015625\n",
            "Loss: 0.8445215225219727 Accuracy: 0.75\n",
            "Loss: 0.7343859672546387 Accuracy: 0.77734375\n",
            "Starting new epoch...\n",
            "Loss: 0.5028834342956543 Accuracy: 0.859375\n",
            "Loss: 0.5328559875488281 Accuracy: 0.84765625\n",
            "Starting new epoch...\n",
            "Loss: 0.3644587993621826 Accuracy: 0.890625\n",
            "Loss: 0.3315804600715637 Accuracy: 0.91015625\n",
            "Loss: 0.39380723237991333 Accuracy: 0.890625\n",
            "Starting new epoch...\n",
            "Loss: 0.35360056161880493 Accuracy: 0.8984375\n",
            "Loss: 0.33387380838394165 Accuracy: 0.90625\n",
            "Starting new epoch...\n",
            "Loss: 0.3183617889881134 Accuracy: 0.9296875\n",
            "Loss: 0.30611610412597656 Accuracy: 0.9140625\n",
            "Starting new epoch...\n",
            "Loss: 0.337321937084198 Accuracy: 0.8984375\n",
            "Final test accuracy: 0.925599992275238\n"
          ],
          "name": "stdout"
        }
      ]
    },
    {
      "cell_type": "code",
      "metadata": {
        "id": "FIAcZU6yofm7",
        "colab_type": "code",
        "outputId": "2eb7cffb-d1cf-4b12-f9b9-e6c6f668413e",
        "colab": {
          "base_uri": "https://localhost:8080/",
          "height": 530
        }
      },
      "source": [
        "plt.plot(accuracy)\n",
        "plt.figure()\n",
        "plt.plot(loss)"
      ],
      "execution_count": 25,
      "outputs": [
        {
          "output_type": "execute_result",
          "data": {
            "text/plain": [
              "[<matplotlib.lines.Line2D at 0x7fb8b73e4438>]"
            ]
          },
          "metadata": {
            "tags": []
          },
          "execution_count": 25
        },
        {
          "output_type": "display_data",
          "data": {
            "image/png": "[encoded data removed]",
            "text/plain": [
              "<Figure size 432x288 with 1 Axes>"
            ]
          },
          "metadata": {
            "tags": [],
            "needs_background": "light"
          }
        },
        {
          "output_type": "display_data",
          "data": {
            "image/png": "[encoded data removed]",
            "text/plain": [
              "<Figure size 432x288 with 1 Axes>"
            ]
          },
          "metadata": {
            "tags": [],
            "needs_background": "light"
          }
        }
      ]
    },
    {
      "cell_type": "markdown",
      "metadata": {
        "id": "jMI4jRnkoqAU",
        "colab_type": "text"
      },
      "source": [
        "# **Fail4**\n",
        "Standard deviation"
      ]
    },
    {
      "cell_type": "code",
      "metadata": {
        "id": "MArM1_FbosN9",
        "colab_type": "code",
        "outputId": "22451a36-9966-494f-dad7-8ce40d1786db",
        "colab": {
          "base_uri": "https://localhost:8080/",
          "height": 527
        }
      },
      "source": [
        "# define the model first, from input to output\n",
        "\n",
        "# let's use fewer layers...\n",
        "n_units = 100\n",
        "n_layers = 2\n",
        "\n",
        "# just set up a \"chain\" of hidden layers\n",
        "layers = []\n",
        "for layer in range(n_layers):\n",
        "    layers.append(tf.keras.layers.Dense(\n",
        "        n_units, activation=tf.nn.relu,\n",
        "        kernel_initializer=tf.initializers.RandomUniform(minval=-0.01,\n",
        "                                                         maxval=0.01),\n",
        "        bias_initializer=tf.initializers.constant(0.001)))\n",
        "\n",
        "# finally add the output layer\n",
        "layers.append(tf.keras.layers.Dense(\n",
        "    10, kernel_initializer=tf.initializers.RandomUniform(minval=-0.01,\n",
        "                                                         maxval=0.01)))\n",
        "accuracy=[]\n",
        "loss=[]\n",
        "lr = 0.1\n",
        "for step in range(2000):\n",
        "    img_batch, lbl_batch = mnist.next_batch()\n",
        "    # I hear adding random noise to inputs helps with generalization!\n",
        "    img_batch = img_batch + tf.random.normal(tf.shape(img_batch), stddev=0)\n",
        "    with tf.GradientTape() as tape:\n",
        "        # here we just run all the layers in sequence via a for-loop\n",
        "        out = img_batch\n",
        "        for layer in layers:\n",
        "            out = layer(out)\n",
        "        xent = tf.reduce_mean(tf.nn.sparse_softmax_cross_entropy_with_logits(\n",
        "            logits=out, labels=lbl_batch))\n",
        "\n",
        "    weights = [var for l in layers for var in l.trainable_variables]\n",
        "    grads = tape.gradient(xent, weights)\n",
        "    for grad, var in zip(grads, weights):\n",
        "        var.assign_sub(lr*grad)\n",
        "\n",
        "    if not step % 100:\n",
        "        preds = tf.argmax(out, axis=1, output_type=tf.int32)\n",
        "        acc = tf.reduce_mean(tf.cast(tf.equal(preds, lbl_batch), tf.float32))\n",
        "        accuracy.append(acc)\n",
        "        loss.append(xent)\n",
        "        print(\"Loss: {} Accuracy: {}\".format(xent, acc))\n",
        "\n",
        "\n",
        "out = mnist.test_data\n",
        "for layer in layers:\n",
        "    out = layer(out)\n",
        "test_preds = tf.argmax(out, axis=1, output_type=tf.int32)\n",
        "acc = tf.reduce_mean(tf.cast(tf.equal(test_preds, mnist.test_labels), tf.float32))\n",
        "print(\"Final test accuracy: {}\".format(acc))\n"
      ],
      "execution_count": 26,
      "outputs": [
        {
          "output_type": "stream",
          "text": [
            "Loss: 2.3025898933410645 Accuracy: 0.08984375\n",
            "Loss: 2.3033506870269775 Accuracy: 0.07421875\n",
            "Starting new epoch...\n",
            "Loss: 2.3050894737243652 Accuracy: 0.1015625\n",
            "Loss: 2.3015761375427246 Accuracy: 0.10546875\n",
            "Starting new epoch...\n",
            "Loss: 2.297532081604004 Accuracy: 0.1328125\n",
            "Loss: 2.2851550579071045 Accuracy: 0.15625\n",
            "Starting new epoch...\n",
            "Loss: 1.6238198280334473 Accuracy: 0.42578125\n",
            "Loss: 0.7561625242233276 Accuracy: 0.734375\n",
            "Loss: 0.6886032819747925 Accuracy: 0.7890625\n",
            "Starting new epoch...\n",
            "Loss: 0.584841787815094 Accuracy: 0.83203125\n",
            "Loss: 0.6003267765045166 Accuracy: 0.82421875\n",
            "Starting new epoch...\n",
            "Loss: 0.5602169036865234 Accuracy: 0.8359375\n",
            "Loss: 0.49479374289512634 Accuracy: 0.84765625\n",
            "Starting new epoch...\n",
            "Loss: 0.4082978367805481 Accuracy: 0.86328125\n",
            "Loss: 0.3278926610946655 Accuracy: 0.90625\n",
            "Loss: 0.34562617540359497 Accuracy: 0.90234375\n",
            "Starting new epoch...\n",
            "Loss: 0.21082717180252075 Accuracy: 0.92578125\n",
            "Loss: 0.22490519285202026 Accuracy: 0.9375\n",
            "Starting new epoch...\n",
            "Loss: 0.29295140504837036 Accuracy: 0.91796875\n",
            "Loss: 0.27336299419403076 Accuracy: 0.921875\n",
            "Starting new epoch...\n",
            "Final test accuracy: 0.9264000058174133\n"
          ],
          "name": "stdout"
        }
      ]
    },
    {
      "cell_type": "code",
      "metadata": {
        "id": "rBrBiml7o1Xh",
        "colab_type": "code",
        "outputId": "bb1a752a-e989-4ad7-f794-e090f4543a35",
        "colab": {
          "base_uri": "https://localhost:8080/",
          "height": 530
        }
      },
      "source": [
        "plt.plot(accuracy)\n",
        "plt.figure()\n",
        "plt.plot(loss)"
      ],
      "execution_count": 27,
      "outputs": [
        {
          "output_type": "execute_result",
          "data": {
            "text/plain": [
              "[<matplotlib.lines.Line2D at 0x7fb8b7282ba8>]"
            ]
          },
          "metadata": {
            "tags": []
          },
          "execution_count": 27
        },
        {
          "output_type": "display_data",
          "data": {
            "image/png": "[encoded data removed]",
            "text/plain": [
              "<Figure size 432x288 with 1 Axes>"
            ]
          },
          "metadata": {
            "tags": [],
            "needs_background": "light"
          }
        },
        {
          "output_type": "display_data",
          "data": {
            "image/png": "[encoded data removed]",
            "text/plain": [
              "<Figure size 432x288 with 1 Axes>"
            ]
          },
          "metadata": {
            "tags": [],
            "needs_background": "light"
          }
        }
      ]
    },
    {
      "cell_type": "markdown",
      "metadata": {
        "id": "AVS5oQXRpgCt",
        "colab_type": "text"
      },
      "source": [
        "# **Fail5**"
      ]
    },
    {
      "cell_type": "code",
      "metadata": {
        "id": "DyvZ9eLXpnUC",
        "colab_type": "code",
        "outputId": "948e4e0b-1eb1-4e13-ca8f-c13a2c7e4339",
        "colab": {
          "base_uri": "https://localhost:8080/",
          "height": 510
        }
      },
      "source": [
        "# define the model first, from input to output\n",
        "\n",
        "# let's use fewer layers...\n",
        "n_units = 100\n",
        "n_layers = 2\n",
        "\n",
        "# just set up a \"chain\" of hidden layers\n",
        "layers = []\n",
        "for layer in range(n_layers):\n",
        "    layers.append(tf.keras.layers.Dense(\n",
        "        n_units, activation=tf.nn.relu,\n",
        "        kernel_initializer=tf.initializers.RandomUniform(minval=-0.01,\n",
        "                                                         maxval=0.01),\n",
        "        bias_initializer=tf.initializers.constant(0.001)))\n",
        "\n",
        "# finally add the softmax output layer :))\n",
        "layers.append(tf.keras.layers.Dense(\n",
        "    10, activation=tf.nn.softmax,\n",
        "    kernel_initializer=tf.initializers.RandomUniform(minval=-0.01,\n",
        "                                                     maxval=0.01)))\n",
        "accuracy=[]\n",
        "loss=[]\n",
        "lr = 0.1\n",
        "for step in range(2000):\n",
        "    img_batch, lbl_batch = mnist.next_batch()\n",
        "    with tf.GradientTape() as tape:\n",
        "        # here we just run all the layers in sequence via a for-loop\n",
        "        out = img_batch\n",
        "        for layer in layers:\n",
        "            out = layer(out)\n",
        "        xent = tf.reduce_mean(tf.nn.sparse_softmax_cross_entropy_with_logits(\n",
        "            logits=out, labels=lbl_batch))\n",
        "\n",
        "    weights = [var for l in layers for var in l.trainable_variables]\n",
        "    grads = tape.gradient(xent, weights)\n",
        "    for grad, var in zip(grads, weights):\n",
        "        var.assign_sub(lr*grad)\n",
        "\n",
        "    if not step % 100:\n",
        "        preds = tf.argmax(out, axis=1, output_type=tf.int32)\n",
        "        acc = tf.reduce_mean(tf.cast(tf.equal(preds, lbl_batch), tf.float32))\n",
        "        accuracy.append(acc)\n",
        "        loss.append(xent)\n",
        "        print(\"Loss: {} Accuracy: {}\".format(xent, acc))\n",
        "\n",
        "\n",
        "out = mnist.test_data\n",
        "for layer in layers:\n",
        "    out = layer(out)\n",
        "test_preds = tf.argmax(out, axis=1, output_type=tf.int32)\n",
        "acc = tf.reduce_mean(tf.cast(tf.equal(test_preds, mnist.test_labels), tf.float32))\n",
        "print(\"Final test accuracy: {}\".format(acc))"
      ],
      "execution_count": 28,
      "outputs": [
        {
          "output_type": "stream",
          "text": [
            "Loss: 2.3025870323181152 Accuracy: 0.109375\n",
            "Loss: 2.302570343017578 Accuracy: 0.1015625\n",
            "Loss: 2.302490711212158 Accuracy: 0.1328125\n",
            "Starting new epoch...\n",
            "Loss: 2.3024532794952393 Accuracy: 0.12109375\n",
            "Loss: 2.3026468753814697 Accuracy: 0.08203125\n",
            "Starting new epoch...\n",
            "Loss: 2.302151918411255 Accuracy: 0.1328125\n",
            "Loss: 2.302273750305176 Accuracy: 0.1328125\n",
            "Starting new epoch...\n",
            "Loss: 2.3026862144470215 Accuracy: 0.1015625\n",
            "Loss: 2.3025522232055664 Accuracy: 0.09375\n",
            "Loss: 2.301818370819092 Accuracy: 0.140625\n",
            "Starting new epoch...\n",
            "Loss: 2.302309989929199 Accuracy: 0.125\n",
            "Loss: 2.3024559020996094 Accuracy: 0.08984375\n",
            "Starting new epoch...\n",
            "Loss: 2.302917003631592 Accuracy: 0.0859375\n",
            "Loss: 2.3026838302612305 Accuracy: 0.10546875\n",
            "Starting new epoch...\n",
            "Loss: 2.3019442558288574 Accuracy: 0.12890625\n",
            "Loss: 2.301024913787842 Accuracy: 0.1484375\n",
            "Loss: 2.3020920753479004 Accuracy: 0.109375\n",
            "Starting new epoch...\n",
            "Loss: 2.301647424697876 Accuracy: 0.1328125\n",
            "Loss: 2.3014278411865234 Accuracy: 0.140625\n",
            "Starting new epoch...\n",
            "Loss: 2.301453113555908 Accuracy: 0.125\n",
            "Final test accuracy: 0.11349999904632568\n"
          ],
          "name": "stdout"
        }
      ]
    },
    {
      "cell_type": "code",
      "metadata": {
        "id": "xfDDR177ppqT",
        "colab_type": "code",
        "outputId": "8c4538ff-79e3-4ab1-846d-9c88f460f249",
        "colab": {
          "base_uri": "https://localhost:8080/",
          "height": 533
        }
      },
      "source": [
        "plt.plot(accuracy)\n",
        "plt.figure()\n",
        "plt.plot(loss)"
      ],
      "execution_count": 29,
      "outputs": [
        {
          "output_type": "execute_result",
          "data": {
            "text/plain": [
              "[<matplotlib.lines.Line2D at 0x7fb8b72a88d0>]"
            ]
          },
          "metadata": {
            "tags": []
          },
          "execution_count": 29
        },
        {
          "output_type": "display_data",
          "data": {
            "image/png": "[encoded data removed]",
            "text/plain": [
              "<Figure size 432x288 with 1 Axes>"
            ]
          },
          "metadata": {
            "tags": [],
            "needs_background": "light"
          }
        },
        {
          "output_type": "display_data",
          "data": {
            "image/png": "[encoded data removed]",
            "text/plain": [
              "<Figure size 432x288 with 1 Axes>"
            ]
          },
          "metadata": {
            "tags": [],
            "needs_background": "light"
          }
        }
      ]
    }
  ]
}